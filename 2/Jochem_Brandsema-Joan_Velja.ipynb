{
  "nbformat": 4,
  "nbformat_minor": 0,
  "metadata": {
    "colab": {
      "provenance": []
    },
    "kernelspec": {
      "name": "python3",
      "display_name": "Python 3"
    }
  },
  "cells": [
    {
      "cell_type": "markdown",
      "metadata": {
        "id": "jILqpPLlE9r0"
      },
      "source": [
        "# Practical 2: Representing Sentences with Neural Models"
      ]
    },
    {
      "cell_type": "markdown",
      "metadata": {
        "id": "8JXOZ5uhQ8Qq"
      },
      "source": [
        "In this second practical, we will train neural network models to obtain sentence representations. We can then use these sentence representations for a downstream task such as sentiment classification.\n",
        "\n",
        "In this notebook, we will help you to develop models for your experiments. But this time, next to completing the notebook, **you are expected to write a four-page scientific report with your findings**. Please still submit the notebook together with your scientific report so that we can reproduce your experiments. (Note: if you find it useful, you can split this notebook into multiple notebooks. If you do so, keep it mind that it should be possible for your TAs to reproduce the entire content of the notebooks without having to ask for clarifications or to copy and paste functions from one sub-notebook to another.) Make sure your code corresponds to the description you give in the report; we will deduct points if this is not the case.\n",
        "\n",
        "**Important!** The main purpose of this lab is for you to learn how to answer research questions by experimenting and then writing a scientific report.\n",
        "So you will be *judged by the quality of your report* but will lose points if your experiments are not reproducible.\n",
        "You can find the requirements for the report at the end of this notebook.\n",
        "\n",
        "\n",
        "### Data set\n",
        "We will use the [Stanford Sentiment Treebank](https://nlp.stanford.edu/sentiment/) (SST), which provides sentences, their binary tree structure, and fine-grained sentiment scores.\n",
        "This dataset is different from the one we used in the first practical.\n",
        "In Practical 1, a review consisted of several sentences, and we had one sentiment score for the whole review. Now, a review consists of a single sentence, and we have a sentiment score for each node in the binary tree that makes up the sentence, including the root node (i.e., we still have an overall sentiment score for the entire review). We will look at an example below.\n",
        "\n",
        "In the first part of this practical we will only make use of the sentence tokens whereas in the second part we will also exploit the tree structure that is provided by the SST.\n",
        "\n",
        "We will cover the following approaches:\n",
        "\n",
        "- Bag-of-words (BOW)\n",
        "- Continuous bag-of-words (CBOW)\n",
        "- Deep continuous bag-of-words (Deep CBOW)\n",
        "- LSTM\n",
        "- Tree-LSTM\n"
      ]
    },
    {
      "cell_type": "markdown",
      "metadata": {
        "id": "YbNKef3lymaj"
      },
      "source": [
        "## Preparing the data"
      ]
    },
    {
      "cell_type": "markdown",
      "metadata": {
        "id": "9jxTkpg59FlU"
      },
      "source": [
        "Let's first download the data set and take a look."
      ]
    },
    {
      "cell_type": "code",
      "metadata": {
        "id": "WZp53HmMP3F2"
      },
      "source": [
        "import re\n",
        "import random\n",
        "import time\n",
        "import math\n",
        "import numpy as np\n",
        "import nltk\n",
        "import matplotlib.pyplot as plt\n",
        "plt.style.use('default')"
      ],
      "execution_count": null,
      "outputs": []
    },
    {
      "cell_type": "code",
      "metadata": {
        "id": "TovFkDTgE_d6",
        "colab": {
          "base_uri": "https://localhost:8080/"
        },
        "outputId": "6f530cf3-1402-4c95-88f9-fe701551cef7"
      },
      "source": [
        "!wget http://nlp.stanford.edu/sentiment/trainDevTestTrees_PTB.zip\n",
        "!unzip trainDevTestTrees_PTB.zip"
      ],
      "execution_count": null,
      "outputs": [
        {
          "output_type": "stream",
          "name": "stdout",
          "text": [
            "--2023-12-13 19:27:51--  http://nlp.stanford.edu/sentiment/trainDevTestTrees_PTB.zip\n",
            "Resolving nlp.stanford.edu (nlp.stanford.edu)... 171.64.67.140\n",
            "Connecting to nlp.stanford.edu (nlp.stanford.edu)|171.64.67.140|:80... connected.\n",
            "HTTP request sent, awaiting response... 302 Found\n",
            "Location: https://nlp.stanford.edu/sentiment/trainDevTestTrees_PTB.zip [following]\n",
            "--2023-12-13 19:27:51--  https://nlp.stanford.edu/sentiment/trainDevTestTrees_PTB.zip\n",
            "Connecting to nlp.stanford.edu (nlp.stanford.edu)|171.64.67.140|:443... connected.\n",
            "HTTP request sent, awaiting response... 200 OK\n",
            "Length: 789539 (771K) [application/zip]\n",
            "Saving to: ‘trainDevTestTrees_PTB.zip’\n",
            "\n",
            "trainDevTestTrees_P 100%[===================>] 771.03K  1.05MB/s    in 0.7s    \n",
            "\n",
            "2023-12-13 19:27:52 (1.05 MB/s) - ‘trainDevTestTrees_PTB.zip’ saved [789539/789539]\n",
            "\n",
            "Archive:  trainDevTestTrees_PTB.zip\n",
            "   creating: trees/\n",
            "  inflating: trees/dev.txt           \n",
            "  inflating: trees/test.txt          \n",
            "  inflating: trees/train.txt         \n"
          ]
        }
      ]
    },
    {
      "cell_type": "code",
      "metadata": {
        "id": "0IpAphkBO5eW"
      },
      "source": [
        "# this function reads in a textfile and fixes an issue with \"\\\\\"\n",
        "def filereader(path):\n",
        "  with open(path, mode=\"r\", encoding=\"utf-8\") as f:\n",
        "    for line in f:\n",
        "      yield line.strip().replace(\"\\\\\",\"\")"
      ],
      "execution_count": null,
      "outputs": []
    },
    {
      "cell_type": "markdown",
      "metadata": {
        "id": "yP_jpquiprH8"
      },
      "source": [
        "Let's look at a data point. It is a **flattened binary tree**, with sentiment scores at every node, and words as the leaves (or *terminal nodes*)."
      ]
    },
    {
      "cell_type": "code",
      "metadata": {
        "id": "ylkIopm0QJML",
        "colab": {
          "base_uri": "https://localhost:8080/"
        },
        "outputId": "1a52d700-2747-42a2-d3aa-a0835a41e67a"
      },
      "source": [
        "s = next(filereader(\"trees/dev.txt\"))\n",
        "print(s)"
      ],
      "execution_count": null,
      "outputs": [
        {
          "output_type": "stream",
          "name": "stdout",
          "text": [
            "(3 (2 It) (4 (4 (2 's) (4 (3 (2 a) (4 (3 lovely) (2 film))) (3 (2 with) (4 (3 (3 lovely) (2 performances)) (2 (2 by) (2 (2 (2 Buy) (2 and)) (2 Accorsi))))))) (2 .)))\n"
          ]
        }
      ]
    },
    {
      "cell_type": "code",
      "metadata": {
        "id": "7_U7HTFwdrWt",
        "colab": {
          "base_uri": "https://localhost:8080/"
        },
        "outputId": "17242790-8813-4ae2-824c-ffa62f7d7902"
      },
      "source": [
        "# We can use NLTK to better visualise the tree structure of the sentence\n",
        "from nltk import Tree\n",
        "from nltk.treeprettyprinter import TreePrettyPrinter\n",
        "tree = Tree.fromstring(s)\n",
        "print(TreePrettyPrinter(tree))"
      ],
      "execution_count": null,
      "outputs": [
        {
          "output_type": "stream",
          "name": "stdout",
          "text": [
            "              3                                                                     \n",
            "  ____________|____________________                                                  \n",
            " |                                 4                                                \n",
            " |        _________________________|______________________________________________   \n",
            " |       4                                                                        | \n",
            " |    ___|______________                                                          |  \n",
            " |   |                  4                                                         | \n",
            " |   |         _________|__________                                               |  \n",
            " |   |        |                    3                                              | \n",
            " |   |        |               _____|______________________                        |  \n",
            " |   |        |              |                            4                       | \n",
            " |   |        |              |            ________________|_______                |  \n",
            " |   |        |              |           |                        2               | \n",
            " |   |        |              |           |                 _______|___            |  \n",
            " |   |        3              |           |                |           2           | \n",
            " |   |    ____|_____         |           |                |        ___|_____      |  \n",
            " |   |   |          4        |           3                |       2         |     | \n",
            " |   |   |     _____|___     |      _____|_______         |    ___|___      |     |  \n",
            " 2   2   2    3         2    2     3             2        2   2       2     2     2 \n",
            " |   |   |    |         |    |     |             |        |   |       |     |     |  \n",
            " It  's  a  lovely     film with lovely     performances  by Buy     and Accorsi  . \n",
            "\n"
          ]
        },
        {
          "output_type": "stream",
          "name": "stderr",
          "text": [
            "<ipython-input-5-6ab7e95feba4>:5: DeprecationWarning: \n",
            "    Class TreePrettyPrinter has been deprecated.  Import\n",
            "    `TreePrettyPrinter` using `from nltk.tree import\n",
            "    TreePrettyPrinter` instead.\n",
            "  print(TreePrettyPrinter(tree))\n"
          ]
        }
      ]
    },
    {
      "cell_type": "markdown",
      "metadata": {
        "id": "ekAWKsji9t93"
      },
      "source": [
        "The sentiment scores range from 0 (very negative) to 5 (very positive). Again, as you can see, every node in the tree is labeled with a sentiment score. For now, we will only use the score at the **root node**, i.e., the sentiment score for the complete sentence."
      ]
    },
    {
      "cell_type": "code",
      "metadata": {
        "id": "DKynLm0xPKr2",
        "colab": {
          "base_uri": "https://localhost:8080/"
        },
        "outputId": "1000c6d8-6028-449d-c280-70c19e52558b"
      },
      "source": [
        "# Let's first make a function that extracts the tokens (the leaves).\n",
        "\n",
        "def tokens_from_treestring(s):\n",
        "  \"\"\"extract the tokens from a sentiment tree\"\"\"\n",
        "  return re.sub(r\"\\([0-9] |\\)\", \"\", s).split()\n",
        "\n",
        "# let's try it on our example tree\n",
        "tokens = tokens_from_treestring(s)\n",
        "print(tokens)\n",
        "print(len(tokens))"
      ],
      "execution_count": null,
      "outputs": [
        {
          "output_type": "stream",
          "name": "stdout",
          "text": [
            "['It', \"'s\", 'a', 'lovely', 'film', 'with', 'lovely', 'performances', 'by', 'Buy', 'and', 'Accorsi', '.']\n",
            "13\n"
          ]
        }
      ]
    },
    {
      "cell_type": "markdown",
      "metadata": {
        "id": "B8vFkeqN-NLP"
      },
      "source": [
        "> *Warning: you could also parse a treestring using NLTK and ask it to return the leaves, but there seems to be an issue with NLTK not always correctly parsing the input, so do not rely on it.*"
      ]
    },
    {
      "cell_type": "code",
      "metadata": {
        "id": "Akr9K_Mv4dym"
      },
      "source": [
        "# We will also need the following function, but you can ignore this for now.\n",
        "# It is explained later on.\n",
        "\n",
        "SHIFT = 0\n",
        "REDUCE = 1\n",
        "\n",
        "\n",
        "def transitions_from_treestring(s):\n",
        "  s = re.sub(\"\\([0-5] ([^)]+)\\)\", \"0\", s)\n",
        "  s = re.sub(\"\\)\", \" )\", s)\n",
        "  s = re.sub(\"\\([0-4] \", \"\", s)\n",
        "  s = re.sub(\"\\([0-4] \", \"\", s)\n",
        "  s = re.sub(\"\\)\", \"1\", s)\n",
        "  return list(map(int, s.split()))"
      ],
      "execution_count": null,
      "outputs": []
    },
    {
      "cell_type": "code",
      "metadata": {
        "id": "mNtPdlwPgRat",
        "colab": {
          "base_uri": "https://localhost:8080/"
        },
        "outputId": "16fceae1-7cfd-45f1-9ad6-d2e9aef44bf7"
      },
      "source": [
        "# Now let's first see how large our data sets are.\n",
        "for path in (\"trees/train.txt\", \"trees/dev.txt\", \"trees/test.txt\"):\n",
        "  print(\"{:16s} {:4d}\".format(path, sum(1 for _ in filereader(path))))"
      ],
      "execution_count": null,
      "outputs": [
        {
          "output_type": "stream",
          "name": "stdout",
          "text": [
            "trees/train.txt  8544\n",
            "trees/dev.txt    1101\n",
            "trees/test.txt   2210\n"
          ]
        }
      ]
    },
    {
      "cell_type": "markdown",
      "metadata": {
        "id": "HexlSqTR_UrY"
      },
      "source": [
        "You can see that the number of sentences is not very large. That's probably because the data set required so much manual annotation. However, it is large enough to train a neural network on."
      ]
    },
    {
      "cell_type": "markdown",
      "metadata": {
        "id": "IfRjelOcsXuC"
      },
      "source": [
        "It will be useful to store each data example in an `Example` object,\n",
        "containing everything that we may need for each data point.\n",
        "It will contain the tokens, the tree, the top-level sentiment label, and\n",
        "the transitions (explained later)."
      ]
    },
    {
      "cell_type": "code",
      "metadata": {
        "id": "4I07Hb_-q8wg",
        "colab": {
          "base_uri": "https://localhost:8080/"
        },
        "outputId": "e8f05125-3b28-44ca-8f40-10e613e41772"
      },
      "source": [
        "from collections import namedtuple\n",
        "from nltk import Tree\n",
        "\n",
        "# A simple way to define a class is using namedtuple.\n",
        "Example = namedtuple(\"Example\", [\"tokens\", \"tree\", \"label\", \"transitions\"])\n",
        "\n",
        "\n",
        "def examplereader(path, lower=False):\n",
        "  \"\"\"Returns all examples in a file one by one.\"\"\"\n",
        "  for line in filereader(path):\n",
        "    line = line.lower() if lower else line\n",
        "    tokens = tokens_from_treestring(line)\n",
        "    tree = Tree.fromstring(line)  # use NLTK's Tree\n",
        "    label = int(line[1])\n",
        "    trans = transitions_from_treestring(line)\n",
        "    yield Example(tokens=tokens, tree=tree, label=label, transitions=trans)\n",
        "\n",
        "\n",
        "# Let's load the data into memory.\n",
        "LOWER = False  # we will keep the original casing\n",
        "train_data = list(examplereader(\"trees/train.txt\", lower=LOWER))\n",
        "dev_data = list(examplereader(\"trees/dev.txt\", lower=LOWER))\n",
        "test_data = list(examplereader(\"trees/test.txt\", lower=LOWER))\n",
        "\n",
        "print(\"train\", len(train_data))\n",
        "print(\"dev\", len(dev_data))\n",
        "print(\"test\", len(test_data))"
      ],
      "execution_count": null,
      "outputs": [
        {
          "output_type": "stream",
          "name": "stdout",
          "text": [
            "train 8544\n",
            "dev 1101\n",
            "test 2210\n"
          ]
        }
      ]
    },
    {
      "cell_type": "markdown",
      "metadata": {
        "id": "6KM0bDyeVZtP"
      },
      "source": [
        "Let's check out an `Example` object."
      ]
    },
    {
      "cell_type": "code",
      "metadata": {
        "id": "J8mwcaZwxP1c",
        "colab": {
          "base_uri": "https://localhost:8080/"
        },
        "outputId": "1fa8ff0a-2239-4c15-dab9-55f904b96770"
      },
      "source": [
        "example = dev_data[0]\n",
        "print(\"First example:\", example)\n",
        "print(\"First example tokens:\", example.tokens)\n",
        "print(\"First example label:\",  example.label)"
      ],
      "execution_count": null,
      "outputs": [
        {
          "output_type": "stream",
          "name": "stdout",
          "text": [
            "First example: Example(tokens=['It', \"'s\", 'a', 'lovely', 'film', 'with', 'lovely', 'performances', 'by', 'Buy', 'and', 'Accorsi', '.'], tree=Tree('3', [Tree('2', ['It']), Tree('4', [Tree('4', [Tree('2', [\"'s\"]), Tree('4', [Tree('3', [Tree('2', ['a']), Tree('4', [Tree('3', ['lovely']), Tree('2', ['film'])])]), Tree('3', [Tree('2', ['with']), Tree('4', [Tree('3', [Tree('3', ['lovely']), Tree('2', ['performances'])]), Tree('2', [Tree('2', ['by']), Tree('2', [Tree('2', [Tree('2', ['Buy']), Tree('2', ['and'])]), Tree('2', ['Accorsi'])])])])])])]), Tree('2', ['.'])])]), label=3, transitions=[0, 0, 0, 0, 0, 1, 1, 0, 0, 0, 1, 0, 0, 0, 1, 0, 1, 1, 1, 1, 1, 1, 0, 1, 1])\n",
            "First example tokens: ['It', \"'s\", 'a', 'lovely', 'film', 'with', 'lovely', 'performances', 'by', 'Buy', 'and', 'Accorsi', '.']\n",
            "First example label: 3\n"
          ]
        }
      ]
    },
    {
      "cell_type": "markdown",
      "metadata": {
        "id": "-WDSprDBVcr-"
      },
      "source": [
        "#### Vocabulary\n",
        "A first step in most NLP tasks is collecting all the word types that appear in the data into a vocabulary, and counting the frequency of their occurrences. On the one hand, this will give us an overview of the word distribution of the data set (what are the most frequent words, how many rare words are there, ...). On the other hand, we will also use the vocabulary to map each word to a unique numeric ID, which is a more handy index than a string."
      ]
    },
    {
      "cell_type": "code",
      "metadata": {
        "id": "VvNgKx7usRSt"
      },
      "source": [
        "# Here we first define a class that can map a word to an ID (w2i)\n",
        "# and back (i2w).\n",
        "\n",
        "from collections import Counter, OrderedDict, defaultdict\n",
        "\n",
        "\n",
        "class OrderedCounter(Counter, OrderedDict):\n",
        "  \"\"\"Counter that remembers the order elements are first seen\"\"\"\n",
        "  def __repr__(self):\n",
        "    return '%s(%r)' % (self.__class__.__name__,\n",
        "                      OrderedDict(self))\n",
        "  def __reduce__(self):\n",
        "    return self.__class__, (OrderedDict(self),)\n",
        "\n",
        "\n",
        "class Vocabulary:\n",
        "  \"\"\"A vocabulary, assigns IDs to tokens\"\"\"\n",
        "\n",
        "  def __init__(self):\n",
        "    self.freqs = OrderedCounter()\n",
        "    self.w2i = {}\n",
        "    self.i2w = []\n",
        "\n",
        "  def count_token(self, t):\n",
        "    self.freqs[t] += 1\n",
        "\n",
        "  def add_token(self, t):\n",
        "    self.w2i[t] = len(self.w2i)\n",
        "    self.i2w.append(t)\n",
        "\n",
        "  def build(self, min_freq=0):\n",
        "    '''\n",
        "    min_freq: minimum number of occurrences for a word to be included\n",
        "              in the vocabulary\n",
        "    '''\n",
        "    self.add_token(\"<unk>\")  # reserve 0 for <unk> (unknown words)\n",
        "    self.add_token(\"<pad>\")  # reserve 1 for <pad> (discussed later)\n",
        "\n",
        "    tok_freq = list(self.freqs.items())\n",
        "    tok_freq.sort(key=lambda x: x[1], reverse=True)\n",
        "    for tok, freq in tok_freq:\n",
        "      if freq >= min_freq:\n",
        "        self.add_token(tok)"
      ],
      "execution_count": null,
      "outputs": []
    },
    {
      "cell_type": "markdown",
      "metadata": {
        "id": "kOvkH_llVsoW"
      },
      "source": [
        "The vocabulary has by default an `<unk>` token and a `<pad>` token. The `<unk>` token is reserved for all words which do not appear in the training data (and for which, therefore, we cannot learn word representations). The function of the `<pad>` token will be explained later.\n",
        "\n",
        "\n",
        "Let's build the vocabulary!\n"
      ]
    },
    {
      "cell_type": "code",
      "metadata": {
        "id": "GwGQgQQBNUSq",
        "colab": {
          "base_uri": "https://localhost:8080/"
        },
        "outputId": "52a639cc-a5fa-4e3f-ba69-4804854c3194"
      },
      "source": [
        "# This process should be deterministic and should have the same result\n",
        "# if run multiple times on the same data set.\n",
        "\n",
        "v = Vocabulary()\n",
        "for data_set in (train_data,):\n",
        "  for ex in data_set:\n",
        "    for token in ex.tokens:\n",
        "      v.count_token(token)\n",
        "\n",
        "v.build()\n",
        "print(\"Vocabulary size:\", len(v.w2i))"
      ],
      "execution_count": null,
      "outputs": [
        {
          "output_type": "stream",
          "name": "stdout",
          "text": [
            "Vocabulary size: 18280\n"
          ]
        }
      ]
    },
    {
      "cell_type": "markdown",
      "metadata": {
        "id": "-UNIedPrPdCw"
      },
      "source": [
        "Let's have a closer look at the properties of our vocabulary. Having a good idea of what it is like can facilitate data analysis and debugging later on."
      ]
    },
    {
      "cell_type": "code",
      "metadata": {
        "id": "oJyuogmh0CA7",
        "colab": {
          "base_uri": "https://localhost:8080/"
        },
        "outputId": "73718af7-49da-4d1f-9f0b-d1c8db172ff3"
      },
      "source": [
        "# What is the ID for \"century?\"\n",
        "v.w2i['century']"
      ],
      "execution_count": null,
      "outputs": [
        {
          "output_type": "execute_result",
          "data": {
            "text/plain": [
              "1973"
            ]
          },
          "metadata": {},
          "execution_count": 92
        }
      ]
    },
    {
      "cell_type": "code",
      "metadata": {
        "id": "O8OkPQ8Zv-rI",
        "colab": {
          "base_uri": "https://localhost:8080/"
        },
        "outputId": "74e938e6-2acb-4497-b0f4-35efd4930a3f"
      },
      "source": [
        "# What are the first 10 words in the vocabulary (based on their IDs)?\n",
        "for i in range(10):\n",
        "  print(v.i2w[i])\n",
        "  #print(list(v.freqs.keys())[i])"
      ],
      "execution_count": null,
      "outputs": [
        {
          "output_type": "stream",
          "name": "stdout",
          "text": [
            "<unk>\n",
            "<pad>\n",
            ".\n",
            ",\n",
            "the\n",
            "and\n",
            "a\n",
            "of\n",
            "to\n",
            "'s\n"
          ]
        }
      ]
    },
    {
      "cell_type": "code",
      "metadata": {
        "id": "kmXwu02lOLWI",
        "colab": {
          "base_uri": "https://localhost:8080/"
        },
        "outputId": "9d9a3728-9c2d-434e-c6c5-6551791d4b7f"
      },
      "source": [
        "# What are the 10 most common words?\n",
        "for i in range(2, 12):\n",
        "  print(v.i2w[i])"
      ],
      "execution_count": null,
      "outputs": [
        {
          "output_type": "stream",
          "name": "stdout",
          "text": [
            ".\n",
            ",\n",
            "the\n",
            "and\n",
            "a\n",
            "of\n",
            "to\n",
            "'s\n",
            "is\n",
            "that\n"
          ]
        }
      ]
    },
    {
      "cell_type": "code",
      "metadata": {
        "id": "__NDPaCeOT_m",
        "colab": {
          "base_uri": "https://localhost:8080/"
        },
        "outputId": "b1597a13-ba2e-4e26-b25d-05cc92af4081"
      },
      "source": [
        "# And how many words are there with frequency 1?\n",
        "# (A fancy name for these is hapax legomena.)\n",
        "count = 0\n",
        "for token, freq in v.freqs.items():\n",
        "  if freq == 1:\n",
        "    count += 1\n",
        "print(count)"
      ],
      "execution_count": null,
      "outputs": [
        {
          "output_type": "stream",
          "name": "stdout",
          "text": [
            "9543\n"
          ]
        }
      ]
    },
    {
      "cell_type": "code",
      "metadata": {
        "id": "xKHocugctZGM",
        "colab": {
          "base_uri": "https://localhost:8080/"
        },
        "outputId": "6598cb4c-aea6-4bec-b6a0-17ae663ad68d"
      },
      "source": [
        "# Finally 20 random words from the vocabulary.\n",
        "# This is a simple way to get a feeling for the data.\n",
        "# You could use the `choice` function from the already imported `random` package\n",
        "random.sample(list(v.freqs.keys()), 20)"
      ],
      "execution_count": null,
      "outputs": [
        {
          "output_type": "execute_result",
          "data": {
            "text/plain": [
              "['luck',\n",
              " 'fixated',\n",
              " 'Seemingly',\n",
              " 'bitter',\n",
              " 'turd',\n",
              " 'discount',\n",
              " 'new',\n",
              " 'hallucinatory',\n",
              " 'smitten',\n",
              " 'colorfully',\n",
              " 'overrun',\n",
              " 'starring',\n",
              " 'Castro',\n",
              " 'celebrated',\n",
              " 'Shattering',\n",
              " 'enthusiastically',\n",
              " 'Hermitage',\n",
              " 'operative',\n",
              " 'neat',\n",
              " 'misanthropy']"
            ]
          },
          "metadata": {},
          "execution_count": 17
        }
      ]
    },
    {
      "cell_type": "markdown",
      "metadata": {
        "id": "nGWaZahKV_dH"
      },
      "source": [
        "#### Sentiment label vocabulary"
      ]
    },
    {
      "cell_type": "code",
      "metadata": {
        "id": "AmTC-rvQelpl",
        "colab": {
          "base_uri": "https://localhost:8080/"
        },
        "outputId": "6126df0f-dce1-4e37-fa59-fa420eb851fb"
      },
      "source": [
        "# Now let's map the sentiment labels 0-4 to a more readable form\n",
        "i2t = [\"very negative\", \"negative\", \"neutral\", \"positive\", \"very positive\"]\n",
        "print(i2t)\n",
        "print(i2t[4])"
      ],
      "execution_count": null,
      "outputs": [
        {
          "output_type": "stream",
          "name": "stdout",
          "text": [
            "['very negative', 'negative', 'neutral', 'positive', 'very positive']\n",
            "very positive\n"
          ]
        }
      ]
    },
    {
      "cell_type": "code",
      "metadata": {
        "id": "D7UI26DP2dr2",
        "colab": {
          "base_uri": "https://localhost:8080/"
        },
        "outputId": "9ad61e1f-2aae-40cf-ce89-0306b9e19b5c"
      },
      "source": [
        "# And let's also create the opposite mapping.\n",
        "# We won't use a Vocabulary for this (although we could), since the labels\n",
        "# are already numeric.\n",
        "t2i = OrderedDict({p : i for p, i in zip(i2t, range(len(i2t)))})\n",
        "print(t2i)\n",
        "print(t2i['very positive'])"
      ],
      "execution_count": null,
      "outputs": [
        {
          "output_type": "stream",
          "name": "stdout",
          "text": [
            "OrderedDict([('very negative', 0), ('negative', 1), ('neutral', 2), ('positive', 3), ('very positive', 4)])\n",
            "4\n"
          ]
        }
      ]
    },
    {
      "cell_type": "markdown",
      "metadata": {
        "id": "y0067ax54-rd"
      },
      "source": [
        "## PyTorch\n",
        "\n",
        "In Colab notebooks, the last available version of PyTorch is already installed.The current stable version is 1.7.\n",
        "\n",
        "*For installing PyTorch in your own computer, follow the instructions on [pytorch.org](pytorch.org) instead. This is for Google Colab only.*"
      ]
    },
    {
      "cell_type": "code",
      "metadata": {
        "id": "qKQMGtkR5KWr",
        "colab": {
          "base_uri": "https://localhost:8080/"
        },
        "outputId": "d15ce7ff-13dc-4cf2-a58c-effa4f12a882"
      },
      "source": [
        "import torch\n",
        "print(\"Using torch\", torch.__version__) # should say 1.7.0+cu101"
      ],
      "execution_count": null,
      "outputs": [
        {
          "output_type": "stream",
          "name": "stdout",
          "text": [
            "Using torch 2.1.0+cu118\n"
          ]
        }
      ]
    },
    {
      "cell_type": "code",
      "metadata": {
        "id": "mnvPcd_E1xH8"
      },
      "source": [
        "# Let's also import torch.nn, a PyTorch package that\n",
        "# makes building neural networks more convenient.\n",
        "from torch import nn"
      ],
      "execution_count": null,
      "outputs": []
    },
    {
      "cell_type": "code",
      "metadata": {
        "id": "BYt8uTyGCKc7",
        "colab": {
          "base_uri": "https://localhost:8080/"
        },
        "outputId": "d5368e78-dab4-406e-8ca3-33713e9b3b26"
      },
      "source": [
        "# PyTorch can run on CPU or on Nvidia GPU (video card) using CUDA\n",
        "# This cell selects the GPU if one is available.\n",
        "device = torch.device('cuda' if torch.cuda.is_available() else 'cpu')\n",
        "device"
      ],
      "execution_count": null,
      "outputs": [
        {
          "output_type": "execute_result",
          "data": {
            "text/plain": [
              "device(type='cuda')"
            ]
          },
          "metadata": {},
          "execution_count": 22
        }
      ]
    },
    {
      "cell_type": "code",
      "metadata": {
        "id": "2d1VMOOYx1Bw"
      },
      "source": [
        "# Seed manually to make runs reproducible\n",
        "# You need to set this again if you do multiple runs of the same model\n",
        "random.seed(42)\n",
        "np.random.seed(42)\n",
        "torch.manual_seed(42)\n",
        "\n",
        "# When running on the CuDNN backend two further options must be set for reproducibility\n",
        "if torch.cuda.is_available():\n",
        "  torch.cuda.manual_seed(42)\n",
        "  torch.cuda.manual_seed_all(42)\n",
        "  torch.backends.cudnn.deterministic = True\n",
        "  torch.backends.cudnn.benchmark = False"
      ],
      "execution_count": null,
      "outputs": []
    },
    {
      "cell_type": "markdown",
      "metadata": {
        "id": "uWBTzkuE3CtZ"
      },
      "source": [
        "# BOW"
      ]
    },
    {
      "cell_type": "markdown",
      "metadata": {
        "id": "TBAjYYySOA5W"
      },
      "source": [
        "Our first model is a rather simple neural **bag-of-words (BOW) model**.\n",
        "Unlike the bag-of-words model that you used in the previous lab, where we would look at the presence / frequency of words in a text, here we associate each word with a multi-dimensional vector which expresses what sentiment is conveyed by the word. In particular, our BOW vectors will be of size 5, exactly our number of sentiment classes.\n",
        "\n",
        "To classify a sentence, we **sum** the vectors of the words in the sentence and a bias vector. Because we sum the vectors, we lose word order: that's why we call this a neural bag-of-words model.\n",
        "\n",
        "```\n",
        "this   [0.0, 0.1, 0.1, 0.1, 0.0]\n",
        "movie  [0.0, 0.1, 0.1, 0.2, 0.1]\n",
        "is     [0.0, 0.1, 0.0, 0.0, 0.0]\n",
        "stupid [0.9, 0.5, 0.1, 0.0, 0.0]\n",
        "\n",
        "bias   [0.0, 0.0, 0.0, 0.0, 0.0]\n",
        "--------------------------------\n",
        "sum    [0.9, 0.8, 0.3, 0.3, 0.1]\n",
        "\n",
        "argmax: 0 (very negative)\n",
        "```\n",
        "\n",
        "The **argmax** of this sum is our predicted label.\n",
        "\n",
        "We initialize all vectors *randomly* and train them using cross-entropy loss."
      ]
    },
    {
      "cell_type": "markdown",
      "metadata": {
        "id": "rLtBAIQGynkB"
      },
      "source": [
        "#### Model class"
      ]
    },
    {
      "cell_type": "code",
      "metadata": {
        "id": "QZfNklWf3tvs"
      },
      "source": [
        "class BOW(nn.Module):\n",
        "  \"\"\"A simple bag-of-words model\"\"\"\n",
        "\n",
        "  def __init__(self, vocab_size, embedding_dim, vocab):\n",
        "    super(BOW, self).__init__()\n",
        "    self.vocab = vocab\n",
        "\n",
        "    # this is a trainable look-up table with word embeddings\n",
        "    self.embed = nn.Embedding(vocab_size, embedding_dim)\n",
        "\n",
        "    # this is a trainable bias term\n",
        "    self.bias = nn.Parameter(torch.zeros(embedding_dim), requires_grad=True)\n",
        "\n",
        "  def forward(self, inputs):\n",
        "    # this is the forward pass of the neural network\n",
        "    # it applies a function to the input and returns the output\n",
        "\n",
        "    # this looks up the embeddings for each word ID in inputs\n",
        "    # the result is a sequence of word embeddings\n",
        "    embeds = self.embed(inputs)\n",
        "\n",
        "    # the output is the sum across the time dimension (1)\n",
        "    # with the bias term added\n",
        "    logits = embeds.sum(1) + self.bias\n",
        "\n",
        "    return logits"
      ],
      "execution_count": null,
      "outputs": []
    },
    {
      "cell_type": "code",
      "metadata": {
        "id": "eKHvBnoBAr6z",
        "colab": {
          "base_uri": "https://localhost:8080/"
        },
        "outputId": "5a01cc65-c750-4a86-e055-4a5f6f58cbdc"
      },
      "source": [
        "# Let's create a model.\n",
        "vocab_size = len(v.w2i)\n",
        "n_classes = len(t2i)\n",
        "bow_model = BOW(vocab_size, n_classes, v)\n",
        "print(bow_model)"
      ],
      "execution_count": null,
      "outputs": [
        {
          "output_type": "stream",
          "name": "stdout",
          "text": [
            "BOW(\n",
            "  (embed): Embedding(18280, 5)\n",
            ")\n"
          ]
        }
      ]
    },
    {
      "cell_type": "markdown",
      "metadata": {
        "id": "vfCx-HvMH1qQ"
      },
      "source": [
        "> **Hey, wait, where is the bias vector?**\n",
        "> PyTorch does not print Parameters, only Modules!\n",
        "\n",
        "> We can print it ourselves though, to check that it is there."
      ]
    },
    {
      "cell_type": "code",
      "metadata": {
        "id": "Fhvk5HenAroT",
        "colab": {
          "base_uri": "https://localhost:8080/"
        },
        "outputId": "9d675e87-9c61-4d63-8e06-a87399a2f7d9"
      },
      "source": [
        "\n",
        "# Here we print each parameter name, shape, and if it is trainable.\n",
        "def print_parameters(model):\n",
        "  total = 0\n",
        "  for name, p in model.named_parameters():\n",
        "    total += np.prod(p.shape)\n",
        "    print(\"{:24s} {:12s} requires_grad={}\".format(name, str(list(p.shape)), p.requires_grad))\n",
        "  print(\"\\nTotal number of parameters: {}\\n\".format(total))\n",
        "\n",
        "\n",
        "print_parameters(bow_model)"
      ],
      "execution_count": null,
      "outputs": [
        {
          "output_type": "stream",
          "name": "stdout",
          "text": [
            "bias                     [5]          requires_grad=True\n",
            "embed.weight             [18280, 5]   requires_grad=True\n",
            "\n",
            "Total number of parameters: 91405\n",
            "\n"
          ]
        }
      ]
    },
    {
      "cell_type": "markdown",
      "metadata": {
        "id": "WSAw292WxuP4"
      },
      "source": [
        "#### Preparing an example for input\n",
        "\n",
        "To feed sentences to our PyTorch model, we need to convert a sequence of tokens to a sequence of IDs. The `prepare_example` function below takes care of this for us. We then use these IDs as indices for the word embedding table."
      ]
    },
    {
      "cell_type": "code",
      "metadata": {
        "id": "YWeGTC_OGReV"
      },
      "source": [
        "def prepare_example(example, vocab):\n",
        "  \"\"\"\n",
        "  Map tokens to their IDs for a single example\n",
        "  \"\"\"\n",
        "\n",
        "  # vocab returns 0 if the word is not there (i2w[0] = <unk>)\n",
        "  x = [vocab.w2i.get(t, 0) for t in example.tokens]\n",
        "\n",
        "  x = torch.LongTensor([x])\n",
        "  x = x.to(device)\n",
        "\n",
        "  y = torch.LongTensor([example.label])\n",
        "  y = y.to(device)\n",
        "\n",
        "  return x, y"
      ],
      "execution_count": null,
      "outputs": []
    },
    {
      "cell_type": "code",
      "metadata": {
        "id": "sfbdv9px3uFF",
        "colab": {
          "base_uri": "https://localhost:8080/"
        },
        "outputId": "a23be2ec-5039-4f9f-f069-8454355f4aea"
      },
      "source": [
        "x, y = prepare_example(dev_data[0], v)\n",
        "print('x:', x)\n",
        "print('y:', y)"
      ],
      "execution_count": null,
      "outputs": [
        {
          "output_type": "stream",
          "name": "stdout",
          "text": [
            "x: tensor([[  28,    9,    6,  998,   16,   18,  998,  135,   32, 7688,    5,    0,\n",
            "            2]], device='cuda:0')\n",
            "y: tensor([3], device='cuda:0')\n"
          ]
        }
      ]
    },
    {
      "cell_type": "markdown",
      "metadata": {
        "id": "oKNQjEc0yXnJ"
      },
      "source": [
        "#### Evaluation\n",
        "We now need to define an evaluation metric.\n",
        "How many predictions do we get right? The accuracy will tell us.\n",
        "Make sure that you understand this code block.\n"
      ]
    },
    {
      "cell_type": "code",
      "metadata": {
        "id": "yGmQLcVYKZsh"
      },
      "source": [
        "def simple_evaluate(model, data, prep_fn=prepare_example, **kwargs):\n",
        "  \"\"\"Accuracy of a model on given data set.\"\"\"\n",
        "  correct = 0\n",
        "  total = 0\n",
        "  model.eval()  # disable dropout (explained later)\n",
        "\n",
        "  for example in data:\n",
        "\n",
        "    # convert the example input and label to PyTorch tensors\n",
        "    x, target = prep_fn(example, model.vocab)\n",
        "\n",
        "    # forward pass without backpropagation (no_grad)\n",
        "    # get the output from the neural network for input x\n",
        "    with torch.no_grad():\n",
        "      logits = model(x)\n",
        "\n",
        "    # get the prediction\n",
        "    prediction = logits.argmax(dim=-1)\n",
        "\n",
        "    # add the number of correct predictions to the total correct\n",
        "    correct += (prediction == target).sum().item()\n",
        "    total += 1\n",
        "\n",
        "  return correct, total, correct / float(total)"
      ],
      "execution_count": null,
      "outputs": []
    },
    {
      "cell_type": "markdown",
      "metadata": {
        "id": "5KlIGFXllWWm"
      },
      "source": [
        "We are using accuracy as a handy evaluation metric. Please consider using [alternative metrics](https://scikit-learn.org/stable/modules/classes.html#classification-metrics) for your experiments if that makes more theoretical sense."
      ]
    },
    {
      "cell_type": "markdown",
      "metadata": {
        "id": "dIk6OtSdzGRP"
      },
      "source": [
        "#### Example feed\n",
        "For stochastic gradient descent (SGD) we will need a random training example for every update.\n",
        "We implement this by shuffling the training data and returning examples one by one using `yield`.\n",
        "\n",
        "Shuffling is optional so that we get to use this function to get validation and test examples, too."
      ]
    },
    {
      "cell_type": "code",
      "metadata": {
        "id": "dxDFOZLfCXvJ"
      },
      "source": [
        "def get_examples(data, shuffle=True, **kwargs):\n",
        "  \"\"\"Shuffle data set and return 1 example at a time (until nothing left)\"\"\"\n",
        "  if shuffle:\n",
        "    print(\"Shuffling training data\")\n",
        "    random.shuffle(data)  # shuffle training data each epoch\n",
        "  for example in data:\n",
        "    yield example"
      ],
      "execution_count": null,
      "outputs": []
    },
    {
      "cell_type": "markdown",
      "metadata": {
        "id": "g09SM8yb2cjx"
      },
      "source": [
        "#### Exercise: Training function\n",
        "\n",
        "Your task is now to complete the training loop below.\n",
        "Before you do so, please read the section about optimisation."
      ]
    },
    {
      "cell_type": "markdown",
      "metadata": {
        "id": "TVfUukVdM_1c"
      },
      "source": [
        "**Optimisation**\n",
        "\n",
        "As mentioned in the \"Intro to PyTorch\" notebook, one of the perks of using PyTorch is automatic differentiation. We will use it to train our BOW model.\n",
        "\n",
        "We train our model by feeding it an input, performing a **forward** pass, obtaining an output prediction, and calculating a **loss** with our loss function.\n",
        "After the gradients are computed in the **backward** pass, we can take a step on the surface of the loss function towards more optimal parameter settings (gradient descent).\n",
        "\n",
        "The package we will use to do this optimisation is [torch.optim](https://pytorch.org/docs/stable/optim.html)."
      ]
    },
    {
      "cell_type": "code",
      "metadata": {
        "id": "KhQigDrQ--YU"
      },
      "source": [
        "from torch import optim"
      ],
      "execution_count": null,
      "outputs": []
    },
    {
      "cell_type": "markdown",
      "metadata": {
        "id": "wGIvcTZU_Cez"
      },
      "source": [
        "Besides implementations of stochastic gradient descent (SGD), this package also implements the optimisation algorithm Adam, which we'll be using in this practical.\n",
        "For the purposes of this assignment you do not need to know what Adam does besides that it uses gradient information to update our model parameters by calling:\n",
        "\n",
        "```\n",
        "optimizer.step()\n",
        "```\n",
        "Remember when we updated our parameters in the PyTorch tutorial in a loop?\n",
        "\n",
        "\n",
        "```python\n",
        "# update weights\n",
        "learning_rate = 0.5\n",
        "for f in net.parameters():\n",
        "    # for each parameter, take a small step in the opposite dir of the gradient\n",
        "    p.data = p.data - p.grad.data * learning_rate\n",
        "\n",
        "```\n",
        "The function call optimizer.step() does effectively the same thing.\n",
        "\n",
        "*(If you want to know more about optimisation algorithms using gradient information, [this blog](http://ruder.io/optimizing-gradient-descent/.) gives a nice intuitive overview.)*"
      ]
    },
    {
      "cell_type": "code",
      "metadata": {
        "id": "ktFnKBux25lD"
      },
      "source": [
        "def train_model(model, optimizer, num_iterations=10000,\n",
        "                print_every=1000, eval_every=1000,\n",
        "                batch_fn=get_examples,\n",
        "                prep_fn=prepare_example,\n",
        "                eval_fn=simple_evaluate,\n",
        "                batch_size=1, eval_batch_size=None):\n",
        "  \"\"\"Train a model.\"\"\"\n",
        "  data_train = train_data.copy()\n",
        "  iter_i = 0\n",
        "  train_loss = 0.\n",
        "  print_num = 0\n",
        "  start = time.time()\n",
        "  criterion = nn.CrossEntropyLoss() # loss function\n",
        "  best_eval = 0.\n",
        "  best_iter = 0\n",
        "\n",
        "  # store train loss and validation accuracy during training\n",
        "  # so we can plot them afterwards\n",
        "  losses = []\n",
        "  accuracies = []\n",
        "\n",
        "  if eval_batch_size is None:\n",
        "    eval_batch_size = batch_size\n",
        "\n",
        "  while True:  # when we run out of examples, shuffle and continue\n",
        "    for batch in batch_fn(data_train, batch_size=batch_size):\n",
        "\n",
        "      # forward pass\n",
        "      model.train()\n",
        "      x, targets = prep_fn(batch, model.vocab)\n",
        "      logits = model(x)\n",
        "\n",
        "      B = targets.size(0)  # later we will use B examples per update\n",
        "\n",
        "      # compute cross-entropy loss (our criterion)\n",
        "      # note that the cross entropy loss function computes the softmax for us\n",
        "      loss = criterion(logits.view([B, -1]), targets.view(-1))\n",
        "      train_loss += loss.item()\n",
        "\n",
        "      # backward pass (tip: check the Introduction to PyTorch notebook)\n",
        "\n",
        "      # erase previous gradients\n",
        "      #raise NotImplementedError(\"Implement this\")\n",
        "      # YOUR CODE HERE\n",
        "      optimizer.zero_grad()\n",
        "\n",
        "      # compute gradients\n",
        "      # YOUR CODE HERE\n",
        "      loss.backward()\n",
        "\n",
        "      # update weights - take a small step in the opposite dir of the gradient\n",
        "      # YOUR CODE HERE\n",
        "      optimizer.step()\n",
        "\n",
        "      print_num += 1\n",
        "      iter_i += 1\n",
        "\n",
        "      # print info\n",
        "      if iter_i % print_every == 0:\n",
        "        print(\"Iter %r: loss=%.4f, time=%.2fs\" %\n",
        "              (iter_i, train_loss, time.time()-start))\n",
        "        losses.append(train_loss)\n",
        "        print_num = 0\n",
        "        train_loss = 0.\n",
        "\n",
        "      # evaluate\n",
        "      if iter_i % eval_every == 0:\n",
        "        _, _, accuracy = eval_fn(model, dev_data, batch_size=eval_batch_size,\n",
        "                                 batch_fn=batch_fn, prep_fn=prep_fn)\n",
        "        accuracies.append(accuracy)\n",
        "        print(\"iter %r: dev acc=%.4f\" % (iter_i, accuracy))\n",
        "\n",
        "        # save best model parameters\n",
        "        if accuracy > best_eval:\n",
        "          print(\"new highscore\")\n",
        "          best_eval = accuracy\n",
        "          best_iter = iter_i\n",
        "          path = \"{}.pt\".format(model.__class__.__name__)\n",
        "          ckpt = {\n",
        "              \"state_dict\": model.state_dict(),\n",
        "              \"optimizer_state_dict\": optimizer.state_dict(),\n",
        "              \"best_eval\": best_eval,\n",
        "              \"best_iter\": best_iter\n",
        "          }\n",
        "          torch.save(ckpt, path)\n",
        "\n",
        "      # done training\n",
        "      if iter_i == num_iterations:\n",
        "        print(\"Done training\")\n",
        "\n",
        "        # evaluate on train, dev, and test with best model\n",
        "        print(\"Loading best model\")\n",
        "        path = \"{}.pt\".format(model.__class__.__name__)\n",
        "        ckpt = torch.load(path)\n",
        "        model.load_state_dict(ckpt[\"state_dict\"])\n",
        "\n",
        "        _, _, train_acc = eval_fn(\n",
        "            model, data_train, batch_size=eval_batch_size,\n",
        "            batch_fn=batch_fn, prep_fn=prep_fn)\n",
        "        _, _, dev_acc = eval_fn(\n",
        "            model, dev_data, batch_size=eval_batch_size,\n",
        "            batch_fn=batch_fn, prep_fn=prep_fn)\n",
        "        _, _, test_acc = eval_fn(\n",
        "            model, test_data, batch_size=eval_batch_size,\n",
        "            batch_fn=batch_fn, prep_fn=prep_fn)\n",
        "\n",
        "        print(\"best model iter {:d}: \"\n",
        "              \"train acc={:.4f}, dev acc={:.4f}, test acc={:.4f}\".format(\n",
        "                  best_iter, train_acc, dev_acc, test_acc))\n",
        "\n",
        "        return losses, accuracies"
      ],
      "execution_count": null,
      "outputs": []
    },
    {
      "cell_type": "markdown",
      "metadata": {
        "id": "XEPsLvI-3D5b"
      },
      "source": [
        "### Training the BOW model"
      ]
    },
    {
      "cell_type": "code",
      "metadata": {
        "id": "9luJnNuN_d3q",
        "colab": {
          "base_uri": "https://localhost:8080/"
        },
        "outputId": "5d1e49a0-eb22-40ea-a153-a1c0573ce125"
      },
      "source": [
        "# If everything is in place we can now train our first model!\n",
        "bow_model = BOW(len(v.w2i), len(t2i), vocab=v)\n",
        "print(bow_model)\n",
        "\n",
        "bow_model = bow_model.to(device)\n",
        "\n",
        "optimizer = optim.Adam(bow_model.parameters(), lr=0.0005)\n",
        "bow_losses, bow_accuracies = train_model(\n",
        "    bow_model, optimizer, num_iterations=30000,\n",
        "    print_every=1000, eval_every=1000)"
      ],
      "execution_count": null,
      "outputs": [
        {
          "output_type": "stream",
          "name": "stdout",
          "text": [
            "BOW(\n",
            "  (embed): Embedding(18280, 5)\n",
            ")\n",
            "Shuffling training data\n",
            "Iter 1000: loss=5352.2510, time=1.34s\n",
            "iter 1000: dev acc=0.2198\n",
            "new highscore\n",
            "Iter 2000: loss=4674.6578, time=2.95s\n",
            "iter 2000: dev acc=0.2162\n",
            "Iter 3000: loss=4650.9460, time=4.54s\n",
            "iter 3000: dev acc=0.2271\n",
            "new highscore\n",
            "Iter 4000: loss=4436.5175, time=6.14s\n",
            "iter 4000: dev acc=0.2361\n",
            "new highscore\n",
            "Iter 5000: loss=4595.1018, time=7.87s\n",
            "iter 5000: dev acc=0.2398\n",
            "new highscore\n",
            "Iter 6000: loss=4280.2737, time=9.69s\n",
            "iter 6000: dev acc=0.2398\n",
            "Iter 7000: loss=4273.0593, time=11.45s\n",
            "iter 7000: dev acc=0.2470\n",
            "new highscore\n",
            "Iter 8000: loss=4153.5516, time=13.16s\n",
            "iter 8000: dev acc=0.2480\n",
            "new highscore\n",
            "Shuffling training data\n",
            "Iter 9000: loss=4137.8689, time=14.69s\n",
            "iter 9000: dev acc=0.2525\n",
            "new highscore\n",
            "Iter 10000: loss=4088.3183, time=16.19s\n",
            "iter 10000: dev acc=0.2561\n",
            "new highscore\n",
            "Iter 11000: loss=4155.4121, time=17.69s\n",
            "iter 11000: dev acc=0.2543\n",
            "Iter 12000: loss=3962.1691, time=19.18s\n",
            "iter 12000: dev acc=0.2534\n",
            "Iter 13000: loss=3994.0562, time=20.71s\n",
            "iter 13000: dev acc=0.2561\n",
            "Iter 14000: loss=3851.1274, time=22.24s\n",
            "iter 14000: dev acc=0.2579\n",
            "new highscore\n",
            "Iter 15000: loss=3542.4232, time=23.96s\n",
            "iter 15000: dev acc=0.2661\n",
            "new highscore\n",
            "Iter 16000: loss=3870.5176, time=25.66s\n",
            "iter 16000: dev acc=0.2661\n",
            "Iter 17000: loss=3532.1819, time=27.38s\n",
            "iter 17000: dev acc=0.2707\n",
            "new highscore\n",
            "Shuffling training data\n",
            "Iter 18000: loss=3643.4051, time=29.09s\n",
            "iter 18000: dev acc=0.2688\n",
            "Iter 19000: loss=3470.6236, time=30.56s\n",
            "iter 19000: dev acc=0.2716\n",
            "new highscore\n",
            "Iter 20000: loss=3553.5351, time=32.04s\n",
            "iter 20000: dev acc=0.2698\n",
            "Iter 21000: loss=3413.9385, time=33.57s\n",
            "iter 21000: dev acc=0.2707\n",
            "Iter 22000: loss=3364.3335, time=35.06s\n",
            "iter 22000: dev acc=0.2707\n",
            "Iter 23000: loss=3309.0922, time=36.58s\n",
            "iter 23000: dev acc=0.2716\n",
            "Iter 24000: loss=3257.6423, time=38.18s\n",
            "iter 24000: dev acc=0.2743\n",
            "new highscore\n",
            "Iter 25000: loss=3432.5398, time=39.92s\n",
            "iter 25000: dev acc=0.2788\n",
            "new highscore\n",
            "Shuffling training data\n",
            "Iter 26000: loss=3262.8091, time=41.63s\n",
            "iter 26000: dev acc=0.2825\n",
            "new highscore\n",
            "Iter 27000: loss=3198.0242, time=43.34s\n",
            "iter 27000: dev acc=0.2797\n",
            "Iter 28000: loss=3184.3034, time=44.87s\n",
            "iter 28000: dev acc=0.2779\n",
            "Iter 29000: loss=2961.3627, time=46.37s\n",
            "iter 29000: dev acc=0.2843\n",
            "new highscore\n",
            "Iter 30000: loss=3013.4442, time=47.88s\n",
            "iter 30000: dev acc=0.2879\n",
            "new highscore\n",
            "Done training\n",
            "Loading best model\n",
            "best model iter 30000: train acc=0.3233, dev acc=0.2879, test acc=0.2756\n"
          ]
        }
      ]
    },
    {
      "cell_type": "code",
      "metadata": {
        "id": "dvYLj8LIAzfS",
        "colab": {
          "base_uri": "https://localhost:8080/",
          "height": 430
        },
        "outputId": "e1730a3a-5c4c-4834-b82c-d34b56118fa2"
      },
      "source": [
        "# This will plot the validation accuracies across time.\n",
        "plt.plot(bow_accuracies);"
      ],
      "execution_count": null,
      "outputs": [
        {
          "output_type": "display_data",
          "data": {
            "text/plain": [
              "<Figure size 640x480 with 1 Axes>"
            ],
            "image/png": "[encoded data removed]"
          },
          "metadata": {}
        }
      ]
    },
    {
      "cell_type": "code",
      "metadata": {
        "id": "vUHm9JfSI4po",
        "colab": {
          "base_uri": "https://localhost:8080/",
          "height": 430
        },
        "outputId": "79eb0e41-bd07-45f1-dcda-ba078842fb64"
      },
      "source": [
        "# This will plot the training loss over time.\n",
        "plt.plot(bow_losses);"
      ],
      "execution_count": null,
      "outputs": [
        {
          "output_type": "display_data",
          "data": {
            "text/plain": [
              "<Figure size 640x480 with 1 Axes>"
            ],
            "image/png": "[encoded data removed]"
          },
          "metadata": {}
        }
      ]
    },
    {
      "cell_type": "markdown",
      "metadata": {
        "id": "Psxh-Le1BMDQ"
      },
      "source": [
        "Please note that we set the number of iterations to 30K as an indicative value, after which we simply stop training without checking for convergence. You should choose an appropriate number of iterations and motivate your decision. **This holds for all pre-set numbers of iteration in the following code blocks.**"
      ]
    },
    {
      "cell_type": "markdown",
      "metadata": {
        "id": "E9mB1_XhMPNN"
      },
      "source": [
        "# CBOW"
      ]
    },
    {
      "cell_type": "markdown",
      "metadata": {
        "id": "pWk78FvNMw4o"
      },
      "source": [
        "We now continue with a **continuous bag-of-words (CBOW)** model. (*This is not the same as the word2vec CBOW model!*)\n",
        "\n",
        "It is similar to the BOW model above, but now embeddings can have a dimension of *arbitrary size*.\n",
        "This means that we can choose a higher dimensionality and learn more aspects of each word. We will still sum word vectors to get a sentence representation, but now the size of the resulting vector will no longer correspond to the number of sentiment classes.\n",
        "\n",
        "So to turn the size of our summed vector into the number of output classes, we can *learn* a parameter matrix $W$ and multiply it by the sum vector $x$: $$Wx$$\n",
        "If the size of $x$ is `d x 1`, we can set $W$ to be `5 x d`, so that the output of the matrix multiplication will be the of the desired size, `5 x 1`. Then, just like for the BOW model, we can obtain a prediction using the argmax function."
      ]
    },
    {
      "cell_type": "markdown",
      "metadata": {
        "id": "gIjrCPfCwsXI"
      },
      "source": [
        "## Exercise: implement and train the CBOW model\n",
        "\n",
        "Write a class `CBOW` that:\n",
        "\n",
        "- has word embeddings with size 300\n",
        "- sums the word vectors for the input words (just like in `BOW`)\n",
        "- projects the resulting vector down to 5 units using a linear layer and a bias term (check out `nn.Linear`)\n",
        "\n",
        "Train your CBOW model and plot the validation accuracy and training loss over time."
      ]
    },
    {
      "cell_type": "code",
      "metadata": {
        "id": "PEV22aR2MP0Q"
      },
      "source": [
        "# YOUR CODE HERE\n",
        "class CBOW(nn.Module):\n",
        "  \"\"\"A continuous bag-of-words model\"\"\"\n",
        "\n",
        "  def __init__(self, vocab_size, embedding_dim, output_dim, vocab):\n",
        "    super(CBOW, self).__init__()\n",
        "    self.vocab = vocab\n",
        "\n",
        "    # this is a trainable look-up table with word embeddings\n",
        "    self.embed = nn.Embedding(vocab_size, embedding_dim)\n",
        "\n",
        "    # parameter matrix W and bias term\n",
        "    self.W = nn.Linear(embedding_dim, output_dim)\n",
        "\n",
        "  def forward(self, inputs):\n",
        "    # this is the forward pass of the neural network\n",
        "    # it applies a function to the input and returns the output\n",
        "\n",
        "    # this looks up the embeddings for each word ID in inputs\n",
        "    # the result is a sequence of word embeddings\n",
        "    embeds = self.embed(inputs)\n",
        "\n",
        "    # the output is the sum across the time dimension (1)\n",
        "    # followed by the linear layer\n",
        "    logits = self.W(embeds.sum(1))\n",
        "\n",
        "    return logits"
      ],
      "execution_count": null,
      "outputs": []
    },
    {
      "cell_type": "code",
      "source": [
        "embedding_size = 300\n",
        "cbow_model = CBOW(len(v.w2i), embedding_size, len(t2i), vocab=v)\n",
        "print(cbow_model)\n",
        "\n",
        "cbow_model = cbow_model.to(device)\n",
        "\n",
        "optimizer = optim.Adam(cbow_model.parameters(), lr=0.0005)\n",
        "cbow_losses, cbow_accuracies = train_model(\n",
        "    cbow_model, optimizer, num_iterations=30000,\n",
        "    print_every=1000, eval_every=1000)"
      ],
      "metadata": {
        "colab": {
          "base_uri": "https://localhost:8080/"
        },
        "id": "aV-uk7wVP9er",
        "outputId": "d09f71bf-53c9-4618-8a4c-1349e55bcfbe"
      },
      "execution_count": null,
      "outputs": [
        {
          "output_type": "stream",
          "name": "stdout",
          "text": [
            "CBOW(\n",
            "  (embed): Embedding(18280, 300)\n",
            "  (W): Linear(in_features=300, out_features=5, bias=True)\n",
            ")\n",
            "Shuffling training data\n",
            "Iter 1000: loss=2774.2595, time=3.58s\n",
            "iter 1000: dev acc=0.2779\n",
            "new highscore\n",
            "Iter 2000: loss=2217.3367, time=7.16s\n",
            "iter 2000: dev acc=0.2670\n",
            "Iter 3000: loss=2107.3281, time=10.26s\n",
            "iter 3000: dev acc=0.2952\n",
            "new highscore\n",
            "Iter 4000: loss=2041.7291, time=13.48s\n",
            "iter 4000: dev acc=0.2807\n",
            "Iter 5000: loss=1888.9268, time=16.57s\n",
            "iter 5000: dev acc=0.2897\n",
            "Iter 6000: loss=1885.4406, time=19.88s\n",
            "iter 6000: dev acc=0.3134\n",
            "new highscore\n",
            "Iter 7000: loss=1852.3080, time=24.13s\n",
            "iter 7000: dev acc=0.2952\n",
            "Iter 8000: loss=1804.0088, time=27.23s\n",
            "iter 8000: dev acc=0.3224\n",
            "new highscore\n",
            "Shuffling training data\n",
            "Iter 9000: loss=1797.0248, time=30.47s\n",
            "iter 9000: dev acc=0.2716\n",
            "Iter 10000: loss=1591.7256, time=33.63s\n",
            "iter 10000: dev acc=0.2407\n",
            "Iter 11000: loss=1627.9685, time=36.99s\n",
            "iter 11000: dev acc=0.2698\n",
            "Iter 12000: loss=1643.7820, time=40.22s\n",
            "iter 12000: dev acc=0.3043\n",
            "Iter 13000: loss=1688.0445, time=43.33s\n",
            "iter 13000: dev acc=0.2843\n",
            "Iter 14000: loss=1578.5380, time=46.44s\n",
            "iter 14000: dev acc=0.3143\n",
            "Iter 15000: loss=1557.0851, time=49.61s\n",
            "iter 15000: dev acc=0.3061\n",
            "Iter 16000: loss=1633.1814, time=53.05s\n",
            "iter 16000: dev acc=0.3143\n",
            "Iter 17000: loss=1637.8493, time=56.29s\n",
            "iter 17000: dev acc=0.2797\n",
            "Shuffling training data\n",
            "Iter 18000: loss=1289.4981, time=59.38s\n",
            "iter 18000: dev acc=0.3025\n",
            "Iter 19000: loss=1284.3652, time=62.47s\n",
            "iter 19000: dev acc=0.3088\n",
            "Iter 20000: loss=1292.7767, time=65.69s\n",
            "iter 20000: dev acc=0.2916\n",
            "Iter 21000: loss=1312.7891, time=69.06s\n",
            "iter 21000: dev acc=0.3324\n",
            "new highscore\n",
            "Iter 22000: loss=1364.0199, time=72.35s\n",
            "iter 22000: dev acc=0.3061\n",
            "Iter 23000: loss=1344.7644, time=75.45s\n",
            "iter 23000: dev acc=0.3370\n",
            "new highscore\n",
            "Iter 24000: loss=1280.9770, time=78.72s\n",
            "iter 24000: dev acc=0.3134\n",
            "Iter 25000: loss=1363.5128, time=82.10s\n",
            "iter 25000: dev acc=0.3397\n",
            "new highscore\n",
            "Shuffling training data\n",
            "Iter 26000: loss=1165.6938, time=85.99s\n",
            "iter 26000: dev acc=0.3261\n",
            "Iter 27000: loss=881.8814, time=89.43s\n",
            "iter 27000: dev acc=0.3115\n",
            "Iter 28000: loss=983.0372, time=92.62s\n",
            "iter 28000: dev acc=0.3188\n",
            "Iter 29000: loss=1005.8912, time=95.70s\n",
            "iter 29000: dev acc=0.3415\n",
            "new highscore\n",
            "Iter 30000: loss=1057.5339, time=98.97s\n",
            "iter 30000: dev acc=0.3215\n",
            "Done training\n",
            "Loading best model\n",
            "best model iter 29000: train acc=0.6929, dev acc=0.3415, test acc=0.3471\n"
          ]
        }
      ]
    },
    {
      "cell_type": "code",
      "source": [
        "# This will plot the validation accuracies across time.\n",
        "plt.plot(cbow_accuracies);"
      ],
      "metadata": {
        "colab": {
          "base_uri": "https://localhost:8080/",
          "height": 430
        },
        "id": "KVwSMTw4QVU-",
        "outputId": "c1918b33-9bba-4a55-ba7f-76a1a3479905"
      },
      "execution_count": null,
      "outputs": [
        {
          "output_type": "display_data",
          "data": {
            "text/plain": [
              "<Figure size 640x480 with 1 Axes>"
            ],
            "image/png": "[encoded data removed]"
          },
          "metadata": {}
        }
      ]
    },
    {
      "cell_type": "code",
      "source": [
        "# This will plot the training loss over time.\n",
        "plt.plot(cbow_losses);"
      ],
      "metadata": {
        "colab": {
          "base_uri": "https://localhost:8080/",
          "height": 430
        },
        "id": "YThoj5D7QXpP",
        "outputId": "567ada88-1dd7-4f25-f50c-993e71b62751"
      },
      "execution_count": null,
      "outputs": [
        {
          "output_type": "display_data",
          "data": {
            "text/plain": [
              "<Figure size 640x480 with 1 Axes>"
            ],
            "image/png": "[encoded data removed]"
          },
          "metadata": {}
        }
      ]
    },
    {
      "cell_type": "markdown",
      "metadata": {
        "id": "zpFt_Fo2TdN0"
      },
      "source": [
        "# Deep CBOW"
      ]
    },
    {
      "cell_type": "markdown",
      "metadata": {
        "id": "iZanOMesTfEZ"
      },
      "source": [
        "To see if we can squeeze some more performance out of the CBOW model, we can make it deeper and non-linear by adding more layers and, e.g., tanh-activations.\n",
        "By using more parameters we can learn more aspects of the data, and by using more layers and non-linearities, we can try to learn a more complex function.\n",
        "This is not something that always works. If the input-output mapping of your data is simple, then a complicated function could easily overfit on your training set, thereby leading to poor generalization.\n",
        "\n",
        "#### Exercise: write Deep CBOW class and train it\n",
        "\n",
        "Write a class `DeepCBOW`.\n",
        "\n",
        "In your code, make sure that your `output_layer` consists of the following:\n",
        "- A linear transformation from E units to D units.\n",
        "- A Tanh activation\n",
        "- A linear transformation from D units to D units\n",
        "- A Tanh activation\n",
        "- A linear transformation from D units to 5 units (our output classes).\n",
        "\n",
        "E is the size of the word embeddings (please use E=300) and D for the size of a hidden layer (please use D=100).\n",
        "\n",
        "We recommend using [nn.Sequential](https://pytorch.org/docs/stable/nn.html?highlight=sequential#torch.nn.Sequential) to implement this exercise."
      ]
    },
    {
      "cell_type": "code",
      "metadata": {
        "id": "l8Z1igvpTrZq"
      },
      "source": [
        "# YOUR CODE HERE\n",
        "class DeepCBOW(nn.Module):\n",
        "  \"\"\"A deep continuous bag-of-words model\"\"\"\n",
        "\n",
        "  def __init__(self, vocab_size, embedding_dim, hidden_dim, output_dim, vocab):\n",
        "    super(DeepCBOW, self).__init__()\n",
        "    self.vocab = vocab\n",
        "\n",
        "    # this is a trainable look-up table with word embeddings\n",
        "    self.embed = nn.Embedding(vocab_size, embedding_dim)\n",
        "\n",
        "    # linear transformations and non-linear activation functions\n",
        "    self.output_layer = nn.Sequential(\n",
        "        nn.Linear(embedding_dim, hidden_dim),\n",
        "        nn.Tanh(),\n",
        "        nn.Linear(hidden_dim, hidden_dim),\n",
        "        nn.Tanh(),\n",
        "        nn.Linear(hidden_dim, output_dim)\n",
        "    )\n",
        "\n",
        "  def forward(self, inputs):\n",
        "    # this is the forward pass of the neural network\n",
        "    # it applies a function to the input and returns the output\n",
        "\n",
        "    # this looks up the embeddings for each word ID in inputs\n",
        "    # the result is a sequence of word embeddings\n",
        "    embeds = self.embed(inputs)\n",
        "\n",
        "    # the output is the sum across the time dimension (1)\n",
        "    # followed by the output layers\n",
        "    logits = self.output_layer(embeds.sum(1))\n",
        "\n",
        "    return logits"
      ],
      "execution_count": null,
      "outputs": []
    },
    {
      "cell_type": "code",
      "source": [
        "hidden_size = 100\n",
        "deep_cbow_model = DeepCBOW(len(v.w2i), embedding_size, hidden_size, len(t2i), v)\n",
        "print(deep_cbow_model)\n",
        "\n",
        "deep_cbow_model = deep_cbow_model.to(device)\n",
        "\n",
        "optimizer = optim.Adam(deep_cbow_model.parameters(), lr=0.0005)\n",
        "deep_cbow_losses, deep_cbow_accuracies = train_model(\n",
        "    deep_cbow_model, optimizer, num_iterations=30000,\n",
        "    print_every=1000, eval_every=1000)"
      ],
      "metadata": {
        "colab": {
          "base_uri": "https://localhost:8080/"
        },
        "id": "mJrPrCASWWNQ",
        "outputId": "2f23d179-d014-43a8-933c-60eb5377c97c"
      },
      "execution_count": null,
      "outputs": [
        {
          "output_type": "stream",
          "name": "stdout",
          "text": [
            "DeepCBOW(\n",
            "  (embed): Embedding(18280, 300)\n",
            "  (output_layer): Sequential(\n",
            "    (0): Linear(in_features=300, out_features=100, bias=True)\n",
            "    (1): Tanh()\n",
            "    (2): Linear(in_features=100, out_features=100, bias=True)\n",
            "    (3): Tanh()\n",
            "    (4): Linear(in_features=100, out_features=5, bias=True)\n",
            "  )\n",
            ")\n",
            "Shuffling training data\n",
            "Iter 1000: loss=1577.7398, time=3.20s\n",
            "iter 1000: dev acc=0.2843\n",
            "new highscore\n",
            "Iter 2000: loss=1569.1040, time=6.92s\n",
            "iter 2000: dev acc=0.2816\n",
            "Iter 3000: loss=1552.2134, time=10.61s\n",
            "iter 3000: dev acc=0.2916\n",
            "new highscore\n",
            "Iter 4000: loss=1541.1899, time=14.88s\n",
            "iter 4000: dev acc=0.3179\n",
            "new highscore\n",
            "Iter 5000: loss=1557.5202, time=18.64s\n",
            "iter 5000: dev acc=0.2761\n",
            "Iter 6000: loss=1504.2665, time=22.22s\n",
            "iter 6000: dev acc=0.3252\n",
            "new highscore\n",
            "Iter 7000: loss=1490.8295, time=26.37s\n",
            "iter 7000: dev acc=0.3370\n",
            "new highscore\n",
            "Iter 8000: loss=1507.0296, time=30.57s\n",
            "iter 8000: dev acc=0.3206\n",
            "Shuffling training data\n",
            "Iter 9000: loss=1432.8150, time=34.17s\n",
            "iter 9000: dev acc=0.3351\n",
            "Iter 10000: loss=1369.0002, time=37.73s\n",
            "iter 10000: dev acc=0.3442\n",
            "new highscore\n",
            "Iter 11000: loss=1382.2546, time=41.53s\n",
            "iter 11000: dev acc=0.3061\n",
            "Iter 12000: loss=1346.4954, time=45.60s\n",
            "iter 12000: dev acc=0.3524\n",
            "new highscore\n",
            "Iter 13000: loss=1363.9744, time=49.46s\n",
            "iter 13000: dev acc=0.3397\n",
            "Iter 14000: loss=1355.0834, time=52.99s\n",
            "iter 14000: dev acc=0.3479\n",
            "Iter 15000: loss=1333.6284, time=56.59s\n",
            "iter 15000: dev acc=0.3406\n",
            "Iter 16000: loss=1349.8453, time=60.63s\n",
            "iter 16000: dev acc=0.3515\n",
            "Iter 17000: loss=1338.3919, time=64.37s\n",
            "iter 17000: dev acc=0.3560\n",
            "new highscore\n",
            "Shuffling training data\n",
            "Iter 18000: loss=1172.0000, time=68.08s\n",
            "iter 18000: dev acc=0.3470\n",
            "Iter 19000: loss=1189.7504, time=71.63s\n",
            "iter 19000: dev acc=0.3624\n",
            "new highscore\n",
            "Iter 20000: loss=1167.1662, time=75.84s\n",
            "iter 20000: dev acc=0.3460\n",
            "Iter 21000: loss=1197.5696, time=79.57s\n",
            "iter 21000: dev acc=0.3506\n",
            "Iter 22000: loss=1172.9208, time=83.09s\n",
            "iter 22000: dev acc=0.3515\n",
            "Iter 23000: loss=1163.5020, time=86.69s\n",
            "iter 23000: dev acc=0.3297\n",
            "Iter 24000: loss=1155.6525, time=90.67s\n",
            "iter 24000: dev acc=0.3579\n",
            "Iter 25000: loss=1172.9483, time=94.52s\n",
            "iter 25000: dev acc=0.3533\n",
            "Shuffling training data\n",
            "Iter 26000: loss=1140.8060, time=98.09s\n",
            "iter 26000: dev acc=0.3442\n",
            "Iter 27000: loss=979.1395, time=101.65s\n",
            "iter 27000: dev acc=0.3533\n",
            "Iter 28000: loss=974.8868, time=105.51s\n",
            "iter 28000: dev acc=0.3470\n",
            "Iter 29000: loss=1041.6780, time=109.38s\n",
            "iter 29000: dev acc=0.3361\n",
            "Iter 30000: loss=1017.0703, time=112.94s\n",
            "iter 30000: dev acc=0.3379\n",
            "Done training\n",
            "Loading best model\n",
            "best model iter 19000: train acc=0.5487, dev acc=0.3624, test acc=0.3471\n"
          ]
        }
      ]
    },
    {
      "cell_type": "code",
      "source": [
        "# This will plot the validation accuracies across time.\n",
        "plt.plot(deep_cbow_accuracies);"
      ],
      "metadata": {
        "colab": {
          "base_uri": "https://localhost:8080/",
          "height": 430
        },
        "id": "TCNWAGAZW2kx",
        "outputId": "af0e2ce0-71c4-441f-a25e-f4e05315b3b8"
      },
      "execution_count": null,
      "outputs": [
        {
          "output_type": "display_data",
          "data": {
            "text/plain": [
              "<Figure size 640x480 with 1 Axes>"
            ],
            "image/png": "[encoded data removed]"
          },
          "metadata": {}
        }
      ]
    },
    {
      "cell_type": "code",
      "source": [
        "# This will plot the training loss over time.\n",
        "plt.plot(deep_cbow_losses);"
      ],
      "metadata": {
        "colab": {
          "base_uri": "https://localhost:8080/",
          "height": 431
        },
        "id": "tcMO3wdUW8FB",
        "outputId": "ac5ddf9a-e09f-465f-c846-e1044bf20231"
      },
      "execution_count": null,
      "outputs": [
        {
          "output_type": "display_data",
          "data": {
            "text/plain": [
              "<Figure size 640x480 with 1 Axes>"
            ],
            "image/png": "[encoded data removed]"
          },
          "metadata": {}
        }
      ]
    },
    {
      "cell_type": "markdown",
      "metadata": {
        "id": "MQZ5flHwiiHY"
      },
      "source": [
        "# Pre-trained word embeddings"
      ]
    },
    {
      "cell_type": "markdown",
      "metadata": {
        "id": "9NX35vecmHy6"
      },
      "source": [
        "The Stanford Sentiment Treebank is a rather small data set, since it required fine-grained manual annotatation. This makes it difficult for the Deep CBOW model to learn good word embeddings, i.e. to learn good word representations for the words in our vocabulary.\n",
        "In fact, the only error signal that the network receives is from predicting the sentiment of entire sentences!\n",
        "\n",
        "To start off with better word representations, we can download **pre-trained word embeddings**.\n",
        "You can choose which pre-trained word embeddings to use:\n",
        "\n",
        "- **GloVe**. The \"original\" Stanford Sentiment classification [paper](http://aclweb.org/anthology/P/P15/P15-1150.pdf) used Glove embeddings, which are just another method (like *word2vec*) to get word embeddings from unannotated text. Glove is described in the following paper which you should cite if you use them:\n",
        "> Jeffrey Pennington, Richard Socher, and Christopher Manning. [\"Glove: Global vectors for word representation.\"](https://nlp.stanford.edu/pubs/glove.pdf) EMNLP 2014.\n",
        "\n",
        "- **Word2Vec**. This is the method that you learned about in class, described in:\n",
        "> Mikolov, Tomas, et al. [\"Distributed representations of words and phrases and their compositionality.\"](https://papers.nips.cc/paper/5021-distributed-representations-of-words-and-phrases-and-their-compositionality.pdf) Advances in neural information processing systems. 2013.\n",
        "\n",
        "Using these pre-trained word embeddings, we can initialize our word embedding lookup table and start form a point where similar words are already close to one another in the distributional semantic space.\n",
        "\n",
        "You can choose to keep the word embeddings **fixed** or to train them further, specialising them to the task at hand.\n",
        "We will keep them fixed for now.\n",
        "\n",
        "For the purposes of this lab, it is enough if you understand how word2vec works (whichever vectors you use), but if you are interested, we encourage you to also check out the GloVe paper.\n",
        "\n",
        "You can either download the word2vec vectors, or the Glove vectors.\n",
        "If you want to compare your results to the Stanford paper later on, then you should use Glove.\n",
        "**At the end of this lab you have the option to compare which vectors give you the best performance. For now, simply choose one of them and continue with that.**\n",
        "\n",
        "[**OPTIONAL in case you don't want to mount Google Drive:** instead of running all the 5 boxes below, you can 1) download the GloVe and word2vec in your local machine, 2) upload them on your Drive folder (\"My Drive\"). Then, uncomment the first 2 lines in box 6 before writing your code!]\n"
      ]
    },
    {
      "cell_type": "code",
      "metadata": {
        "id": "lGYr02WWO993"
      },
      "source": [
        "# This downloads the Glove 840B 300d embeddings.\n",
        "# The original file is at http://nlp.stanford.edu/data/glove.840B.300d.zip\n",
        "# Since that file is 2GB, we provide you with a *filtered version*\n",
        "# which contains all the words you need for this data set.\n",
        "\n",
        "# You only need to do this once.\n",
        "# Please comment this cell out after downloading.\n",
        "\n",
        "#!wget https://gist.githubusercontent.com/bastings/b094de2813da58056a05e8e7950d4ad1/raw/3fbd3976199c2b88de2ae62afc0ecc6f15e6f7ce/glove.840B.300d.sst.txt"
      ],
      "execution_count": null,
      "outputs": []
    },
    {
      "cell_type": "code",
      "metadata": {
        "id": "6NLsgFGiTjmI"
      },
      "source": [
        "# This downloads the word2vec 300D Google News vectors\n",
        "# The file has been truncated to only contain words that appear in our data set.\n",
        "# You can find the original file here: https://code.google.com/archive/p/word2vec/\n",
        "\n",
        "# You only need to do this once.\n",
        "# Please comment this out after downloading.\n",
        "#!wget https://gist.githubusercontent.com/bastings/4d1c346c68969b95f2c34cfbc00ba0a0/raw/76b4fefc9ef635a79d0d8002522543bc53ca2683/googlenews.word2vec.300d.txt"
      ],
      "execution_count": null,
      "outputs": []
    },
    {
      "cell_type": "code",
      "metadata": {
        "id": "GXBITzPRQUQb",
        "cellView": "both",
        "colab": {
          "base_uri": "https://localhost:8080/"
        },
        "outputId": "26a61544-fb5c-49d7-867d-d56c73288f78"
      },
      "source": [
        "# Mount Google Drive (to save the downloaded files)\n",
        "from google.colab import drive\n",
        "drive.mount('/gdrive')"
      ],
      "execution_count": null,
      "outputs": [
        {
          "output_type": "stream",
          "name": "stdout",
          "text": [
            "Drive already mounted at /gdrive; to attempt to forcibly remount, call drive.mount(\"/gdrive\", force_remount=True).\n"
          ]
        }
      ]
    },
    {
      "cell_type": "code",
      "metadata": {
        "id": "uFvzPuiKSCbl"
      },
      "source": [
        "# Copy word vectors *to* Google Drive\n",
        "\n",
        "# You only need to do this once.\n",
        "# Please comment this out after running it.\n",
        "#!cp \"glove.840B.300d.sst.txt\" \"/gdrive/My Drive/\"\n",
        "#!cp \"googlenews.word2vec.300d.txt\" \"/gdrive/My Drive/\""
      ],
      "execution_count": null,
      "outputs": []
    },
    {
      "cell_type": "code",
      "metadata": {
        "id": "kUMH0bM6BuY9"
      },
      "source": [
        "# If you copied the word vectors to your Drive before,\n",
        "# here is where you copy them back to the Colab notebook.\n",
        "\n",
        "# Copy Glove vectors *from* Google Drive\n",
        "!cp \"/gdrive/My Drive/glove.840B.300d.sst.txt\" .\n",
        "!cp \"/gdrive/My Drive/googlenews.word2vec.300d.txt\" ."
      ],
      "execution_count": null,
      "outputs": []
    },
    {
      "cell_type": "code",
      "metadata": {
        "id": "xcpkoh6PIjfe"
      },
      "source": [
        "# Uncomment these 2 lines below if went for the OPTIONAL method described above\n",
        "# !cp \"glove.840B.300d.sst.txt\" \"./\"\n",
        "# !cp \"googlenews.word2vec.300d.txt\" \"./\""
      ],
      "execution_count": null,
      "outputs": []
    },
    {
      "cell_type": "markdown",
      "metadata": {
        "id": "MX2GJVHILM8n"
      },
      "source": [
        "At this point you have the pre-trained word embedding files, but what do they look like?"
      ]
    },
    {
      "cell_type": "code",
      "metadata": {
        "id": "ChsChH14Ruxn",
        "colab": {
          "base_uri": "https://localhost:8080/"
        },
        "outputId": "0437dc3e-3819-47ba-d1f8-3a46c0c0dd88"
      },
      "source": [
        "# Exercise: Print the first 4 lines of the files that you downloaded.\n",
        "# What do you see?\n",
        "print(\"GloVe\")\n",
        "with open(\"glove.840B.300d.sst.txt\", \"r\", encoding=\"utf-8\") as glove:\n",
        "  for line in glove.read().splitlines()[:4]:\n",
        "    print(line)\n",
        "print(\"\\nWord2Vec\")\n",
        "with open(\"googlenews.word2vec.300d.txt\", \"r\", encoding=\"utf-8\") as word2vec:\n",
        "  for line in word2vec.read().splitlines()[:4]:\n",
        "    print(line)"
      ],
      "execution_count": null,
      "outputs": [
        {
          "output_type": "stream",
          "name": "stdout",
          "text": [
            "GloVe\n",
            ", -0.082752 0.67204 -0.14987 -0.064983 0.056491 0.40228 0.0027747 -0.3311 -0.30691 2.0817 0.031819 0.013643 0.30265 0.0071297 -0.5819 -0.2774 -0.062254 1.1451 -0.24232 0.1235 -0.12243 0.33152 -0.006162 -0.30541 -0.13057 -0.054601 0.037083 -0.070552 0.5893 -0.30385 0.2898 -0.14653 -0.27052 0.37161 0.32031 -0.29125 0.0052483 -0.13212 -0.052736 0.087349 -0.26668 -0.16897 0.015162 -0.0083746 -0.14871 0.23413 -0.20719 -0.091386 0.40075 -0.17223 0.18145 0.37586 -0.28682 0.37289 -0.16185 0.18008 0.3032 -0.13216 0.18352 0.095759 0.094916 0.008289 0.11761 0.34046 0.03677 -0.29077 0.058303 -0.027814 0.082941 0.1862 -0.031494 0.27985 -0.074412 -0.13762 -0.21866 0.18138 0.040855 -0.113 0.24107 0.3657 -0.27525 -0.05684 0.34872 0.011884 0.14517 -0.71395 0.48497 0.14807 0.62287 0.20599 0.58379 -0.13438 0.40207 0.18311 0.28021 -0.42349 -0.25626 0.17715 -0.54095 0.16596 -0.036058 0.08499 -0.64989 0.075549 -0.28831 0.40626 -0.2802 0.094062 0.32406 0.28437 -0.26341 0.11553 0.071918 -0.47215 -0.18366 -0.34709 0.29964 -0.66514 0.002516 -0.42333 0.27512 0.36012 0.16311 0.23964 -0.05923 0.3261 0.20559 0.038677 -0.045816 0.089764 0.43151 -0.15954 0.08532 -0.26572 -0.15001 0.084286 -0.16714 -0.43004 0.060807 0.13121 -0.24112 0.66554 0.4453 -0.18019 -0.13919 0.56252 0.21457 -0.46443 -0.012211 0.029988 -0.051094 -0.20135 0.80788 0.47377 -0.057647 0.46216 0.16084 -0.20954 -0.05452 0.15572 -0.13712 0.12972 -0.011936 -0.003378 -0.13595 -0.080711 0.20065 0.054056 0.046816 0.059539 0.046265 0.17754 -0.31094 0.28119 -0.24355 0.085252 -0.21011 -0.19472 0.0027297 -0.46341 0.14789 -0.31517 -0.065939 0.036106 0.42903 -0.33759 0.16432 0.32568 -0.050392 -0.054297 0.24074 0.41923 0.13012 -0.17167 -0.37808 -0.23089 -0.019477 -0.29291 -0.30824 0.30297 -0.22659 0.081574 -0.18516 -0.21408 0.40616 -0.28974 0.074174 -0.17795 0.28595 -0.039626 -0.2339 -0.36054 -0.067503 -0.091065 0.23438 -0.0041331 0.003232 0.0072134 0.008697 0.21614 0.049904 0.35582 0.13748 0.073361 0.14166 0.2412 -0.013322 0.15613 0.083381 0.088146 -0.019357 0.43795 0.083961 0.45309 -0.50489 -0.10865 -0.2527 -0.18251 0.20441 0.13319 0.1294 0.050594 -0.15612 -0.39543 0.12538 0.24881 -0.1927 -0.31847 -0.12719 0.4341 0.31177 -0.0040946 -0.2094 -0.079961 0.1161 -0.050794 0.015266 -0.2803 -0.12486 0.23587 0.2339 -0.14023 0.028462 0.56923 -0.1649 -0.036429 0.010051 -0.17107 -0.042608 0.044965 -0.4393 -0.26137 0.30088 -0.060772 -0.45312 -0.19076 -0.20288 0.27694 -0.060888 0.11944 0.62206 -0.19343 0.47849 -0.30113 0.059389 0.074901 0.061068 -0.4662 0.40054 -0.19099 -0.14331 0.018267 -0.18643 0.20709 -0.35598 0.05338 -0.050821 -0.1918 -0.37846 -0.06589\n",
            ". 0.012001 0.20751 -0.12578 -0.59325 0.12525 0.15975 0.13748 -0.33157 -0.13694 1.7893 -0.47094 0.70434 0.26673 -0.089961 -0.18168 0.067226 0.053347 1.5595 -0.2541 0.038413 -0.01409 0.056774 0.023434 0.024042 0.31703 0.19025 -0.37505 0.035603 0.1181 0.012032 -0.037566 -0.5046 -0.049261 0.092351 0.11031 -0.073062 0.33994 0.28239 0.13413 0.070128 -0.022099 -0.28103 0.49607 -0.48693 -0.090964 -0.1538 -0.38011 -0.014228 -0.19392 -0.11068 -0.014088 -0.17906 0.24509 -0.16878 -0.15351 -0.13808 0.02151 0.13699 0.0068061 -0.14915 -0.38169 0.12727 0.44007 0.32678 -0.46117 0.068687 0.34747 0.18827 -0.31837 0.4447 -0.2095 -0.26987 0.48945 0.15388 0.05295 -0.049831 0.11207 0.14881 -0.37003 0.30777 -0.33865 0.045149 -0.18987 0.26634 -0.26401 -0.47556 0.68381 -0.30653 0.24606 0.31611 -0.071098 0.030417 0.088119 0.045025 0.20125 -0.21618 -0.36371 -0.25948 -0.42398 -0.14305 -0.10208 0.21498 -0.21924 -0.17935 0.21546 0.13801 0.24504 -0.2559 0.054815 0.21307 0.2564 -0.25673 0.17961 -0.47638 -0.25181 -0.0091498 -0.054362 -0.21007 0.12597 -0.40795 -0.021164 0.20585 0.18925 -0.0051896 -0.51394 0.28862 -0.077748 -0.27676 0.46567 -0.14225 -0.17879 -0.4357 -0.32481 0.15034 -0.058367 0.49652 0.20472 0.019866 0.13326 0.12823 -1.0177 0.29007 0.28995 0.029994 -0.10763 0.28665 -0.24387 0.22905 -0.26249 -0.069269 -0.17889 0.21936 0.15146 0.04567 -0.050497 0.071482 -0.1027 -0.080705 0.30296 0.031302 0.26613 -0.0060951 0.10313 -0.39987 -0.043945 -0.057625 0.08702 -0.098152 0.22835 -0.005211 0.038075 0.01591 -0.20622 0.021853 0.0040426 -0.043063 -0.002294 -0.26097 -0.25802 -0.28158 -0.23118 -0.010404 -0.30102 -0.4042 0.014653 -0.10445 0.30377 -0.20957 0.3119 0.068272 0.1008 0.010423 0.54011 0.29865 0.12653 0.013761 0.21738 -0.39521 0.066633 0.50327 0.14913 -0.11554 0.010042 0.095698 0.16607 -0.18808 0.055019 0.026715 -0.3164 -0.046583 -0.051591 0.023475 -0.11007 0.085642 0.28394 0.040497 0.071986 0.14157 -0.021199 0.44718 0.20088 -0.12964 -0.067183 0.47614 0.13394 -0.17287 -0.37324 -0.17285 0.02683 -0.1316 0.09116 -0.46487 0.1274 -0.090159 -0.10552 0.068006 -0.13381 0.17056 0.089509 -0.23133 -0.27572 0.061534 -0.051646 0.28377 0.25286 -0.24139 -0.19905 0.12049 -0.1011 0.27392 0.27843 0.26449 -0.18292 -0.048961 0.19198 0.17192 0.33659 -0.20184 -0.34305 -0.24553 -0.15399 0.3945 0.22839 -0.25753 -0.25675 -0.37332 -0.23884 -0.048816 0.78323 0.18851 -0.26477 0.096566 0.062658 -0.30668 -0.43334 0.10006 0.21136 0.039459 -0.11077 0.24421 0.60942 -0.46646 0.086385 -0.39702 -0.23363 0.021307 -0.10778 -0.2281 0.50803 0.11567 0.16165 -0.066737 -0.29556 0.022612 -0.28135 0.0635 0.14019 0.13871 -0.36049 -0.035\n",
            "the 0.27204 -0.06203 -0.1884 0.023225 -0.018158 0.0067192 -0.13877 0.17708 0.17709 2.5882 -0.35179 -0.17312 0.43285 -0.10708 0.15006 -0.19982 -0.19093 1.1871 -0.16207 -0.23538 0.003664 -0.19156 -0.085662 0.039199 -0.066449 -0.04209 -0.19122 0.011679 -0.37138 0.21886 0.0011423 0.4319 -0.14205 0.38059 0.30654 0.020167 -0.18316 -0.0065186 -0.0080549 -0.12063 0.027507 0.29839 -0.22896 -0.22882 0.14671 -0.076301 -0.1268 -0.0066651 -0.052795 0.14258 0.1561 0.05551 -0.16149 0.09629 -0.076533 -0.049971 -0.010195 -0.047641 -0.16679 -0.2394 0.0050141 -0.049175 0.013338 0.41923 -0.10104 0.015111 -0.077706 -0.13471 0.119 0.10802 0.21061 -0.051904 0.18527 0.17856 0.041293 -0.014385 -0.082567 -0.035483 -0.076173 -0.045367 0.089281 0.33672 -0.22099 -0.0067275 0.23983 -0.23147 -0.88592 0.091297 -0.012123 0.013233 -0.25799 -0.02972 0.016754 0.01369 0.32377 0.039546 0.042114 -0.088243 0.30318 0.087747 0.16346 -0.40485 -0.043845 -0.040697 0.20936 -0.77795 0.2997 0.2334 0.14891 -0.39037 -0.053086 0.062922 0.065663 -0.13906 0.094193 0.10344 -0.2797 0.28905 -0.32161 0.020687 0.063254 -0.23257 -0.4352 -0.017049 -0.32744 -0.047064 -0.075149 -0.18788 -0.015017 0.029342 -0.3527 -0.044278 -0.13507 -0.11644 -0.1043 0.1392 0.0039199 0.37603 0.067217 -0.37992 -1.1241 -0.057357 -0.16826 0.03941 0.2604 -0.023866 0.17963 0.13553 0.2139 0.052633 -0.25033 -0.11307 0.22234 0.066597 -0.11161 0.062438 -0.27972 0.19878 -0.36262 -1.0006e-05 -0.17262 0.29166 -0.15723 0.054295 0.06101 -0.39165 0.2766 0.057816 0.39709 0.025229 0.24672 -0.08905 0.15683 -0.2096 -0.22196 0.052394 -0.01136 0.050417 -0.14023 -0.042825 -0.031931 -0.21336 -0.20402 -0.23272 0.07449 0.088202 -0.11063 -0.33526 -0.014028 -0.29429 -0.086911 -0.1321 -0.43616 0.20513 0.0079362 0.48505 0.064237 0.14261 -0.43711 0.12783 -0.13111 0.24673 -0.27496 0.15896 0.43314 0.090286 0.24662 0.066463 -0.20099 0.1101 0.03644 0.17359 -0.15689 -0.086328 -0.17316 0.36975 -0.40317 -0.064814 -0.034166 -0.013773 0.062854 -0.17183 -0.12366 -0.034663 -0.22793 -0.23172 0.239 0.27473 0.15332 0.10661 -0.060982 -0.024805 -0.13478 0.17932 -0.37374 -0.02893 -0.11142 -0.08389 -0.055932 0.068039 -0.10783 0.1465 0.094617 -0.084554 0.067429 -0.3291 0.034082 -0.16747 -0.25997 -0.22917 0.020159 -0.02758 0.16136 -0.18538 0.037665 0.57603 0.20684 0.27941 0.16477 -0.018769 0.12062 0.069648 0.059022 -0.23154 0.24095 -0.3471 0.04854 -0.056502 0.41566 -0.43194 0.4823 -0.051759 -0.27285 -0.25893 0.16555 -0.1831 -0.06734 0.42457 0.010346 0.14237 0.25939 0.17123 -0.13821 -0.066846 0.015981 -0.30193 0.043579 -0.043102 0.35025 -0.19681 -0.4281 0.16899 0.22511 -0.28557 -0.1028 -0.018168 0.11407 0.13015 -0.18317 0.1323\n",
            "and -0.18567 0.066008 -0.25209 -0.11725 0.26513 0.064908 0.12291 -0.093979 0.024321 2.4926 -0.017916 -0.071218 -0.24782 -0.26237 -0.2246 -0.21961 -0.12927 1.0867 -0.66072 -0.031617 -0.057328 0.056903 -0.27939 -0.39825 0.14251 -0.085146 -0.14779 0.055067 -0.0028687 -0.20917 -0.070735 0.22577 -0.15881 -0.10395 0.09711 -0.56251 -0.32929 -0.20853 0.0098711 0.049777 0.0014883 0.15884 0.042771 -0.0026956 -0.02462 -0.19213 -0.22556 0.10838 0.090086 -0.13291 0.32559 -0.17038 -0.1099 -0.23986 -0.024289 0.014656 -0.237 0.084828 -0.35982 -0.076746 0.048909 0.11431 -0.21013 0.24765 -0.017531 -0.14028 0.046191 0.22972 0.1175 0.12724 0.012992 0.4587 0.41085 0.039106 0.15713 -0.18376 0.26834 0.056662 0.16844 -0.053788 -0.091892 0.11193 -0.08681 -0.13324 0.15062 -0.31733 -0.22078 0.25038 0.34131 0.36419 -0.089514 -0.22193 0.24471 0.040091 0.47798 -0.029996 0.0019212 0.063511 -0.20417 -0.26478 0.20649 0.015573 -0.27722 -0.18861 -0.10289 -0.49773 0.14986 -0.010877 0.25085 -0.28117 0.18966 -0.065879 0.094753 -0.15338 -0.055071 -0.36747 0.24993 0.096527 0.23538 0.18405 0.052859 0.22967 0.12582 0.15536 -0.17275 0.33946 -0.10049 0.074948 -0.093575 -0.04049 -0.016922 -0.0058039 -0.18108 0.19537 0.45178 0.10965 0.2337 -0.09905 -0.078633 0.21678 -0.71231 -0.099759 0.33333 -0.1646 -0.091688 0.21056 0.023669 0.028922 0.1199 -0.12512 -0.026037 -0.062217 0.55816 0.0050273 -0.30888 0.038611 0.17568 -0.11163 -0.10815 -0.19444 0.29433 0.14519 -0.042878 0.18534 0.018891 -0.61883 0.13352 0.036007 0.33995 0.22109 -0.079328 0.071319 0.17678 0.16378 -0.23142 -0.1434 -0.098122 -0.019286 0.2356 -0.34013 -0.061007 -0.23208 -0.31152 0.10063 -0.15957 0.20183 -0.016345 -0.12303 0.022667 -0.20986 -0.20127 -0.087883 0.064731 0.10195 -0.1786 0.33056 0.21407 -0.32165 -0.17106 0.19407 -0.38618 -0.2148 -0.052254 0.023175 0.47389 0.18612 0.12711 0.20855 -0.10256 -0.12016 -0.40488 0.029695 -0.027419 -0.0085227 -0.11415 0.081134 -0.17228 0.19142 0.026514 0.043789 -0.12399 0.13354 0.10112 0.081682 -0.15085 0.0075806 -0.18971 0.24669 0.22491 0.35553 -0.3277 -0.21821 0.1402 0.28604 0.055226 -0.086544 0.02111 -0.19236 0.074245 0.076782 0.00081666 0.034097 -0.57719 0.10657 0.28134 -0.11964 -0.68281 -0.32893 -0.24442 -0.025847 0.0091273 0.2025 -0.050959 -0.11042 0.010962 0.076773 0.40048 -0.40739 -0.44773 0.31954 -0.036326 -0.012789 -0.17282 0.1476 0.2356 0.080642 -0.36528 -0.0083443 0.6239 -0.24379 0.019917 -0.28803 -0.010494 0.038412 -0.11718 -0.072462 0.16381 0.38488 -0.029783 0.23444 0.4532 0.14815 -0.027021 -0.073181 -0.1147 -0.0054545 0.47796 0.090912 0.094489 -0.36882 -0.59396 -0.097729 0.20072 0.17055 -0.0047356 -0.039709 0.32498 -0.023452 0.12302 0.3312\n",
            "\n",
            "Word2Vec\n",
            "in 0.0703125 0.08691406 0.087890625 0.0625 0.06933594 -0.10888672 -0.08154297 -0.15429688 0.020751953 0.13183594 -0.11376953 -0.037353516 0.06933594 0.078125 -0.103027344 -0.09765625 0.044189453 0.10253906 -0.060791016 -0.036132812 -0.045410156 0.04736328 -0.12060547 -0.063964844 0.0022583008 0.037109375 -0.0029144287 0.11767578 0.061767578 0.063964844 0.08105469 -0.068847656 -0.021362305 0.05517578 -0.08544922 0.068847656 -0.12792969 -0.033203125 0.09863281 0.17578125 0.110839844 -0.03466797 -0.04711914 -0.008483887 0.035888672 0.103027344 0.026977539 -0.028686523 -0.005126953 0.10644531 0.059814453 0.09423828 0.033691406 -0.02709961 -0.09423828 0.0010299683 -0.048339844 0.034423828 0.08105469 -0.11328125 -0.08886719 0.035888672 -0.14550781 -0.24414062 -0.061523438 0.052978516 0.056884766 0.1796875 0.061035156 0.08691406 0.12402344 -0.040283203 0.022583008 0.17773438 -0.029663086 -0.029663086 0.1171875 0.03112793 -0.096191406 0.06640625 0.004699707 -0.080078125 0.06298828 -0.020629883 -0.0546875 -0.13574219 -0.06347656 0.083496094 -0.063964844 0.021484375 0.07714844 -0.037109375 -0.033691406 -0.18359375 -0.072753906 0.01586914 0.09326172 -0.061523438 -0.014221191 -0.0034484863 0.011108398 -0.15820312 -0.017089844 0.0061950684 -0.008728027 -0.080566406 -0.015258789 -0.087890625 0.003479004 -0.016113281 -0.012329102 0.09765625 -0.13964844 -0.0859375 -0.026855469 0.053955078 0.1328125 0.11279297 0.12109375 0.08544922 -0.0071105957 0.044677734 -0.14550781 -0.0032043457 -0.11767578 -0.06542969 0.07128906 -0.09423828 -0.030273438 0.12011719 0.080078125 -0.09472656 -0.16210938 -0.07763672 0.021240234 -0.08154297 0.0039367676 -0.15722656 -0.09814453 0.039794922 0.03930664 -0.009094238 0.103027344 0.067871094 -0.04272461 0.06347656 -0.049072266 0.020874023 -0.16699219 0.09326172 0.09375 0.006866455 0.053710938 0.052490234 -0.024414062 -0.032470703 -0.061523438 -0.005554199 0.096191406 0.037841797 0.012207031 -0.043945312 -0.0074768066 0.10546875 0.020385742 0.14550781 0.08203125 0.0057678223 0.0045776367 -0.09277344 -0.13867188 -0.057373047 -0.051513672 -0.13085938 -0.13964844 -0.020507812 -0.02709961 0.032714844 0.10498047 -0.0023345947 -0.022583008 0.00050354004 -0.110839844 0.08496094 -0.12988281 -0.017456055 -0.00035858154 0.107910156 0.08886719 0.044677734 0.025146484 0.023803711 0.08105469 0.02368164 -0.10986328 0.0053710938 -0.017700195 -0.033935547 -0.032958984 -0.1640625 0.095703125 -0.018310547 0.0053100586 -0.034423828 -0.044189453 -0.06640625 -0.017944336 -0.029663086 -0.007598877 -0.05126953 -0.05419922 0.08935547 -0.071777344 0.015258789 -0.08251953 -0.03173828 0.03564453 -0.021240234 -0.059326172 -0.013061523 0.046875 0.023071289 0.020996094 -0.07861328 -0.008056641 0.01953125 -0.005554199 0.041503906 0.027832031 0.01361084 0.03466797 -0.18261719 0.12011719 0.07421875 -0.041015625 -0.0099487305 0.04296875 -0.007293701 0.123046875 0.057617188 -0.053466797 -0.032226562 -0.009094238 -0.04663086 0.043945312 -0.05078125 0.068847656 0.0029907227 -0.004180908 -0.044189453 0.07373047 -0.012756348 0.06738281 0.006286621 0.07519531 -0.037841797 0.0048828125 0.044677734 -0.06738281 0.00970459 0.0047302246 0.020507812 0.07128906 0.17089844 0.17382812 0.055664062 0.091308594 -0.037353516 0.049804688 -0.03930664 0.044189453 0.0625 0.048583984 -0.053222656 0.048828125 -0.13085938 -0.028930664 -0.036132812 -0.060791016 -0.057373047 0.123046875 -0.08251953 -0.0119018555 0.125 0.0013580322 0.063964844 -0.10644531 -0.14355469 -0.042236328 0.024047852 -0.16894531 -0.08886719 -0.080566406 0.064941406 0.061279297 -0.04736328 -0.05883789 -0.047607422 0.014465332 -0.0625\n",
            "for -0.011779785 -0.04736328 0.044677734 0.06347656 -0.018188477 -0.063964844 -0.0013122559 -0.072265625 0.064453125 0.08642578 -0.16992188 -0.039794922 0.07128906 -0.025878906 0.018188477 0.13671875 0.14453125 -0.033691406 -0.09765625 -0.12011719 -0.079589844 0.0625 -0.06689453 0.07421875 0.022705078 0.033447266 -0.18066406 0.052001953 0.0138549805 0.09277344 0.0035095215 -0.009094238 -0.09716797 0.067871094 -0.0087890625 0.044189453 -0.13378906 -0.099609375 0.033203125 0.027954102 0.15527344 -0.017700195 0.014282227 -0.10986328 -0.08544922 -0.07324219 -0.024658203 0.17285156 0.061767578 0.08935547 -0.024291992 0.14160156 -0.032958984 0.02746582 -0.15527344 0.007873535 -0.07080078 0.043701172 0.006011963 -0.055908203 -0.14746094 0.028442383 -0.1328125 -0.17675781 -0.091308594 -0.05078125 -0.026000977 -0.1484375 -0.080566406 0.15039062 -0.04345703 0.07910156 0.033203125 0.09033203 0.022705078 -0.0625 0.1640625 0.0859375 -0.012390137 0.19628906 -0.06225586 0.022460938 -0.030151367 0.021240234 0.003326416 -0.055419922 -0.07324219 0.029785156 0.049804688 0.017456055 0.10449219 0.03881836 0.08496094 -0.24804688 0.06933594 -0.14941406 0.05834961 0.095703125 -0.033447266 0.06298828 0.021362305 -0.14550781 0.053710938 -0.09082031 -0.025390625 0.045410156 0.0053100586 -0.115722656 -0.01953125 0.12109375 0.032226562 0.09472656 -0.064453125 0.022705078 0.12060547 0.060302734 0.12060547 0.048828125 0.09326172 0.06689453 0.029296875 -0.034179688 -0.111328125 0.053466797 -0.025634766 0.017822266 0.06225586 -0.025878906 0.14550781 0.0625 0.107910156 -0.16308594 -0.09765625 -0.10595703 -0.08544922 -0.08886719 0.10107422 -0.079589844 0.008422852 0.024047852 0.13085938 0.05126953 0.08154297 0.09375 -0.05859375 -0.09667969 -0.028320312 -0.14550781 -0.14746094 0.14550781 -0.017578125 0.032958984 -0.08544922 -0.010986328 -0.037109375 -0.013671875 0.035888672 -0.008239746 0.05029297 -0.09472656 0.047851562 0.020751953 0.030639648 0.12988281 0.052734375 0.018798828 -0.017578125 0.03491211 0.018310547 -0.009887695 -0.18457031 -0.08984375 -0.029052734 -0.060791016 -0.05126953 -0.0023651123 0.06640625 -0.08251953 -0.040039062 0.096191406 -0.15429688 -0.15332031 0.028320312 0.013122559 0.029907227 -0.012145996 -0.09667969 0.024780273 0.19335938 0.013000488 0.024169922 -0.035888672 0.09863281 -0.09667969 -0.20019531 -0.013793945 0.0859375 -0.080078125 -0.17675781 -0.17480469 0.005126953 -0.03491211 -0.0546875 0.09375 -0.09326172 -0.011962891 -0.0005645752 0.09765625 0.024780273 -0.039794922 0.009765625 0.11816406 0.025756836 0.123046875 0.064453125 0.07080078 0.029296875 -0.049560547 -0.078125 0.028930664 0.045654297 -0.04296875 0.025878906 -0.051757812 0.140625 0.004272461 -0.037841797 0.02746582 0.060058594 0.028320312 0.028076172 -0.036621094 0.13085938 -9.679794e-05 -0.06933594 -0.022094727 0.067871094 -0.02331543 -0.015319824 -0.05834961 0.061035156 0.00064468384 0.0039978027 -0.07128906 0.091796875 0.026245117 0.020019531 0.03540039 -0.057861328 -0.029663086 0.02734375 0.025146484 0.060302734 0.13183594 -0.0043640137 0.0027313232 0.059814453 0.09863281 -0.091796875 -0.045898438 -0.017456055 0.038330078 -0.019165039 0.04638672 0.047851562 0.09814453 -0.040283203 0.09423828 -0.03466797 -0.042236328 0.0703125 -0.013671875 0.10644531 0.016479492 0.13183594 -0.0016937256 -0.008483887 -0.14257812 -0.04663086 -0.10986328 0.08203125 -0.041015625 -0.018920898 0.087890625 -0.0028076172 0.23828125 -0.04711914 -0.022949219 0.040771484 0.029296875 -0.022583008 0.0037231445 -0.08251953 0.08154297 0.00793457 0.00047683716 0.018432617 0.07128906 -0.03491211 0.024169922\n",
            "that -0.01574707 -0.028320312 0.083496094 0.05029297 -0.11035156 0.03173828 -0.014221191 -0.08984375 0.11767578 0.11816406 -0.071777344 -0.07714844 -0.068847656 0.07714844 -0.13867188 0.006500244 0.010986328 -0.015136719 -0.0009613037 -0.030273438 -0.00015830994 0.038330078 -0.024169922 -0.045898438 0.09472656 -0.05517578 -0.064941406 0.0061035156 0.0008544922 0.06201172 -0.05444336 0.014099121 0.022216797 -0.044921875 0.111328125 -0.03857422 0.05126953 0.025146484 0.016967773 0.06298828 0.13769531 0.13574219 0.06542969 -0.064453125 -0.024047852 -0.013366699 -0.037109375 0.0043029785 -0.01574707 0.019042969 0.10839844 0.044677734 -0.044921875 -0.095214844 0.08691406 0.08203125 0.0068359375 -0.13183594 0.0027313232 -0.075683594 0.022460938 0.171875 -0.048583984 0.038330078 -0.088378906 -0.017211914 0.021850586 0.13378906 0.010681152 0.049804688 0.038085938 -0.0052490234 0.061279297 -0.050048828 -0.10595703 0.055664062 0.15429688 0.17089844 0.048095703 0.12695312 0.08154297 -0.1015625 0.043945312 -0.013549805 -0.13378906 -0.15722656 0.024291992 0.20898438 -0.10205078 -0.09375 0.048583984 0.07519531 0.0035247803 -0.123535156 -0.024169922 -0.0013198853 0.038330078 0.007598877 0.017700195 0.043701172 -0.09814453 -0.05810547 0.014099121 0.041015625 -0.03540039 -0.022949219 -0.13085938 -0.14453125 0.028930664 -0.122558594 -0.07128906 -0.0071411133 -0.09667969 0.05859375 0.104003906 0.026367188 0.0075683594 0.036132812 0.040283203 0.052734375 -0.20410156 -0.033447266 -0.029052734 0.03173828 -0.123535156 -0.06738281 0.01586914 -0.08642578 0.012512207 -0.06298828 -0.12060547 0.0234375 -0.13183594 -0.11816406 -0.012145996 -0.10986328 0.095214844 -0.041992188 0.018310547 0.051757812 0.014953613 -0.15917969 -0.021728516 -0.005126953 0.035888672 -0.003036499 -0.078125 -0.05126953 -0.0074157715 0.087402344 -0.023925781 0.044189453 -0.11376953 0.021484375 -0.003829956 -0.04345703 -0.104003906 -0.18554688 -0.044921875 0.044921875 -0.044433594 0.019042969 -0.020996094 0.0134887695 0.015258789 -0.030395508 0.04663086 0.10253906 -0.0138549805 0.008239746 -0.052734375 0.01965332 -0.076171875 -0.08984375 0.043945312 0.00793457 0.012634277 -0.10839844 -0.018554688 -0.10449219 -0.15234375 -0.07910156 -0.028808594 -0.018676758 0.09716797 -0.008361816 -0.03540039 0.007537842 0.05810547 0.08203125 0.028808594 0.05102539 0.0031738281 -0.018554688 0.014953613 -0.072753906 -0.034179688 0.043945312 -0.048828125 -0.16113281 0.025634766 0.036621094 -0.00015354156 -0.0012588501 -0.039794922 -0.032226562 -0.01574707 0.060791016 0.09716797 -0.015014648 -0.033691406 -0.015319824 0.0046691895 0.032958984 -0.08203125 0.10644531 0.15429688 0.0087890625 -0.12011719 0.061279297 0.05859375 0.03881836 -0.015991211 -0.043945312 0.12011719 -0.07519531 0.125 0.03515625 0.072753906 0.087402344 0.021118164 -0.07373047 0.034423828 -0.09423828 0.01159668 -0.057128906 -0.07861328 0.015991211 0.075683594 0.030517578 0.0046081543 -0.14550781 -0.024780273 -0.107910156 0.068847656 0.05810547 0.125 -0.06542969 0.005279541 0.01184082 0.06982422 0.12695312 0.06542969 -0.017333984 0.119140625 -0.032470703 0.14453125 0.076660156 -0.032226562 -0.06591797 0.06298828 -0.0625 -0.096191406 0.10644531 -0.039794922 0.11621094 -0.00970459 -0.03540039 -0.06542969 0.05883789 0.16210938 0.05126953 0.15917969 0.095214844 0.076171875 -0.091796875 0.025146484 -0.07861328 0.08935547 -0.05859375 -0.040039062 0.045898438 0.03100586 0.0390625 0.03564453 -0.10595703 -0.037109375 -0.16113281 0.021362305 0.0012207031 -0.011291504 -0.015625 -0.033447266 -0.020629883 -0.01940918 0.063964844 0.020141602 0.006866455 0.061035156 -0.1484375\n",
            "is 0.0070495605 -0.07324219 0.171875 0.022583008 -0.1328125 0.19824219 0.11279297 -0.107910156 0.071777344 0.020874023 -0.123046875 -0.05908203 0.10107422 0.0107421875 0.14355469 0.25976562 -0.036376953 0.18554688 -0.07861328 -0.022705078 -0.12060547 0.17773438 0.049560547 0.017211914 0.079589844 -0.045654297 -0.18847656 0.18945312 -0.02319336 0.06298828 0.09765625 -0.019042969 -0.07910156 0.15234375 0.17382812 0.1015625 -0.16308594 0.114746094 0.10058594 -0.09277344 0.109375 0.05883789 -0.021606445 0.06347656 0.041992188 -0.008850098 0.032226562 0.10644531 0.064453125 -0.118652344 0.030517578 0.06689453 0.12207031 -0.08300781 0.171875 0.07861328 0.095214844 -0.0077819824 0.02319336 0.0234375 -0.016845703 0.15527344 -0.10986328 -0.17675781 -0.11621094 0.0234375 -0.010620117 0.052734375 -0.13378906 0.079589844 0.07373047 0.043945312 0.115234375 -0.020629883 0.07470703 -0.0115356445 0.080566406 0.041748047 0.080078125 0.3515625 0.09667969 -0.21289062 0.16503906 -0.078125 0.06982422 -0.0013961792 -0.091308594 0.12988281 0.25195312 -0.016113281 0.09326172 -0.14648438 -0.0015106201 -0.15136719 -0.026855469 -0.15722656 0.026367188 0.0859375 0.071777344 0.07714844 -0.0390625 0.05444336 -0.12792969 0.091308594 -0.18457031 -0.037597656 -0.027954102 -0.08984375 -0.11669922 -0.09863281 0.048095703 -0.16210938 -0.10888672 0.08496094 -0.045654297 0.15820312 -0.038085938 -0.08203125 0.203125 0.08642578 0.06933594 0.032226562 -0.16015625 0.09472656 -0.024658203 0.05419922 0.027954102 0.044921875 0.16992188 0.072753906 -0.036376953 -0.010253906 -0.017089844 -0.107421875 -0.0007019043 -0.07373047 0.25390625 0.056640625 0.03515625 -0.008605957 0.18554688 0.021484375 0.26367188 -0.023803711 -0.099121094 -0.041259766 -0.06933594 -0.11376953 0.050048828 -0.05883789 0.046142578 0.087402344 0.10546875 0.10644531 0.027954102 0.09472656 0.11621094 -0.17285156 -0.03491211 -0.20800781 0.059570312 0.104003906 -0.0017929077 0.05859375 -0.029785156 -0.037597656 0.048583984 -0.063964844 0.079589844 0.06933594 -0.10498047 -0.14453125 0.04345703 -0.068847656 -0.03564453 -0.01171875 0.013671875 -0.06591797 0.119140625 0.03125 -0.04638672 -0.0019683838 0.0073547363 -0.056640625 0.027832031 0.08251953 -0.0134887695 0.071777344 0.14453125 0.12792969 0.042236328 0.14160156 -0.018066406 0.021606445 -0.091796875 0.13378906 -0.1953125 -0.05029297 -0.037841797 -0.096191406 0.103027344 -0.106933594 -0.14746094 0.099609375 -0.23046875 0.22753906 -0.07519531 0.064941406 0.091796875 0.046875 0.06298828 0.06982422 0.046142578 0.09716797 -0.20214844 0.19921875 0.18652344 -0.119628906 -0.14257812 0.15039062 -0.033691406 -0.14550781 -0.0006904602 -0.07324219 0.13378906 0.03564453 -0.022949219 0.027709961 -0.07910156 0.20703125 -0.083496094 -0.049560547 0.03149414 0.1484375 0.055664062 -0.044921875 -0.079589844 0.004760742 -0.020751953 0.060058594 0.004760742 0.011169434 0.17285156 -0.13476562 0.030761719 -0.079589844 0.09033203 0.061035156 0.07714844 -0.05029297 -0.092285156 -0.26757812 0.107910156 0.0859375 0.06298828 0.107910156 -0.026733398 0.10205078 -0.12060547 0.052978516 0.09472656 -0.16503906 0.044189453 0.072265625 0.041259766 0.42578125 -0.103027344 -0.16015625 -0.09033203 -0.063964844 -0.048095703 0.14453125 0.06542969 0.049316406 0.05419922 0.13574219 -0.01928711 -0.21582031 -0.07421875 -0.14648438 0.011474609 -0.16503906 -0.10498047 0.0032043457 0.13476562 -0.003967285 -0.103515625 -0.13964844 0.10449219 -0.012573242 -0.23339844 -0.036376953 -0.09375 0.18261719 0.02709961 0.12792969 -0.024780273 0.011230469 0.1640625 0.106933594\n"
          ]
        }
      ]
    },
    {
      "cell_type": "markdown",
      "metadata": {
        "id": "WIVCkUkE_IjR"
      },
      "source": [
        "#### Exercise: New Vocabulary\n",
        "\n",
        "Since we now use pre-trained word embeddings, we need to create a new vocabulary.\n",
        "This is because of two reasons:\n",
        "\n",
        "1. We do not have pre-trained word embeddings for all words in our SST training set, and we do not want words in our vocabulary for which we have no word embeddings.\n",
        "2. We should be able to look up the pre-trained word embedding for words in the validation and test set, even if these words are unseen in training.\n",
        "\n",
        "Now, create a new vocabulary object `v` based on the word set of pre-trained embeddings, and load the corresponding embeddings into a list `vectors`.\n",
        "\n",
        "The vocabulary `v` should consist of:\n",
        " - a  `<unk>` token at position 0,\n",
        " - a  `<pad>` token at position 1,\n",
        " - and then all words in the pre-trained embedding set.\n",
        "\n",
        "\n",
        "After storing each vector in a list `vectors`, turn the list into a numpy matrix like this:\n",
        "```python\n",
        " vectors = np.stack(vectors, axis=0)\n",
        "```\n",
        "\n",
        "Remember to add new embeddings for the `<unk>` and `<pad>` tokens, as they're not part of the word2vec/GloVe embeddings. These embeddings can be randomly initialized or 0-valued, think about what makes sense and see what the effects are.\n"
      ]
    },
    {
      "cell_type": "code",
      "metadata": {
        "id": "ITyyCvDnCL4U",
        "colab": {
          "base_uri": "https://localhost:8080/"
        },
        "outputId": "b2338741-4edd-4024-b876-88d7403d8f55"
      },
      "source": [
        "# YOUR CODE HERE\n",
        "v = Vocabulary()\n",
        "vectors = [np.random.normal(0., 1., 300), np.random.normal(0., 1., 300)] # vectors for <unk> and <pad>\n",
        "\n",
        "file_name = \"glove.840B.300d.sst.txt\"\n",
        "#file_name = \"googlenews.word2vec.300d.txt\"\n",
        "with open(file_name, \"r\") as f:\n",
        "  for line in f.read().splitlines():\n",
        "    line = line.split()\n",
        "    v.count_token(line[0])\n",
        "    vectors.append(np.array(line[1:], dtype=float))\n",
        "\n",
        "v.build()\n",
        "vectors = np.stack(vectors, axis=0)\n",
        "print(\"Vocabulary size:\", len(v.w2i))"
      ],
      "execution_count": null,
      "outputs": [
        {
          "output_type": "stream",
          "name": "stdout",
          "text": [
            "Vocabulary size: 20727\n"
          ]
        }
      ]
    },
    {
      "cell_type": "markdown",
      "metadata": {
        "id": "xC-7mRyYNG9b"
      },
      "source": [
        "#### Exercise: words not in our pre-trained set\n",
        "\n",
        "How many words in the training, dev, and test set are also in your vector set?\n",
        "How many words are not there?\n",
        "\n",
        "Store the words that are not in the word vector set in the set below."
      ]
    },
    {
      "cell_type": "code",
      "metadata": {
        "id": "K6MA3-wF_X5M",
        "colab": {
          "base_uri": "https://localhost:8080/"
        },
        "outputId": "e4d8f991-e446-401f-8200-e240d3c8215a"
      },
      "source": [
        "words_not_found = set()\n",
        "# YOUR CODE HERE\n",
        "words_found = set()\n",
        "for data_set, name in ((train_data, 'train'), (dev_data, 'dev'), (test_data, 'test')):\n",
        "  found = set()\n",
        "  not_found = set()\n",
        "  for ex in data_set:\n",
        "    for token in ex.tokens:\n",
        "      if token in v.w2i:\n",
        "        found.add(token)\n",
        "        words_found.add(token)\n",
        "      else:\n",
        "        not_found.add(token)\n",
        "        words_not_found.add(token)\n",
        "  print(f'{name} set: {len(found)} words found, {len(not_found)} words not found.')\n",
        "\n",
        "print(f'Total number of words found: {len(words_found)}')\n",
        "print(f'Total number of words not found: {len(words_not_found)}')"
      ],
      "execution_count": null,
      "outputs": [
        {
          "output_type": "stream",
          "name": "stdout",
          "text": [
            "train set: 17579 words found, 699 words not found.\n",
            "dev set: 5269 words found, 105 words not found.\n",
            "test set: 8357 words found, 190 words not found.\n",
            "Total number of words found: 20723\n",
            "Total number of words not found: 976\n"
          ]
        }
      ]
    },
    {
      "cell_type": "markdown",
      "metadata": {
        "id": "BfEd38W0NnAI"
      },
      "source": [
        "#### Exercise: train Deep CBOW with (fixed) pre-trained embeddings\n",
        "\n",
        "Now train Deep CBOW again using the pre-trained word vectors.\n"
      ]
    },
    {
      "cell_type": "code",
      "metadata": {
        "id": "z_6ooqgEsB20"
      },
      "source": [
        "# We define a new class that inherits from DeepCBOW.\n",
        "class PTDeepCBOW(DeepCBOW):\n",
        "  def __init__(self, vocab_size, embedding_dim, hidden_dim, output_dim, vocab):\n",
        "    super(PTDeepCBOW, self).__init__(\n",
        "        vocab_size, embedding_dim, hidden_dim, output_dim, vocab)"
      ],
      "execution_count": null,
      "outputs": []
    },
    {
      "cell_type": "code",
      "metadata": {
        "id": "JfIh4Ni6yuAh",
        "colab": {
          "base_uri": "https://localhost:8080/"
        },
        "outputId": "4988313a-9677-4fea-e76f-70f2a788c57c"
      },
      "source": [
        "# Create a Deep CBOW model with pre-trained embeddings\n",
        "# YOUR CODE HERE\n",
        "pt_deep_cbow_model = PTDeepCBOW(len(v.w2i), embedding_size, hidden_size, len(t2i), v)\n",
        "\n",
        "# copy pre-trained word vectors into embeddings table\n",
        "pt_deep_cbow_model.embed.weight.data.copy_(torch.from_numpy(vectors))\n",
        "\n",
        "# disable training the pre-trained embeddings\n",
        "pt_deep_cbow_model.embed.weight.requires_grad = False\n",
        "\n",
        "# move model to specified device\n",
        "pt_deep_cbow_model = pt_deep_cbow_model.to(device)\n",
        "\n",
        "# train the model\n",
        "# YOUR CODE HERE\n",
        "print(pt_deep_cbow_model)\n",
        "\n",
        "optimizer = optim.Adam(pt_deep_cbow_model.parameters(), lr=0.0005)\n",
        "pt_deep_cbow_losses, pt_deep_cbow_accuracies = train_model(\n",
        "    pt_deep_cbow_model, optimizer, num_iterations=30000,\n",
        "    print_every=1000, eval_every=1000)"
      ],
      "execution_count": null,
      "outputs": [
        {
          "output_type": "stream",
          "name": "stdout",
          "text": [
            "PTDeepCBOW(\n",
            "  (embed): Embedding(20727, 300)\n",
            "  (output_layer): Sequential(\n",
            "    (0): Linear(in_features=300, out_features=100, bias=True)\n",
            "    (1): Tanh()\n",
            "    (2): Linear(in_features=100, out_features=100, bias=True)\n",
            "    (3): Tanh()\n",
            "    (4): Linear(in_features=100, out_features=5, bias=True)\n",
            "  )\n",
            ")\n",
            "Shuffling training data\n",
            "Iter 1000: loss=1493.1670, time=1.57s\n",
            "iter 1000: dev acc=0.3497\n",
            "new highscore\n",
            "Iter 2000: loss=1389.8984, time=3.55s\n",
            "iter 2000: dev acc=0.3715\n",
            "new highscore\n",
            "Iter 3000: loss=1363.4633, time=5.51s\n",
            "iter 3000: dev acc=0.4005\n",
            "new highscore\n",
            "Iter 4000: loss=1388.5783, time=7.82s\n",
            "iter 4000: dev acc=0.3869\n",
            "Iter 5000: loss=1342.8719, time=10.11s\n",
            "iter 5000: dev acc=0.3915\n",
            "Iter 6000: loss=1320.0512, time=12.51s\n",
            "iter 6000: dev acc=0.3442\n",
            "Iter 7000: loss=1306.5097, time=14.68s\n",
            "iter 7000: dev acc=0.3942\n",
            "Iter 8000: loss=1346.7412, time=16.60s\n",
            "iter 8000: dev acc=0.4096\n",
            "new highscore\n",
            "Shuffling training data\n",
            "Iter 9000: loss=1342.5952, time=18.63s\n",
            "iter 9000: dev acc=0.4051\n",
            "Iter 10000: loss=1308.0918, time=20.53s\n",
            "iter 10000: dev acc=0.3887\n",
            "Iter 11000: loss=1276.3579, time=22.46s\n",
            "iter 11000: dev acc=0.4096\n",
            "Iter 12000: loss=1302.1027, time=24.51s\n",
            "iter 12000: dev acc=0.3815\n",
            "Iter 13000: loss=1358.5245, time=26.99s\n",
            "iter 13000: dev acc=0.4205\n",
            "new highscore\n",
            "Iter 14000: loss=1289.5072, time=29.44s\n",
            "iter 14000: dev acc=0.4114\n",
            "Iter 15000: loss=1321.9264, time=31.36s\n",
            "iter 15000: dev acc=0.3951\n",
            "Iter 16000: loss=1309.6315, time=33.25s\n",
            "iter 16000: dev acc=0.3806\n",
            "Iter 17000: loss=1266.1765, time=35.13s\n",
            "iter 17000: dev acc=0.4196\n",
            "Shuffling training data\n",
            "Iter 18000: loss=1250.9186, time=37.01s\n",
            "iter 18000: dev acc=0.4251\n",
            "new highscore\n",
            "Iter 19000: loss=1275.6319, time=39.04s\n",
            "iter 19000: dev acc=0.3987\n",
            "Iter 20000: loss=1298.1271, time=41.41s\n",
            "iter 20000: dev acc=0.3878\n",
            "Iter 21000: loss=1269.0130, time=43.75s\n",
            "iter 21000: dev acc=0.3878\n",
            "Iter 22000: loss=1311.9021, time=45.82s\n",
            "iter 22000: dev acc=0.4196\n",
            "Iter 23000: loss=1296.6449, time=47.72s\n",
            "iter 23000: dev acc=0.3887\n",
            "Iter 24000: loss=1299.4736, time=49.62s\n",
            "iter 24000: dev acc=0.4178\n",
            "Iter 25000: loss=1290.1623, time=51.53s\n",
            "iter 25000: dev acc=0.4142\n",
            "Shuffling training data\n",
            "Iter 26000: loss=1268.2355, time=53.44s\n",
            "iter 26000: dev acc=0.3742\n",
            "Iter 27000: loss=1279.5047, time=55.54s\n",
            "iter 27000: dev acc=0.4105\n",
            "Iter 28000: loss=1277.4587, time=57.94s\n",
            "iter 28000: dev acc=0.4269\n",
            "new highscore\n",
            "Iter 29000: loss=1239.6223, time=60.30s\n",
            "iter 29000: dev acc=0.3978\n",
            "Iter 30000: loss=1297.5180, time=62.17s\n",
            "iter 30000: dev acc=0.4133\n",
            "Done training\n",
            "Loading best model\n",
            "best model iter 28000: train acc=0.4696, dev acc=0.4269, test acc=0.4276\n"
          ]
        }
      ]
    },
    {
      "cell_type": "code",
      "metadata": {
        "id": "Ufujv3x31ufD",
        "colab": {
          "base_uri": "https://localhost:8080/",
          "height": 430
        },
        "outputId": "9b20a330-a74c-4f85-aeae-d31921d5005d"
      },
      "source": [
        "# plot dev accuracies\n",
        "plt.plot(pt_deep_cbow_accuracies);"
      ],
      "execution_count": null,
      "outputs": [
        {
          "output_type": "display_data",
          "data": {
            "text/plain": [
              "<Figure size 640x480 with 1 Axes>"
            ],
            "image/png": "[encoded data removed]"
          },
          "metadata": {}
        }
      ]
    },
    {
      "cell_type": "code",
      "metadata": {
        "id": "YTJtKBzd7Qjr",
        "colab": {
          "base_uri": "https://localhost:8080/",
          "height": 430
        },
        "outputId": "f591556a-35e7-49bd-8ee8-e37660525cf7"
      },
      "source": [
        "# plot train loss\n",
        "plt.plot(pt_deep_cbow_losses);"
      ],
      "execution_count": null,
      "outputs": [
        {
          "output_type": "display_data",
          "data": {
            "text/plain": [
              "<Figure size 640x480 with 1 Axes>"
            ],
            "image/png": "[encoded data removed]"
          },
          "metadata": {}
        }
      ]
    },
    {
      "cell_type": "markdown",
      "metadata": {
        "id": "yFu8xzCy9XDW"
      },
      "source": [
        "**It looks like we've hit what is possible with just using words.**\n",
        "Let's move on by incorporating word order!"
      ]
    },
    {
      "cell_type": "markdown",
      "metadata": {
        "id": "g41yW4PL9jG0"
      },
      "source": [
        "# LSTM"
      ]
    },
    {
      "cell_type": "markdown",
      "metadata": {
        "id": "ODzXEH0MaGpa"
      },
      "source": [
        "It is time to get more serious. Even with pre-trained word embeddings and multiple layers, we still seem to do pretty badly at sentiment classification.\n",
        "The next step we can take is to introduce word order again, dropping our independence assumptions. In this way, we can get a representation of the sentence as an ordered set of tokens.\n",
        "\n",
        "We will get this representation using a **Long Short-Term Memory** (LSTM). As an exercise, we will code our own LSTM cell, so that we get comfortable with its inner workings.\n",
        "Once we have an LSTM cell, we can call it repeatedly, updating its hidden state one word at a time:\n",
        "\n",
        "```python\n",
        "rnn = MyLSTMCell(input_size, hidden_size)\n",
        "\n",
        "hx = torch.zeros(1, hidden_size)  # initial hidden state\n",
        "cx = torch.zeros(1, hidden_size)  # initial memory cell\n",
        "output = []                       # to save intermediate LSTM states\n",
        "\n",
        "# feed one word at a time\n",
        "for i in range(n_timesteps):\n",
        "  hx, cx = rnn(input[i], (hx, cx))\n",
        "  output.append(hx)\n",
        "```\n",
        "\n",
        "If you need some more help understanding LSTMs, you can check out these resources:\n",
        "- Blog post (highly recommended): http://colah.github.io/posts/2015-08-Understanding-LSTMs/\n",
        "- Paper covering LSTM formulas in detail: https://arxiv.org/abs/1503.04069\n"
      ]
    },
    {
      "cell_type": "markdown",
      "metadata": {
        "id": "v9f4b45BXKFC"
      },
      "source": [
        "#### Exercise: Finish the LSTM cell below.\n",
        "You will need to implement the LSTM formulas:\n",
        "\n",
        "$$\n",
        "\\begin{array}{ll}\n",
        "        i = \\sigma(W_{ii} x + b_{ii} + W_{hi} h + b_{hi}) \\\\\n",
        "        f = \\sigma(W_{if} x + b_{if} + W_{hf} h + b_{hf}) \\\\\n",
        "        g = \\tanh(W_{ig} x + b_{ig} + W_{hg} h + b_{hg}) \\\\\n",
        "        o = \\sigma(W_{io} x + b_{io} + W_{ho} h + b_{ho}) \\\\\n",
        "        c' = f * c + i * g \\\\\n",
        "        h' = o \\tanh(c') \\\\\n",
        "\\end{array}\n",
        " $$\n",
        "\n",
        "where $\\sigma$ is the sigmoid function.\n",
        "\n",
        "*Note that the LSTM formulas can differ slightly between different papers. We use the PyTorch LSTM formulation here.*"
      ]
    },
    {
      "cell_type": "code",
      "metadata": {
        "id": "zJ9m5kLMd7-v"
      },
      "source": [
        "class MyLSTMCell(nn.Module):\n",
        "  \"\"\"Our own LSTM cell\"\"\"\n",
        "\n",
        "  def __init__(self, input_size, hidden_size, bias=True):\n",
        "    \"\"\"Creates the weights for this LSTM\"\"\"\n",
        "    super(MyLSTMCell, self).__init__()\n",
        "\n",
        "    self.input_size = input_size\n",
        "    self.hidden_size = hidden_size\n",
        "    self.bias = bias\n",
        "\n",
        "    # YOUR CODE HERE\n",
        "    #self.W_ii = nn.Linear(self.input_size, self.hidden_size, self.bias)\n",
        "    #self.W_hi = nn.Linear(self.hidden_size, self.hidden_size, self.bias)\n",
        "    #self.W_if = nn.Linear(self.input_size, self.hidden_size, self.bias)\n",
        "    #self.W_hf = nn.Linear(self.hidden_size, self.hidden_size, self.bias)\n",
        "    #self.W_ig = nn.Linear(self.input_size, self.hidden_size, self.bias)\n",
        "    #self.W_hg = nn.Linear(self.hidden_size, self.hidden_size, self.bias)\n",
        "    #self.W_io = nn.Linear(self.input_size, self.hidden_size, self.bias)\n",
        "    #self.W_ho = nn.Linear(self.hidden_size, self.hidden_size, self.bias)\n",
        "    self.W_h = nn.Linear(self.hidden_size, self.hidden_size * 4, self.bias)\n",
        "    self.W_i = nn.Linear(self.input_size, self.hidden_size * 4, self.bias)\n",
        "\n",
        "    self.reset_parameters()\n",
        "\n",
        "  def reset_parameters(self):\n",
        "    \"\"\"This is PyTorch's default initialization method\"\"\"\n",
        "    stdv = 1.0 / math.sqrt(self.hidden_size)\n",
        "    for weight in self.parameters():\n",
        "      weight.data.uniform_(-stdv, stdv)\n",
        "\n",
        "  def forward(self, input_, hx, mask=None):\n",
        "    \"\"\"\n",
        "    input is (batch, input_size)\n",
        "    hx is ((batch, hidden_size), (batch, hidden_size))\n",
        "    \"\"\"\n",
        "    prev_h, prev_c = hx\n",
        "\n",
        "    # project input and prev state\n",
        "    # YOUR CODE HERE\n",
        "    input_proj = self.W_i(input_)\n",
        "    prev_h_proj = self.W_h(prev_h)\n",
        "\n",
        "    #raise NotImplementedError(\"Implement this\")\n",
        "\n",
        "    # main LSTM computation\n",
        "\n",
        "    #i = (self.W_ii(input_) + self.W_hi(prev_h)).sigmoid()\n",
        "    #f = (self.W_if(input_) + self.W_hf(prev_h)).sigmoid()\n",
        "    #g = (self.W_ig(input_) + self.W_hg(prev_h)).tanh()\n",
        "    #o = (self.W_io(input_) + self.W_ho(prev_h)).sigmoid()\n",
        "\n",
        "    i, f, g, o = torch.chunk(input_proj + prev_h_proj, 4, -1)\n",
        "    i = i.sigmoid()\n",
        "    f = f.sigmoid()\n",
        "    g = g.tanh()\n",
        "    o = o.sigmoid()\n",
        "\n",
        "    c = f * prev_c + i * g\n",
        "    h = o * c.tanh()\n",
        "\n",
        "    return h, c\n",
        "\n",
        "  def __repr__(self):\n",
        "    return \"{}({:d}, {:d})\".format(\n",
        "        self.__class__.__name__, self.input_size, self.hidden_size)"
      ],
      "execution_count": null,
      "outputs": []
    },
    {
      "cell_type": "markdown",
      "metadata": {
        "id": "4JM7xPhkQeE5"
      },
      "source": [
        "#### Optional: Efficient Matrix Multiplication\n",
        "\n",
        "It is more efficient to do a few big matrix multiplications than to do many smaller ones. So we will implement the above cell using just **two** linear layers.\n",
        "\n",
        "This is possible because the eight linear transformations contained in one forward pass through an LSTM cell can be reduced to just two:\n",
        "$$W_h h + b_h$$\n",
        "$$W_i x + b_i $$\n",
        "\n",
        "with $h = $ `prev_h` and $x = $ `input_`.\n",
        "\n",
        "and where:\n",
        "\n",
        "$W_h =  \\begin{pmatrix}\n",
        "W_{hi}\\\\\n",
        "W_{hf}\\\\\n",
        "W_{hg}\\\\\n",
        "W_{ho}\n",
        "\\end{pmatrix}$, $b_h = \\begin{pmatrix}\n",
        "b_{hi}\\\\\n",
        "b_{hf}\\\\\n",
        "b_{hg}\\\\\n",
        "b_{ho}\n",
        "\\end{pmatrix}$,  $W_i = \\begin{pmatrix}\n",
        "W_{ii}\\\\\n",
        "W_{if}\\\\\n",
        "W_{ig}\\\\\n",
        "W_{io}\n",
        "\\end{pmatrix}$ and $b_i = \\begin{pmatrix}\n",
        "b_{ii}\\\\\n",
        "b_{if}\\\\\n",
        "b_{ig}\\\\\n",
        "b_{io}\n",
        "\\end{pmatrix}$.\n",
        "\n",
        "Convince yourself that, after chunking with [torch.chunk](https://pytorch.org/docs/stable/torch.html?highlight=chunk#torch.chunk), the output of those two linear transformations is equivalent to the output of the eight linear transformations in the LSTM cell calculations above."
      ]
    },
    {
      "cell_type": "markdown",
      "metadata": {
        "id": "X9gA-UcqSBe0"
      },
      "source": [
        "#### LSTM Classifier\n",
        "\n",
        "Having an LSTM cell is not enough: we still need some code that calls it repeatedly, and then makes a prediction from the final hidden state.\n",
        "You will find that code below. Make sure that you understand it."
      ]
    },
    {
      "cell_type": "code",
      "metadata": {
        "id": "3iuYZm5poEn5"
      },
      "source": [
        "class LSTMClassifier(nn.Module):\n",
        "  \"\"\"Encodes sentence with an LSTM and projects final hidden state\"\"\"\n",
        "\n",
        "  def __init__(self, vocab_size, embedding_dim, hidden_dim, output_dim, vocab):\n",
        "    super(LSTMClassifier, self).__init__()\n",
        "    self.vocab = vocab\n",
        "    self.hidden_dim = hidden_dim\n",
        "    self.embed = nn.Embedding(vocab_size, embedding_dim, padding_idx=1)\n",
        "    self.rnn = MyLSTMCell(embedding_dim, hidden_dim)\n",
        "\n",
        "    self.output_layer = nn.Sequential(\n",
        "        nn.Dropout(p=0.5),  # explained later\n",
        "        nn.Linear(hidden_dim, output_dim)\n",
        "    )\n",
        "\n",
        "  def forward(self, x):\n",
        "\n",
        "    B = x.size(0)  # batch size (this is 1 for now, i.e. 1 single example)\n",
        "    T = x.size(1)  # timesteps (the number of words in the sentence)\n",
        "\n",
        "    input_ = self.embed(x)\n",
        "\n",
        "    # here we create initial hidden states containing zeros\n",
        "    # we use a trick here so that, if input is on the GPU, then so are hx and cx\n",
        "    hx = input_.new_zeros(B, self.rnn.hidden_size)\n",
        "    cx = input_.new_zeros(B, self.rnn.hidden_size)\n",
        "\n",
        "    # process input sentences one word/timestep at a time\n",
        "    # input is batch-major (i.e., batch size is the first dimension)\n",
        "    # so the first word(s) is (are) input_[:, 0]\n",
        "    outputs = []\n",
        "    for i in range(T):\n",
        "      hx, cx = self.rnn(input_[:, i], (hx, cx))\n",
        "      outputs.append(hx)\n",
        "\n",
        "    # if we have a single example, our final LSTM state is the last hx\n",
        "    if B == 1:\n",
        "      final = hx\n",
        "    else:\n",
        "      #\n",
        "      # This part is explained in next section, ignore this else-block for now.\n",
        "      #\n",
        "      # We processed sentences with different lengths, so some of the sentences\n",
        "      # had already finished and we have been adding padding inputs to hx.\n",
        "      # We select the final state based on the length of each sentence.\n",
        "\n",
        "      # two lines below not needed if using LSTM from pytorch\n",
        "      outputs = torch.stack(outputs, dim=0)           # [T, B, D]\n",
        "      outputs = outputs.transpose(0, 1).contiguous()  # [B, T, D]\n",
        "\n",
        "      # to be super-sure we're not accidentally indexing the wrong state\n",
        "      # we zero out positions that are invalid\n",
        "      pad_positions = (x == 1).unsqueeze(-1)\n",
        "\n",
        "      outputs = outputs.contiguous()\n",
        "      outputs = outputs.masked_fill_(pad_positions, 0.)\n",
        "\n",
        "      mask = (x != 1)  # true for valid positions [B, T]\n",
        "      lengths = mask.sum(dim=1)                 # [B, 1]\n",
        "\n",
        "      indexes = (lengths - 1) + torch.arange(B, device=x.device, dtype=x.dtype) * T\n",
        "      final = outputs.view(-1, self.hidden_dim)[indexes]  # [B, D]\n",
        "\n",
        "    # we use the last hidden state to classify the sentence\n",
        "    logits = self.output_layer(final)\n",
        "    return logits"
      ],
      "execution_count": null,
      "outputs": []
    },
    {
      "cell_type": "markdown",
      "metadata": {
        "id": "FxFoVpvMPB6g"
      },
      "source": [
        "#### Dropout\n",
        "\n",
        "Data sparsity and a small data set can cause *overfitting*. This is a phenomenom that is very likely to occur when training strong and expressive models, like LSTMs, on small data. In practice, if your model overfits, this means that it will be very good at predicting (or \"remembering\") the sentiment of the training set, but unable to generalise to new, unseen data in the test set. This is undesirable and one technique to mitigate this issue is *dropout*.\n",
        "\n",
        "A dropout layer is defined by the following formula, which can be applied, for example, to a linear layer:\n",
        "\n",
        "$$\\text{tanh}(W(\\mathbf{h}\\odot \\mathbf{d}) + \\mathbf{b})$$\n",
        "\n",
        "where $\\mathbf{d} \\in \\{0, 1\\}^n$, with $d_j \\sim \\text{Bernoulli}(p)$,\n",
        "\n",
        "These formula simply means that we *drop* certain parameters during training (by setting them to zero). Which parameters we drop is stochastically determined by a Bernoulli distribution and the probability of each parameter being dropped is set to $p = 0.5$ in our experiments (see the previous cell of code where we define our output layer). A dropout layer can be applied at many different places in our models. This technique helps against the undesirable effect that a model relies on single parameters for prediction (e.g. if $h^{\\prime}_j$ is large, always predict positive). If we use dropout, the model needs to learn to rely on different parameters, which is desirable to obtain better generalisation to unseen data."
      ]
    },
    {
      "cell_type": "markdown",
      "metadata": {
        "id": "XQjEjLt9z0XW"
      },
      "source": [
        "**Let's train our LSTM!** Note that is will be a lot slower than previous models because we need to do many more computations per sentence.\n",
        "\n",
        "#### Training"
      ]
    },
    {
      "cell_type": "code",
      "metadata": {
        "id": "LgZoSPD4fsf_",
        "colab": {
          "base_uri": "https://localhost:8080/"
        },
        "outputId": "d0bc1fcf-aa1a-4c1e-d742-209ed9bf2c6e"
      },
      "source": [
        "lstm_model = LSTMClassifier(len(v.w2i), 300, 168, len(t2i), v)\n",
        "\n",
        "# copy pre-trained word vectors into embeddings table\n",
        "with torch.no_grad():\n",
        "  lstm_model.embed.weight.data.copy_(torch.from_numpy(vectors))\n",
        "  lstm_model.embed.weight.requires_grad = False\n",
        "\n",
        "print(lstm_model)\n",
        "print_parameters(lstm_model)\n",
        "\n",
        "lstm_model = lstm_model.to(device)\n",
        "optimizer = optim.Adam(lstm_model.parameters(), lr=3e-4)\n",
        "\n",
        "lstm_losses, lstm_accuracies = train_model(\n",
        "    lstm_model, optimizer, num_iterations=25000,\n",
        "    print_every=250, eval_every=1000)"
      ],
      "execution_count": null,
      "outputs": [
        {
          "output_type": "stream",
          "name": "stdout",
          "text": [
            "LSTMClassifier(\n",
            "  (embed): Embedding(20727, 300, padding_idx=1)\n",
            "  (rnn): MyLSTMCell(300, 168)\n",
            "  (output_layer): Sequential(\n",
            "    (0): Dropout(p=0.5, inplace=False)\n",
            "    (1): Linear(in_features=168, out_features=5, bias=True)\n",
            "  )\n",
            ")\n",
            "embed.weight             [20727, 300] requires_grad=False\n",
            "rnn.W_h.weight           [672, 168]   requires_grad=True\n",
            "rnn.W_h.bias             [672]        requires_grad=True\n",
            "rnn.W_i.weight           [672, 300]   requires_grad=True\n",
            "rnn.W_i.bias             [672]        requires_grad=True\n",
            "output_layer.1.weight    [5, 168]     requires_grad=True\n",
            "output_layer.1.bias      [5]          requires_grad=True\n",
            "\n",
            "Total number of parameters: 6534785\n",
            "\n",
            "Shuffling training data\n",
            "Iter 250: loss=398.6444, time=3.18s\n",
            "Iter 500: loss=387.4745, time=7.38s\n",
            "Iter 750: loss=385.9818, time=10.53s\n",
            "Iter 1000: loss=379.8870, time=13.48s\n",
            "iter 1000: dev acc=0.3124\n",
            "new highscore\n",
            "Iter 1250: loss=375.3856, time=21.77s\n",
            "Iter 1500: loss=389.7278, time=25.09s\n",
            "Iter 1750: loss=363.8693, time=28.02s\n",
            "Iter 2000: loss=351.3690, time=30.99s\n",
            "iter 2000: dev acc=0.3915\n",
            "new highscore\n",
            "Iter 2250: loss=374.2588, time=40.36s\n",
            "Iter 2500: loss=357.2283, time=44.25s\n",
            "Iter 2750: loss=363.7351, time=47.07s\n",
            "Iter 3000: loss=362.8592, time=50.24s\n",
            "iter 3000: dev acc=0.3760\n",
            "Iter 3250: loss=345.2225, time=58.75s\n",
            "Iter 3500: loss=347.7459, time=61.54s\n",
            "Iter 3750: loss=337.8659, time=64.56s\n",
            "Iter 4000: loss=346.5277, time=68.54s\n",
            "iter 4000: dev acc=0.3633\n",
            "Iter 4250: loss=344.1019, time=76.04s\n",
            "Iter 4500: loss=356.9523, time=78.94s\n",
            "Iter 4750: loss=349.8046, time=82.40s\n",
            "Iter 5000: loss=345.3108, time=85.98s\n",
            "iter 5000: dev acc=0.3833\n",
            "Iter 5250: loss=347.4275, time=93.18s\n",
            "Iter 5500: loss=340.4930, time=96.49s\n",
            "Iter 5750: loss=330.9579, time=100.59s\n",
            "Iter 6000: loss=333.7930, time=103.38s\n",
            "iter 6000: dev acc=0.3815\n",
            "Iter 6250: loss=336.9182, time=111.16s\n",
            "Iter 6500: loss=359.5267, time=115.15s\n",
            "Iter 6750: loss=345.9281, time=118.35s\n",
            "Iter 7000: loss=342.0349, time=121.18s\n",
            "iter 7000: dev acc=0.4142\n",
            "new highscore\n",
            "Iter 7250: loss=330.4371, time=129.38s\n",
            "Iter 7500: loss=326.8104, time=132.85s\n",
            "Iter 7750: loss=329.2433, time=135.89s\n",
            "Iter 8000: loss=330.4476, time=138.69s\n",
            "iter 8000: dev acc=0.4142\n",
            "Iter 8250: loss=329.5625, time=147.31s\n",
            "Iter 8500: loss=327.0513, time=150.01s\n",
            "Shuffling training data\n",
            "Iter 8750: loss=327.0402, time=152.79s\n",
            "Iter 9000: loss=319.4326, time=155.67s\n",
            "iter 9000: dev acc=0.3915\n",
            "Iter 9250: loss=332.6571, time=164.36s\n",
            "Iter 9500: loss=306.5386, time=167.18s\n",
            "Iter 9750: loss=317.6741, time=170.03s\n",
            "Iter 10000: loss=316.8712, time=173.28s\n",
            "iter 10000: dev acc=0.4042\n",
            "Iter 10250: loss=321.6482, time=181.55s\n",
            "Iter 10500: loss=334.1601, time=184.48s\n",
            "Iter 10750: loss=314.6727, time=187.50s\n",
            "Iter 11000: loss=307.3316, time=191.55s\n",
            "iter 11000: dev acc=0.4114\n",
            "Iter 11250: loss=335.0080, time=199.10s\n",
            "Iter 11500: loss=302.7292, time=202.00s\n",
            "Iter 11750: loss=316.1063, time=205.74s\n",
            "Iter 12000: loss=323.1780, time=209.22s\n",
            "iter 12000: dev acc=0.4060\n",
            "Iter 12250: loss=312.1886, time=216.36s\n",
            "Iter 12500: loss=326.1014, time=219.77s\n",
            "Iter 12750: loss=311.9132, time=223.68s\n",
            "Iter 13000: loss=325.8879, time=226.60s\n",
            "iter 13000: dev acc=0.4223\n",
            "new highscore\n",
            "Iter 13250: loss=315.6914, time=234.02s\n",
            "Iter 13500: loss=317.6718, time=237.91s\n",
            "Iter 13750: loss=310.2095, time=240.99s\n",
            "Iter 14000: loss=330.2314, time=243.83s\n",
            "iter 14000: dev acc=0.4287\n",
            "new highscore\n",
            "Iter 14250: loss=293.9906, time=251.83s\n",
            "Iter 14500: loss=318.6392, time=255.33s\n",
            "Iter 14750: loss=309.2534, time=258.34s\n",
            "Iter 15000: loss=313.7022, time=261.22s\n",
            "iter 15000: dev acc=0.4378\n",
            "new highscore\n",
            "Iter 15250: loss=299.1069, time=269.87s\n",
            "Iter 15500: loss=342.6963, time=272.86s\n",
            "Iter 15750: loss=314.7456, time=275.84s\n",
            "Iter 16000: loss=312.2680, time=278.73s\n",
            "iter 16000: dev acc=0.4378\n",
            "Iter 16250: loss=311.1568, time=287.32s\n",
            "Iter 16500: loss=319.1676, time=290.25s\n",
            "Iter 16750: loss=313.5837, time=294.27s\n",
            "Iter 17000: loss=324.1687, time=298.34s\n",
            "iter 17000: dev acc=0.4523\n",
            "new highscore\n",
            "Shuffling training data\n",
            "Iter 17250: loss=307.3575, time=306.16s\n",
            "Iter 17500: loss=320.4158, time=309.10s\n",
            "Iter 17750: loss=309.7825, time=312.64s\n",
            "Iter 18000: loss=300.9086, time=316.31s\n",
            "iter 18000: dev acc=0.4487\n",
            "Iter 18250: loss=287.6722, time=324.27s\n",
            "Iter 18500: loss=302.3200, time=327.96s\n",
            "Iter 18750: loss=307.9521, time=331.66s\n",
            "Iter 19000: loss=314.6280, time=334.64s\n",
            "iter 19000: dev acc=0.4469\n",
            "Iter 19250: loss=297.2826, time=342.34s\n",
            "Iter 19500: loss=286.4847, time=346.45s\n",
            "Iter 19750: loss=290.7911, time=349.30s\n",
            "Iter 20000: loss=295.4451, time=352.22s\n",
            "iter 20000: dev acc=0.4360\n",
            "Iter 20250: loss=289.2796, time=360.77s\n",
            "Iter 20500: loss=315.3946, time=363.90s\n",
            "Iter 20750: loss=281.1394, time=366.84s\n",
            "Iter 21000: loss=300.3029, time=369.81s\n",
            "iter 21000: dev acc=0.4541\n",
            "new highscore\n",
            "Iter 21250: loss=278.3738, time=378.55s\n",
            "Iter 21500: loss=297.1714, time=381.46s\n",
            "Iter 21750: loss=285.1090, time=384.32s\n",
            "Iter 22000: loss=277.1323, time=387.22s\n",
            "iter 22000: dev acc=0.4469\n",
            "Iter 22250: loss=279.3845, time=395.93s\n",
            "Iter 22500: loss=305.8804, time=398.86s\n",
            "Iter 22750: loss=297.5270, time=401.59s\n",
            "Iter 23000: loss=295.9205, time=405.66s\n",
            "iter 23000: dev acc=0.4559\n",
            "new highscore\n",
            "Iter 23250: loss=294.5198, time=413.83s\n",
            "Iter 23500: loss=286.7586, time=416.86s\n",
            "Iter 23750: loss=296.3874, time=420.49s\n",
            "Iter 24000: loss=303.9006, time=424.50s\n",
            "iter 24000: dev acc=0.4387\n",
            "Iter 24250: loss=311.1618, time=431.82s\n",
            "Iter 24500: loss=285.0517, time=435.17s\n",
            "Iter 24750: loss=301.7255, time=439.24s\n",
            "Iter 25000: loss=313.5262, time=442.26s\n",
            "iter 25000: dev acc=0.4469\n",
            "Done training\n",
            "Loading best model\n",
            "best model iter 23000: train acc=0.5214, dev acc=0.4559, test acc=0.4674\n"
          ]
        }
      ]
    },
    {
      "cell_type": "code",
      "metadata": {
        "id": "2BKVnyg0Hq5E",
        "colab": {
          "base_uri": "https://localhost:8080/",
          "height": 430
        },
        "outputId": "d4d22549-b713-4a51-c3cf-ebf3314956d1"
      },
      "source": [
        "# plot validation accuracy\n",
        "plt.plot(lstm_accuracies);"
      ],
      "execution_count": null,
      "outputs": [
        {
          "output_type": "display_data",
          "data": {
            "text/plain": [
              "<Figure size 640x480 with 1 Axes>"
            ],
            "image/png": "[encoded data removed]"
          },
          "metadata": {}
        }
      ]
    },
    {
      "cell_type": "code",
      "metadata": {
        "id": "ZowTV0EBTb3z",
        "colab": {
          "base_uri": "https://localhost:8080/",
          "height": 430
        },
        "outputId": "39a5fad8-1007-47b2-d4bd-a9d3c35aeb6e"
      },
      "source": [
        "# plot training loss\n",
        "plt.plot(lstm_losses);"
      ],
      "execution_count": null,
      "outputs": [
        {
          "output_type": "display_data",
          "data": {
            "text/plain": [
              "<Figure size 640x480 with 1 Axes>"
            ],
            "image/png": "[encoded data removed]"
          },
          "metadata": {}
        }
      ]
    },
    {
      "cell_type": "markdown",
      "metadata": {
        "id": "YEw6XHQY_AAQ"
      },
      "source": [
        "# Mini-batching\n",
        "\n"
      ]
    },
    {
      "cell_type": "markdown",
      "metadata": {
        "id": "FPf96wGzBTQJ"
      },
      "source": [
        "**Why is the LSTM so slow?** Despite our best efforts, we still need to make a lot of matrix multiplications per example (linear in the length of the example) just to get a single classification, and we can only process the 2nd word once we have computed the hidden state for the 1st word (sequential computation).\n",
        "\n",
        "GPUs are more efficient if we do a few big matrix multiplications, rather than lots of small ones. If we could process multiple examples at the same time, then we could exploit that. That is, we could still process the input sequentially, but doing so for multiple sentences at the same time.\n",
        "\n",
        "Up to now our \"mini-batches\" consisted of a single example. This was for a reason: the sentences in our data sets have **different lengths**, and this makes it difficult to process them at the same time.\n",
        "\n",
        "Consider a batch of 2 sentences:\n",
        "\n",
        "```\n",
        "this movie is bad\n",
        "this movie is super cool !\n",
        "```\n",
        "\n",
        "Let's say the IDs for these sentences are:\n",
        "\n",
        "```\n",
        "2 3 4 5\n",
        "2 3 4 6 7 8\n",
        "```\n",
        "\n",
        "We cannot feed PyTorch an object with rows of variable length! We need to turn this into a matrix.\n",
        "\n",
        "The solution is to add **padding values** to our mini-batch:\n",
        "\n",
        "```\n",
        "2 3 4 5 1 1\n",
        "2 3 4 6 7 8\n",
        "```\n",
        "\n",
        "Whenever a sentence is shorter than the longest sentence in a mini-batch, we just use a padding value (here: 1) to fill the matrix.\n",
        "\n",
        "In our computation, we should **ignore** the padding positions (e.g. mask them out) so that paddings do not contribute to the loss.\n",
        "\n",
        "#### Mini-batch feed\n",
        "We will now implement a `get_minibatch` function which will replace `get_example` and returns a mini-batch of the requested size."
      ]
    },
    {
      "cell_type": "code",
      "metadata": {
        "id": "IoAE2JBiXJ3P"
      },
      "source": [
        "def get_minibatch(data, batch_size=25, shuffle=True):\n",
        "  \"\"\"Return minibatches, optional shuffling\"\"\"\n",
        "\n",
        "  if shuffle:\n",
        "    print(\"Shuffling training data\")\n",
        "    random.shuffle(data)  # shuffle training data each epoch\n",
        "\n",
        "  batch = []\n",
        "\n",
        "  # yield minibatches\n",
        "  for example in data:\n",
        "    batch.append(example)\n",
        "\n",
        "    if len(batch) == batch_size:\n",
        "      yield batch\n",
        "      batch = []\n",
        "\n",
        "  # in case there is something left\n",
        "  if len(batch) > 0:\n",
        "    yield batch"
      ],
      "execution_count": null,
      "outputs": []
    },
    {
      "cell_type": "markdown",
      "metadata": {
        "id": "DwZM-XYkT8Zx"
      },
      "source": [
        "#### Padding function\n",
        "We will need a function that adds padding 1s to a sequence of IDs so that\n",
        "it becomes as long as the longest sequence in the minibatch."
      ]
    },
    {
      "cell_type": "code",
      "metadata": {
        "id": "sp0sK1ghw4Ft",
        "colab": {
          "base_uri": "https://localhost:8080/"
        },
        "outputId": "f686cec1-ade2-4603-8c65-f39dd2778d22"
      },
      "source": [
        "def pad(tokens, length, pad_value=1):\n",
        "  \"\"\"add padding 1s to a sequence to that it has the desired length\"\"\"\n",
        "  return tokens + [pad_value] * (length - len(tokens))\n",
        "\n",
        "# example\n",
        "tokens = [2, 3, 4]\n",
        "pad(tokens, 5)"
      ],
      "execution_count": null,
      "outputs": [
        {
          "output_type": "execute_result",
          "data": {
            "text/plain": [
              "[2, 3, 4, 1, 1]"
            ]
          },
          "metadata": {},
          "execution_count": 63
        }
      ]
    },
    {
      "cell_type": "markdown",
      "metadata": {
        "id": "SL2iixMYUgfh"
      },
      "source": [
        "#### New `prepare` function\n",
        "\n",
        "We will also need a new function that turns a mini-batch into PyTorch tensors."
      ]
    },
    {
      "cell_type": "code",
      "metadata": {
        "id": "ZID0cqozWks8"
      },
      "source": [
        "def prepare_minibatch(mb, vocab):\n",
        "  \"\"\"\n",
        "  Minibatch is a list of examples.\n",
        "  This function converts words to IDs and returns\n",
        "  torch tensors to be used as input/targets.\n",
        "  \"\"\"\n",
        "  batch_size = len(mb)\n",
        "  maxlen = max([len(ex.tokens) for ex in mb])\n",
        "\n",
        "  # vocab returns 0 if the word is not there\n",
        "  x = [pad([vocab.w2i.get(t, 0) for t in ex.tokens], maxlen) for ex in mb]\n",
        "\n",
        "  x = torch.LongTensor(x)\n",
        "  x = x.to(device)\n",
        "\n",
        "  y = [ex.label for ex in mb]\n",
        "  y = torch.LongTensor(y)\n",
        "  y = y.to(device)\n",
        "\n",
        "  return x, y"
      ],
      "execution_count": null,
      "outputs": []
    },
    {
      "cell_type": "code",
      "metadata": {
        "id": "OwDAtCv1x2hB",
        "colab": {
          "base_uri": "https://localhost:8080/"
        },
        "outputId": "6f8603bf-e139-4190-f55a-6d7e3905b30d"
      },
      "source": [
        "# Let's test our new function.\n",
        "# This should give us 3 examples.\n",
        "mb = next(get_minibatch(train_data, batch_size=3, shuffle=False))\n",
        "for ex in mb:\n",
        "  print(ex)"
      ],
      "execution_count": null,
      "outputs": [
        {
          "output_type": "stream",
          "name": "stdout",
          "text": [
            "Example(tokens=['The', 'Rock', 'is', 'destined', 'to', 'be', 'the', '21st', 'Century', \"'s\", 'new', '``', 'Conan', \"''\", 'and', 'that', 'he', \"'s\", 'going', 'to', 'make', 'a', 'splash', 'even', 'greater', 'than', 'Arnold', 'Schwarzenegger', ',', 'Jean-Claud', 'Van', 'Damme', 'or', 'Steven', 'Segal', '.'], tree=Tree('3', [Tree('2', [Tree('2', ['The']), Tree('2', ['Rock'])]), Tree('4', [Tree('3', [Tree('2', ['is']), Tree('4', [Tree('2', ['destined']), Tree('2', [Tree('2', [Tree('2', [Tree('2', [Tree('2', ['to']), Tree('2', [Tree('2', ['be']), Tree('2', [Tree('2', ['the']), Tree('2', [Tree('2', ['21st']), Tree('2', [Tree('2', [Tree('2', ['Century']), Tree('2', [\"'s\"])]), Tree('2', [Tree('3', ['new']), Tree('2', [Tree('2', ['``']), Tree('2', ['Conan'])])])])])])])]), Tree('2', [\"''\"])]), Tree('2', ['and'])]), Tree('3', [Tree('2', ['that']), Tree('3', [Tree('2', ['he']), Tree('3', [Tree('2', [\"'s\"]), Tree('3', [Tree('2', ['going']), Tree('3', [Tree('2', ['to']), Tree('4', [Tree('3', [Tree('2', ['make']), Tree('3', [Tree('3', [Tree('2', ['a']), Tree('3', ['splash'])]), Tree('2', [Tree('2', ['even']), Tree('3', ['greater'])])])]), Tree('2', [Tree('2', ['than']), Tree('2', [Tree('2', [Tree('2', [Tree('2', [Tree('1', [Tree('2', ['Arnold']), Tree('2', ['Schwarzenegger'])]), Tree('2', [','])]), Tree('2', [Tree('2', ['Jean-Claud']), Tree('2', [Tree('2', ['Van']), Tree('2', ['Damme'])])])]), Tree('2', ['or'])]), Tree('2', [Tree('2', ['Steven']), Tree('2', ['Segal'])])])])])])])])])])])])]), Tree('2', ['.'])])]), label=3, transitions=[0, 0, 1, 0, 0, 0, 0, 0, 0, 0, 0, 1, 0, 0, 0, 1, 1, 1, 1, 1, 1, 1, 0, 1, 0, 1, 0, 0, 0, 0, 0, 0, 0, 0, 1, 0, 0, 1, 1, 1, 0, 0, 0, 1, 0, 1, 0, 0, 0, 1, 1, 1, 0, 1, 0, 0, 1, 1, 1, 1, 1, 1, 1, 1, 1, 1, 1, 1, 0, 1, 1])\n",
            "Example(tokens=['The', 'gorgeously', 'elaborate', 'continuation', 'of', '``', 'The', 'Lord', 'of', 'the', 'Rings', \"''\", 'trilogy', 'is', 'so', 'huge', 'that', 'a', 'column', 'of', 'words', 'can', 'not', 'adequately', 'describe', 'co-writer/director', 'Peter', 'Jackson', \"'s\", 'expanded', 'vision', 'of', 'J.R.R.', 'Tolkien', \"'s\", 'Middle-earth', '.'], tree=Tree('4', [Tree('4', [Tree('4', [Tree('2', ['The']), Tree('4', [Tree('3', ['gorgeously']), Tree('3', [Tree('2', ['elaborate']), Tree('2', ['continuation'])])])]), Tree('2', [Tree('2', [Tree('2', ['of']), Tree('2', ['``'])]), Tree('2', [Tree('2', ['The']), Tree('2', [Tree('2', [Tree('2', ['Lord']), Tree('2', [Tree('2', ['of']), Tree('2', [Tree('2', ['the']), Tree('2', ['Rings'])])])]), Tree('2', [Tree('2', [\"''\"]), Tree('2', ['trilogy'])])])])])]), Tree('2', [Tree('3', [Tree('2', [Tree('2', ['is']), Tree('2', [Tree('2', ['so']), Tree('2', ['huge'])])]), Tree('2', [Tree('2', ['that']), Tree('3', [Tree('2', [Tree('2', [Tree('2', ['a']), Tree('2', ['column'])]), Tree('2', [Tree('2', ['of']), Tree('2', ['words'])])]), Tree('2', [Tree('2', [Tree('2', [Tree('2', ['can']), Tree('1', ['not'])]), Tree('3', ['adequately'])]), Tree('2', [Tree('2', ['describe']), Tree('2', [Tree('3', [Tree('2', [Tree('2', ['co-writer/director']), Tree('2', [Tree('2', ['Peter']), Tree('3', [Tree('2', ['Jackson']), Tree('2', [\"'s\"])])])]), Tree('3', [Tree('2', ['expanded']), Tree('2', ['vision'])])]), Tree('2', [Tree('2', ['of']), Tree('2', [Tree('2', [Tree('2', ['J.R.R.']), Tree('2', [Tree('2', ['Tolkien']), Tree('2', [\"'s\"])])]), Tree('2', ['Middle-earth'])])])])])])])])]), Tree('2', ['.'])])]), label=4, transitions=[0, 0, 0, 0, 1, 1, 1, 0, 0, 1, 0, 0, 0, 0, 0, 1, 1, 1, 0, 0, 1, 1, 1, 1, 1, 0, 0, 0, 1, 1, 0, 0, 0, 1, 0, 0, 1, 1, 0, 0, 1, 0, 1, 0, 0, 0, 0, 0, 1, 1, 1, 0, 0, 1, 1, 0, 0, 0, 0, 1, 1, 0, 1, 1, 1, 1, 1, 1, 1, 1, 0, 1, 1])\n",
            "Example(tokens=['Singer/composer', 'Bryan', 'Adams', 'contributes', 'a', 'slew', 'of', 'songs', '--', 'a', 'few', 'potential', 'hits', ',', 'a', 'few', 'more', 'simply', 'intrusive', 'to', 'the', 'story', '--', 'but', 'the', 'whole', 'package', 'certainly', 'captures', 'the', 'intended', ',', 'er', ',', 'spirit', 'of', 'the', 'piece', '.'], tree=Tree('3', [Tree('3', [Tree('2', [Tree('2', [Tree('2', [Tree('2', [Tree('2', ['Singer/composer']), Tree('2', [Tree('2', ['Bryan']), Tree('2', ['Adams'])])]), Tree('2', [Tree('2', ['contributes']), Tree('2', [Tree('2', [Tree('2', ['a']), Tree('2', ['slew'])]), Tree('2', [Tree('2', ['of']), Tree('2', ['songs'])])])])]), Tree('2', [Tree('2', ['--']), Tree('2', [Tree('2', [Tree('2', [Tree('2', ['a']), Tree('2', [Tree('2', ['few']), Tree('3', ['potential'])])]), Tree('2', [Tree('2', [Tree('2', ['hits']), Tree('2', [','])]), Tree('2', [Tree('2', [Tree('2', ['a']), Tree('2', ['few'])]), Tree('1', [Tree('1', [Tree('2', ['more']), Tree('1', [Tree('2', ['simply']), Tree('2', ['intrusive'])])]), Tree('2', [Tree('2', ['to']), Tree('2', [Tree('2', ['the']), Tree('2', ['story'])])])])])])]), Tree('2', ['--'])])])]), Tree('2', ['but'])]), Tree('3', [Tree('4', [Tree('2', ['the']), Tree('3', [Tree('2', ['whole']), Tree('2', ['package'])])]), Tree('2', [Tree('3', ['certainly']), Tree('3', [Tree('2', ['captures']), Tree('2', [Tree('1', [Tree('2', ['the']), Tree('2', [Tree('2', [Tree('2', ['intended']), Tree('2', [Tree('2', [',']), Tree('2', [Tree('2', ['er']), Tree('2', [','])])])]), Tree('3', ['spirit'])])]), Tree('2', [Tree('2', ['of']), Tree('2', [Tree('2', ['the']), Tree('2', ['piece'])])])])])])])]), Tree('2', ['.'])]), label=3, transitions=[0, 0, 0, 1, 1, 0, 0, 0, 1, 0, 0, 1, 1, 1, 1, 0, 0, 0, 0, 1, 1, 0, 0, 1, 0, 0, 1, 0, 0, 0, 1, 1, 0, 0, 0, 1, 1, 1, 1, 1, 1, 0, 1, 1, 1, 0, 1, 0, 0, 0, 1, 1, 0, 0, 0, 0, 0, 0, 0, 1, 1, 1, 0, 1, 1, 0, 0, 0, 1, 1, 1, 1, 1, 1, 1, 0, 1])\n"
          ]
        }
      ]
    },
    {
      "cell_type": "code",
      "metadata": {
        "id": "dg8zEK8zyUCH",
        "colab": {
          "base_uri": "https://localhost:8080/"
        },
        "outputId": "2e0e881b-3ec5-4919-8b50-0ee83ba2b8f3"
      },
      "source": [
        "# We should find padding 1s at the end\n",
        "x, y = prepare_minibatch(mb, v)\n",
        "print(\"x\", x)\n",
        "print(\"y\", y)"
      ],
      "execution_count": null,
      "outputs": [
        {
          "output_type": "stream",
          "name": "stdout",
          "text": [
            "x tensor([[   23,  1414,    11,  8222,     6,    27,     4,  2826,  3764,    21,\n",
            "            92,  5233,  8558, 15010,     5,    16,    53,    21,   183,     6,\n",
            "           107,     8,  7409,   148,  1552,    97,  6000, 10464,     2,     0,\n",
            "          2740, 15451,    33,  4008, 12925,     3,     1,     1,     1],\n",
            "        [   23, 15300,  6665,  8307,     7,  5233,    23,  1383,     7,     4,\n",
            "          4884, 15010,  8681,    11,    59,   933,    16,     8,  3045,     7,\n",
            "           566,    42,    36,  7800,  2886, 20302,  1433,  1977,    21,  4360,\n",
            "          2274,     7, 15256, 10099,    21, 15561,     3,     1,     1],\n",
            "        [    0,  5314,  3878,  7735,     8,  9726,     7,  1261,   158,     8,\n",
            "           219,  1060,  2187,     2,     8,   219,    50,   688, 11605,     6,\n",
            "             4,   414,   158,    43,     4,   494,  1568,  1214,  6985,     4,\n",
            "          2243,     2,  5986,     2,  2320,     7,     4,   982,     3]],\n",
            "       device='cuda:0')\n",
            "y tensor([3, 4, 3], device='cuda:0')\n"
          ]
        }
      ]
    },
    {
      "cell_type": "markdown",
      "metadata": {
        "id": "xYBJEoSNUwI0"
      },
      "source": [
        "#### Evaluate (mini-batch version)\n",
        "\n",
        "We can now update our evaluation function to use mini-batches"
      ]
    },
    {
      "cell_type": "code",
      "metadata": {
        "id": "eiZZpEghzqou"
      },
      "source": [
        "def evaluate(model, data,\n",
        "             batch_fn=get_minibatch, prep_fn=prepare_minibatch,\n",
        "             batch_size=16):\n",
        "  \"\"\"Accuracy of a model on given data set (using mini-batches)\"\"\"\n",
        "  correct = 0\n",
        "  total = 0\n",
        "  model.eval()  # disable dropout\n",
        "\n",
        "  for mb in batch_fn(data, batch_size=batch_size, shuffle=False):\n",
        "    x, targets = prep_fn(mb, model.vocab)\n",
        "    with torch.no_grad():\n",
        "      logits = model(x)\n",
        "\n",
        "    predictions = logits.argmax(dim=-1).view(-1)\n",
        "\n",
        "    # add the number of correct predictions to the total correct\n",
        "    correct += (predictions == targets.view(-1)).sum().item()\n",
        "    total += targets.size(0)\n",
        "\n",
        "  return correct, total, correct / float(total)"
      ],
      "execution_count": null,
      "outputs": []
    },
    {
      "cell_type": "markdown",
      "metadata": {
        "id": "23wAZomozh_2"
      },
      "source": [
        "# LSTM (Mini-batched)"
      ]
    },
    {
      "cell_type": "markdown",
      "metadata": {
        "id": "B-gkPU7jzBe2"
      },
      "source": [
        "With this, let's run the LSTM again but now using mini-batches!"
      ]
    },
    {
      "cell_type": "code",
      "metadata": {
        "id": "226Xg9OPzFbA",
        "colab": {
          "base_uri": "https://localhost:8080/"
        },
        "outputId": "1d5709e0-864c-4cf3-e748-fbb763b9e5e2"
      },
      "source": [
        "lstm_model = LSTMClassifier(\n",
        "    len(v.w2i), 300, 168, len(t2i), v)\n",
        "\n",
        "# copy pre-trained vectors into embeddings table\n",
        "with torch.no_grad():\n",
        "  lstm_model.embed.weight.data.copy_(torch.from_numpy(vectors))\n",
        "  lstm_model.embed.weight.requires_grad = False\n",
        "\n",
        "print(lstm_model)\n",
        "print_parameters(lstm_model)\n",
        "\n",
        "lstm_model = lstm_model.to(device)\n",
        "\n",
        "batch_size = 25\n",
        "optimizer = optim.Adam(lstm_model.parameters(), lr=2e-4)\n",
        "\n",
        "lstm_losses, lstm_accuracies = train_model(\n",
        "    lstm_model, optimizer, num_iterations=30000/batch_size,\n",
        "    print_every=250/batch_size, eval_every=250/batch_size,\n",
        "    batch_size=batch_size,\n",
        "    batch_fn=get_minibatch,\n",
        "    prep_fn=prepare_minibatch,\n",
        "    eval_fn=evaluate)"
      ],
      "execution_count": null,
      "outputs": [
        {
          "output_type": "stream",
          "name": "stdout",
          "text": [
            "LSTMClassifier(\n",
            "  (embed): Embedding(20727, 300, padding_idx=1)\n",
            "  (rnn): MyLSTMCell(300, 168)\n",
            "  (output_layer): Sequential(\n",
            "    (0): Dropout(p=0.5, inplace=False)\n",
            "    (1): Linear(in_features=168, out_features=5, bias=True)\n",
            "  )\n",
            ")\n",
            "embed.weight             [20727, 300] requires_grad=False\n",
            "rnn.W_h.weight           [672, 168]   requires_grad=True\n",
            "rnn.W_h.bias             [672]        requires_grad=True\n",
            "rnn.W_i.weight           [672, 300]   requires_grad=True\n",
            "rnn.W_i.bias             [672]        requires_grad=True\n",
            "output_layer.1.weight    [5, 168]     requires_grad=True\n",
            "output_layer.1.bias      [5]          requires_grad=True\n",
            "\n",
            "Total number of parameters: 6534785\n",
            "\n",
            "Shuffling training data\n",
            "Iter 10: loss=16.0614, time=0.37s\n",
            "iter 10: dev acc=0.2625\n",
            "new highscore\n",
            "Iter 20: loss=15.9684, time=1.15s\n",
            "iter 20: dev acc=0.2607\n",
            "Iter 30: loss=15.7804, time=1.86s\n",
            "iter 30: dev acc=0.2616\n",
            "Iter 40: loss=15.4380, time=2.59s\n",
            "iter 40: dev acc=0.2598\n",
            "Iter 50: loss=15.3086, time=3.33s\n",
            "iter 50: dev acc=0.2589\n",
            "Iter 60: loss=15.7008, time=4.07s\n",
            "iter 60: dev acc=0.2634\n",
            "new highscore\n",
            "Iter 70: loss=15.7083, time=4.85s\n",
            "iter 70: dev acc=0.2970\n",
            "new highscore\n",
            "Iter 80: loss=15.5820, time=5.63s\n",
            "iter 80: dev acc=0.3088\n",
            "new highscore\n",
            "Iter 90: loss=15.8498, time=6.60s\n",
            "iter 90: dev acc=0.2906\n",
            "Iter 100: loss=15.7496, time=7.33s\n",
            "iter 100: dev acc=0.2761\n",
            "Iter 110: loss=15.3713, time=8.10s\n",
            "iter 110: dev acc=0.2643\n",
            "Iter 120: loss=15.8604, time=8.87s\n",
            "iter 120: dev acc=0.2688\n",
            "Iter 130: loss=15.4552, time=9.62s\n",
            "iter 130: dev acc=0.2734\n",
            "Iter 140: loss=15.4779, time=10.47s\n",
            "iter 140: dev acc=0.2870\n",
            "Iter 150: loss=15.6939, time=11.46s\n",
            "iter 150: dev acc=0.3143\n",
            "new highscore\n",
            "Iter 160: loss=15.2550, time=12.45s\n",
            "iter 160: dev acc=0.3333\n",
            "new highscore\n",
            "Iter 170: loss=15.0598, time=13.61s\n",
            "iter 170: dev acc=0.3215\n",
            "Iter 180: loss=14.5707, time=14.56s\n",
            "iter 180: dev acc=0.3342\n",
            "new highscore\n",
            "Iter 190: loss=14.5603, time=15.63s\n",
            "iter 190: dev acc=0.3515\n",
            "new highscore\n",
            "Iter 200: loss=15.0549, time=16.57s\n",
            "iter 200: dev acc=0.3551\n",
            "new highscore\n",
            "Iter 210: loss=14.2621, time=17.54s\n",
            "iter 210: dev acc=0.3660\n",
            "new highscore\n",
            "Iter 220: loss=13.9118, time=18.34s\n",
            "iter 220: dev acc=0.3787\n",
            "new highscore\n",
            "Iter 230: loss=14.8592, time=19.09s\n",
            "iter 230: dev acc=0.3551\n",
            "Iter 240: loss=14.4967, time=19.82s\n",
            "iter 240: dev acc=0.3815\n",
            "new highscore\n",
            "Iter 250: loss=14.6024, time=20.60s\n",
            "iter 250: dev acc=0.3660\n",
            "Iter 260: loss=13.9214, time=21.29s\n",
            "iter 260: dev acc=0.3906\n",
            "new highscore\n",
            "Iter 270: loss=14.3614, time=22.09s\n",
            "iter 270: dev acc=0.3851\n",
            "Iter 280: loss=13.9225, time=22.90s\n",
            "iter 280: dev acc=0.3915\n",
            "new highscore\n",
            "Iter 290: loss=14.0485, time=23.73s\n",
            "iter 290: dev acc=0.3933\n",
            "new highscore\n",
            "Iter 300: loss=13.8624, time=24.55s\n",
            "iter 300: dev acc=0.3878\n",
            "Iter 310: loss=14.1327, time=25.30s\n",
            "iter 310: dev acc=0.3824\n",
            "Iter 320: loss=14.1414, time=26.06s\n",
            "iter 320: dev acc=0.3769\n",
            "Iter 330: loss=13.8769, time=26.99s\n",
            "iter 330: dev acc=0.3915\n",
            "Iter 340: loss=13.5553, time=27.94s\n",
            "iter 340: dev acc=0.3933\n",
            "Shuffling training data\n",
            "Iter 350: loss=13.5204, time=28.91s\n",
            "iter 350: dev acc=0.3996\n",
            "new highscore\n",
            "Iter 360: loss=14.1489, time=29.97s\n",
            "iter 360: dev acc=0.3760\n",
            "Iter 370: loss=14.3369, time=30.99s\n",
            "iter 370: dev acc=0.3942\n",
            "Iter 380: loss=13.8034, time=31.96s\n",
            "iter 380: dev acc=0.4087\n",
            "new highscore\n",
            "Iter 390: loss=13.4621, time=32.78s\n",
            "iter 390: dev acc=0.4096\n",
            "new highscore\n",
            "Iter 400: loss=13.5626, time=33.55s\n",
            "iter 400: dev acc=0.4042\n",
            "Iter 410: loss=13.7863, time=34.28s\n",
            "iter 410: dev acc=0.4060\n",
            "Iter 420: loss=13.7211, time=34.96s\n",
            "iter 420: dev acc=0.4051\n",
            "Iter 430: loss=13.2404, time=35.65s\n",
            "iter 430: dev acc=0.4042\n",
            "Iter 440: loss=13.9780, time=36.34s\n",
            "iter 440: dev acc=0.4005\n",
            "Iter 450: loss=13.1384, time=37.04s\n",
            "iter 450: dev acc=0.4042\n",
            "Iter 460: loss=13.3192, time=37.87s\n",
            "iter 460: dev acc=0.4042\n",
            "Iter 470: loss=13.5277, time=38.86s\n",
            "iter 470: dev acc=0.4060\n",
            "Iter 480: loss=13.6134, time=39.82s\n",
            "iter 480: dev acc=0.4160\n",
            "new highscore\n",
            "Iter 490: loss=13.2292, time=40.95s\n",
            "iter 490: dev acc=0.4105\n",
            "Iter 500: loss=12.9917, time=41.92s\n",
            "iter 500: dev acc=0.4042\n",
            "Iter 510: loss=13.2701, time=43.30s\n",
            "iter 510: dev acc=0.4078\n",
            "Iter 520: loss=13.5363, time=44.84s\n",
            "iter 520: dev acc=0.4015\n",
            "Iter 530: loss=13.7543, time=46.31s\n",
            "iter 530: dev acc=0.4078\n",
            "Iter 540: loss=13.2648, time=47.35s\n",
            "iter 540: dev acc=0.4114\n",
            "Iter 550: loss=12.6049, time=48.34s\n",
            "iter 550: dev acc=0.4042\n",
            "Iter 560: loss=12.8486, time=49.29s\n",
            "iter 560: dev acc=0.4087\n",
            "Iter 570: loss=13.5066, time=50.22s\n",
            "iter 570: dev acc=0.4060\n",
            "Iter 580: loss=13.6929, time=50.90s\n",
            "iter 580: dev acc=0.4096\n",
            "Iter 590: loss=12.4727, time=51.59s\n",
            "iter 590: dev acc=0.4151\n",
            "Iter 600: loss=13.2223, time=52.28s\n",
            "iter 600: dev acc=0.4042\n",
            "Iter 610: loss=13.2187, time=52.96s\n",
            "iter 610: dev acc=0.4015\n",
            "Iter 620: loss=12.9790, time=53.63s\n",
            "iter 620: dev acc=0.4096\n",
            "Iter 630: loss=13.6823, time=54.33s\n",
            "iter 630: dev acc=0.4133\n",
            "Iter 640: loss=12.4791, time=55.01s\n",
            "iter 640: dev acc=0.4133\n",
            "Iter 650: loss=12.8903, time=55.75s\n",
            "iter 650: dev acc=0.4042\n",
            "Iter 660: loss=12.8618, time=56.47s\n",
            "iter 660: dev acc=0.4105\n",
            "Iter 670: loss=12.9472, time=57.25s\n",
            "iter 670: dev acc=0.4005\n",
            "Iter 680: loss=14.1955, time=58.03s\n",
            "iter 680: dev acc=0.3969\n",
            "Shuffling training data\n",
            "Iter 690: loss=12.3513, time=58.83s\n",
            "iter 690: dev acc=0.4105\n",
            "Iter 700: loss=12.4159, time=59.55s\n",
            "iter 700: dev acc=0.4160\n",
            "Iter 710: loss=12.6337, time=60.40s\n",
            "iter 710: dev acc=0.4160\n",
            "Iter 720: loss=13.2390, time=61.44s\n",
            "iter 720: dev acc=0.4124\n",
            "Iter 730: loss=12.8251, time=62.42s\n",
            "iter 730: dev acc=0.4196\n",
            "new highscore\n",
            "Iter 740: loss=13.3715, time=63.48s\n",
            "iter 740: dev acc=0.4078\n",
            "Iter 750: loss=12.7484, time=64.46s\n",
            "iter 750: dev acc=0.4087\n",
            "Iter 760: loss=12.7338, time=65.41s\n",
            "iter 760: dev acc=0.4124\n",
            "Iter 770: loss=12.7457, time=66.31s\n",
            "iter 770: dev acc=0.4223\n",
            "new highscore\n",
            "Iter 780: loss=12.7978, time=67.05s\n",
            "iter 780: dev acc=0.4087\n",
            "Iter 790: loss=12.4392, time=67.75s\n",
            "iter 790: dev acc=0.4187\n",
            "Iter 800: loss=12.5250, time=68.52s\n",
            "iter 800: dev acc=0.4242\n",
            "new highscore\n",
            "Iter 810: loss=13.3252, time=69.26s\n",
            "iter 810: dev acc=0.4160\n",
            "Iter 820: loss=13.3823, time=69.95s\n",
            "iter 820: dev acc=0.4160\n",
            "Iter 830: loss=12.6449, time=70.65s\n",
            "iter 830: dev acc=0.4060\n",
            "Iter 840: loss=12.5000, time=71.37s\n",
            "iter 840: dev acc=0.4060\n",
            "Iter 850: loss=13.1493, time=72.11s\n",
            "iter 850: dev acc=0.4169\n",
            "Iter 860: loss=12.8527, time=72.82s\n",
            "iter 860: dev acc=0.4124\n",
            "Iter 870: loss=12.5604, time=73.60s\n",
            "iter 870: dev acc=0.4205\n",
            "Iter 880: loss=13.0911, time=74.31s\n",
            "iter 880: dev acc=0.4223\n",
            "Iter 890: loss=12.2971, time=75.02s\n",
            "iter 890: dev acc=0.4187\n",
            "Iter 900: loss=12.4486, time=75.71s\n",
            "iter 900: dev acc=0.4233\n",
            "Iter 910: loss=12.8581, time=76.63s\n",
            "iter 910: dev acc=0.4187\n",
            "Iter 920: loss=13.0136, time=77.65s\n",
            "iter 920: dev acc=0.4096\n",
            "Iter 930: loss=12.5518, time=78.70s\n",
            "iter 930: dev acc=0.4332\n",
            "new highscore\n",
            "Iter 940: loss=12.6564, time=79.84s\n",
            "iter 940: dev acc=0.4178\n",
            "Iter 950: loss=13.1390, time=80.87s\n",
            "iter 950: dev acc=0.4205\n",
            "Iter 960: loss=12.9118, time=81.89s\n",
            "iter 960: dev acc=0.4178\n",
            "Iter 970: loss=13.1417, time=82.75s\n",
            "iter 970: dev acc=0.4169\n",
            "Iter 980: loss=13.0842, time=83.44s\n",
            "iter 980: dev acc=0.4305\n",
            "Iter 990: loss=12.9584, time=84.15s\n",
            "iter 990: dev acc=0.4260\n",
            "Iter 1000: loss=12.4612, time=84.86s\n",
            "iter 1000: dev acc=0.4278\n",
            "Iter 1010: loss=13.1034, time=85.54s\n",
            "iter 1010: dev acc=0.4260\n",
            "Iter 1020: loss=12.4628, time=86.24s\n",
            "iter 1020: dev acc=0.4187\n",
            "Shuffling training data\n",
            "Iter 1030: loss=13.2869, time=86.94s\n",
            "iter 1030: dev acc=0.4287\n",
            "Iter 1040: loss=12.1750, time=87.63s\n",
            "iter 1040: dev acc=0.4369\n",
            "new highscore\n",
            "Iter 1050: loss=12.7486, time=88.39s\n",
            "iter 1050: dev acc=0.4178\n",
            "Iter 1060: loss=11.8986, time=89.11s\n",
            "iter 1060: dev acc=0.4323\n",
            "Iter 1070: loss=12.2834, time=89.80s\n",
            "iter 1070: dev acc=0.4287\n",
            "Iter 1080: loss=13.1134, time=90.52s\n",
            "iter 1080: dev acc=0.4296\n",
            "Iter 1090: loss=11.7615, time=91.25s\n",
            "iter 1090: dev acc=0.4332\n",
            "Iter 1100: loss=12.3234, time=91.94s\n",
            "iter 1100: dev acc=0.4278\n",
            "Iter 1110: loss=13.1937, time=92.82s\n",
            "iter 1110: dev acc=0.4233\n",
            "Iter 1120: loss=13.1425, time=93.84s\n",
            "iter 1120: dev acc=0.4124\n",
            "Iter 1130: loss=12.9099, time=94.92s\n",
            "iter 1130: dev acc=0.4287\n",
            "Iter 1140: loss=12.2216, time=95.91s\n",
            "iter 1140: dev acc=0.4369\n",
            "Iter 1150: loss=12.8642, time=96.86s\n",
            "iter 1150: dev acc=0.4314\n",
            "Iter 1160: loss=12.3651, time=97.90s\n",
            "iter 1160: dev acc=0.4387\n",
            "new highscore\n",
            "Iter 1170: loss=12.1774, time=98.89s\n",
            "iter 1170: dev acc=0.4342\n",
            "Iter 1180: loss=12.6751, time=99.63s\n",
            "iter 1180: dev acc=0.4223\n",
            "Iter 1190: loss=12.0816, time=100.40s\n",
            "iter 1190: dev acc=0.4069\n",
            "Iter 1200: loss=12.1835, time=101.10s\n",
            "iter 1200: dev acc=0.4251\n",
            "Done training\n",
            "Loading best model\n",
            "best model iter 1160: train acc=0.4683, dev acc=0.4387, test acc=0.4548\n"
          ]
        }
      ]
    },
    {
      "cell_type": "code",
      "metadata": {
        "id": "ymj1rLDMvyhp",
        "colab": {
          "base_uri": "https://localhost:8080/",
          "height": 430
        },
        "outputId": "509c6392-ffc7-40b7-d887-c5af495ce985"
      },
      "source": [
        "# plot validation accuracy\n",
        "plt.plot(lstm_accuracies);"
      ],
      "execution_count": null,
      "outputs": [
        {
          "output_type": "display_data",
          "data": {
            "text/plain": [
              "<Figure size 640x480 with 1 Axes>"
            ],
            "image/png": "[encoded data removed]"
          },
          "metadata": {}
        }
      ]
    },
    {
      "cell_type": "code",
      "metadata": {
        "id": "1je5S1RHVC5R",
        "colab": {
          "base_uri": "https://localhost:8080/",
          "height": 430
        },
        "outputId": "bbbaa9cf-89d2-4382-dbfb-ebd6002b8381"
      },
      "source": [
        "# plot training loss\n",
        "plt.plot(lstm_losses);"
      ],
      "execution_count": null,
      "outputs": [
        {
          "output_type": "display_data",
          "data": {
            "text/plain": [
              "<Figure size 640x480 with 1 Axes>"
            ],
            "image/png": "[encoded data removed]"
          },
          "metadata": {}
        }
      ]
    },
    {
      "cell_type": "markdown",
      "source": [
        "Fine-tuning word embeddings"
      ],
      "metadata": {
        "id": "eep3X9go3rtj"
      }
    },
    {
      "cell_type": "code",
      "source": [
        "lstm_model = LSTMClassifier(\n",
        "    len(v.w2i), 300, 168, len(t2i), v)\n",
        "\n",
        "# Now fine-tune your embeddings together with the model\n",
        "# YOUR CODE HERE\n",
        "with torch.no_grad():\n",
        "  lstm_model.embed.weight.data.copy_(torch.from_numpy(vectors))\n",
        "  lstm_model.embed.weight.requires_grad = True\n",
        "\n",
        "print(lstm_model)\n",
        "print_parameters(lstm_model)\n",
        "\n",
        "lstm_model = lstm_model.to(device)\n",
        "\n",
        "batch_size = 25\n",
        "optimizer = optim.Adam(lstm_model.parameters(), lr=2e-4)\n",
        "\n",
        "lstm_losses, lstm_accuracies = train_model(\n",
        "    lstm_model, optimizer, num_iterations=30000/batch_size,\n",
        "    print_every=500/batch_size, eval_every=1000/batch_size,\n",
        "    batch_size=batch_size,\n",
        "    batch_fn=get_minibatch,\n",
        "    prep_fn=prepare_minibatch,\n",
        "    eval_fn=evaluate)"
      ],
      "metadata": {
        "id": "HJ01PSst3yAr",
        "colab": {
          "base_uri": "https://localhost:8080/"
        },
        "outputId": "ba1e3617-101b-4dc0-cee7-d4c62532e5be"
      },
      "execution_count": null,
      "outputs": [
        {
          "output_type": "stream",
          "name": "stdout",
          "text": [
            "LSTMClassifier(\n",
            "  (embed): Embedding(20727, 300, padding_idx=1)\n",
            "  (rnn): MyLSTMCell(300, 168)\n",
            "  (output_layer): Sequential(\n",
            "    (0): Dropout(p=0.5, inplace=False)\n",
            "    (1): Linear(in_features=168, out_features=5, bias=True)\n",
            "  )\n",
            ")\n",
            "embed.weight             [20727, 300] requires_grad=True\n",
            "rnn.W_h.weight           [672, 168]   requires_grad=True\n",
            "rnn.W_h.bias             [672]        requires_grad=True\n",
            "rnn.W_i.weight           [672, 300]   requires_grad=True\n",
            "rnn.W_i.bias             [672]        requires_grad=True\n",
            "output_layer.1.weight    [5, 168]     requires_grad=True\n",
            "output_layer.1.bias      [5]          requires_grad=True\n",
            "\n",
            "Total number of parameters: 6534785\n",
            "\n",
            "Shuffling training data\n",
            "Iter 20: loss=31.7866, time=0.70s\n",
            "Iter 40: loss=31.4456, time=1.39s\n",
            "iter 40: dev acc=0.2561\n",
            "new highscore\n",
            "Iter 60: loss=31.6679, time=2.96s\n",
            "Iter 80: loss=31.1515, time=3.82s\n",
            "iter 80: dev acc=0.3088\n",
            "new highscore\n",
            "Iter 100: loss=31.3180, time=5.71s\n",
            "Iter 120: loss=31.3596, time=6.61s\n",
            "iter 120: dev acc=0.3270\n",
            "new highscore\n",
            "Iter 140: loss=30.5959, time=8.24s\n",
            "Iter 160: loss=30.5902, time=8.86s\n",
            "iter 160: dev acc=0.3025\n",
            "Iter 180: loss=30.9200, time=10.01s\n",
            "Iter 200: loss=29.2884, time=10.71s\n",
            "iter 200: dev acc=0.3615\n",
            "new highscore\n",
            "Iter 220: loss=28.8960, time=12.08s\n",
            "Iter 240: loss=27.8700, time=12.75s\n",
            "iter 240: dev acc=0.3878\n",
            "new highscore\n",
            "Iter 260: loss=28.7016, time=14.03s\n",
            "Iter 280: loss=27.9027, time=14.70s\n",
            "iter 280: dev acc=0.3924\n",
            "new highscore\n",
            "Iter 300: loss=27.5820, time=15.93s\n",
            "Iter 320: loss=27.6680, time=16.61s\n",
            "iter 320: dev acc=0.4096\n",
            "new highscore\n",
            "Iter 340: loss=26.2816, time=17.93s\n",
            "Shuffling training data\n",
            "Iter 360: loss=27.1657, time=18.83s\n",
            "iter 360: dev acc=0.4096\n",
            "Iter 380: loss=25.5102, time=20.33s\n",
            "Iter 400: loss=26.6255, time=21.24s\n",
            "iter 400: dev acc=0.4178\n",
            "new highscore\n",
            "Iter 420: loss=26.5579, time=23.01s\n",
            "Iter 440: loss=25.7416, time=23.80s\n",
            "iter 440: dev acc=0.4233\n",
            "new highscore\n",
            "Iter 460: loss=25.9352, time=25.15s\n",
            "Iter 480: loss=24.4753, time=25.80s\n",
            "iter 480: dev acc=0.4205\n",
            "Iter 500: loss=26.0468, time=26.87s\n",
            "Iter 520: loss=25.6338, time=27.54s\n",
            "iter 520: dev acc=0.4214\n",
            "Iter 540: loss=24.9416, time=28.69s\n",
            "Iter 560: loss=25.1959, time=29.38s\n",
            "iter 560: dev acc=0.4169\n",
            "Iter 580: loss=25.9268, time=30.58s\n",
            "Iter 600: loss=26.1972, time=31.23s\n",
            "iter 600: dev acc=0.4296\n",
            "new highscore\n",
            "Iter 620: loss=24.7152, time=32.54s\n",
            "Iter 640: loss=25.5530, time=33.18s\n",
            "iter 640: dev acc=0.4260\n",
            "Iter 660: loss=25.4233, time=34.56s\n",
            "Iter 680: loss=25.3937, time=35.41s\n",
            "iter 680: dev acc=0.4160\n",
            "Shuffling training data\n",
            "Iter 700: loss=23.4956, time=36.95s\n",
            "Iter 720: loss=24.2997, time=37.88s\n",
            "iter 720: dev acc=0.4314\n",
            "new highscore\n",
            "Iter 740: loss=24.8131, time=39.66s\n",
            "Iter 760: loss=23.4636, time=40.32s\n",
            "iter 760: dev acc=0.4305\n",
            "Iter 780: loss=22.6840, time=41.44s\n",
            "Iter 800: loss=23.8555, time=42.14s\n",
            "iter 800: dev acc=0.4342\n",
            "new highscore\n",
            "Iter 820: loss=23.2021, time=43.51s\n",
            "Iter 840: loss=23.5425, time=44.27s\n",
            "iter 840: dev acc=0.4305\n",
            "Iter 860: loss=22.3117, time=45.43s\n",
            "Iter 880: loss=24.0779, time=46.11s\n",
            "iter 880: dev acc=0.4269\n",
            "Iter 900: loss=23.2862, time=47.24s\n",
            "Iter 920: loss=23.0922, time=47.95s\n",
            "iter 920: dev acc=0.4342\n",
            "Iter 940: loss=24.3168, time=49.09s\n",
            "Iter 960: loss=24.3322, time=49.84s\n",
            "iter 960: dev acc=0.4414\n",
            "new highscore\n",
            "Iter 980: loss=23.2213, time=51.56s\n",
            "Iter 1000: loss=22.8911, time=52.46s\n",
            "iter 1000: dev acc=0.4323\n",
            "Iter 1020: loss=23.1391, time=53.99s\n",
            "Shuffling training data\n",
            "Iter 1040: loss=21.8657, time=54.99s\n",
            "iter 1040: dev acc=0.4423\n",
            "new highscore\n",
            "Iter 1060: loss=21.6682, time=56.48s\n",
            "Iter 1080: loss=22.6575, time=57.13s\n",
            "iter 1080: dev acc=0.4314\n",
            "Iter 1100: loss=22.4163, time=58.20s\n",
            "Iter 1120: loss=21.2552, time=58.88s\n",
            "iter 1120: dev acc=0.4396\n",
            "Iter 1140: loss=21.5947, time=60.01s\n",
            "Iter 1160: loss=19.8632, time=60.68s\n",
            "iter 1160: dev acc=0.4441\n",
            "new highscore\n",
            "Iter 1180: loss=21.0449, time=61.95s\n",
            "Iter 1200: loss=21.0837, time=62.60s\n",
            "iter 1200: dev acc=0.4423\n",
            "Done training\n",
            "Loading best model\n",
            "best model iter 1160: train acc=0.5706, dev acc=0.4441, test acc=0.4588\n"
          ]
        }
      ]
    },
    {
      "cell_type": "code",
      "source": [
        "# plot validation accuracy\n",
        "plt.plot(lstm_accuracies);"
      ],
      "metadata": {
        "id": "lU6RiipU4Olf",
        "colab": {
          "base_uri": "https://localhost:8080/",
          "height": 430
        },
        "outputId": "a10a4ed2-e564-4950-e25e-78e26b493127"
      },
      "execution_count": null,
      "outputs": [
        {
          "output_type": "display_data",
          "data": {
            "text/plain": [
              "<Figure size 640x480 with 1 Axes>"
            ],
            "image/png": "[encoded data removed]"
          },
          "metadata": {}
        }
      ]
    },
    {
      "cell_type": "code",
      "source": [
        "# plot training loss\n",
        "plt.plot(lstm_losses);"
      ],
      "metadata": {
        "id": "CwjnCN1x4O7j",
        "colab": {
          "base_uri": "https://localhost:8080/",
          "height": 430
        },
        "outputId": "4bc34573-4cc8-4f55-8649-9446a20799da"
      },
      "execution_count": null,
      "outputs": [
        {
          "output_type": "display_data",
          "data": {
            "text/plain": [
              "<Figure size 640x480 with 1 Axes>"
            ],
            "image/png": "[encoded data removed]"
          },
          "metadata": {}
        }
      ]
    },
    {
      "cell_type": "markdown",
      "metadata": {
        "id": "q7WjcxXntMi5"
      },
      "source": [
        "# Tree-LSTM"
      ]
    },
    {
      "cell_type": "markdown",
      "metadata": {
        "id": "jyj_UD6GtO5M"
      },
      "source": [
        "In the final part of this lab we will exploit the tree structure of the SST data.\n",
        "Until now we only used the surface tokens, but remember that our data examples include binary trees with a sentiment score at every node.\n",
        "\n",
        "In particular, we will implement **N-ary Tree-LSTMs** which are described in:\n",
        "\n",
        "> Kai Sheng Tai, Richard Socher, and Christopher D. Manning. [Improved Semantic Representations From Tree-Structured Long Short-Term Memory Networks](http://aclweb.org/anthology/P/P15/P15-1150.pdf) ACL 2015.\n",
        "\n",
        "Since our trees are binary (i.e., N=2), we can refer to these as *Binary Tree-LSTMs*. If you study equations (9) to (14) in the paper, you will find that they are not all too different from the original LSTM that you already have.\n",
        "\n",
        "You should read this paper carefully and make sure that you understand the approach. You will also find our LSTM baseline there.\n",
        "Note however that Tree-LSTMs were proposed around the same time by two other groups:\n",
        "\n",
        "> Phong Le and Willem Zuidema. [Compositional distributional semantics with long short term memory](http://anthology.aclweb.org/S/S15/S15-1002.pdf). *SEM 2015.\n",
        "\n",
        "> Xiaodan Zhu, Parinaz Sobihani,  and Hongyu Guo. [Long short-term memory over recursive structures](http://proceedings.mlr.press/v37/zhub15.pdf). ICML 2015.\n",
        "\n",
        "It is good scientific practice to cite all three papers in your report.\n",
        "\n",
        "\n"
      ]
    },
    {
      "cell_type": "markdown",
      "metadata": {
        "id": "1rDzvSos3JFp"
      },
      "source": [
        "## Computation\n",
        "\n",
        "Do you remember the `transitions_from_treestring` function all the way in the beginning of this lab? Every example contains a **transition sequence** produced by this function. Let's look at it again:\n",
        "\n"
      ]
    },
    {
      "cell_type": "code",
      "metadata": {
        "id": "5pg0Xumc3ZUS",
        "colab": {
          "base_uri": "https://localhost:8080/"
        },
        "outputId": "8e0ac339-1fb7-45e5-df09-fc1f66f28512"
      },
      "source": [
        "ex = next(examplereader(\"trees/dev.txt\"))\n",
        "print(TreePrettyPrinter(ex.tree))\n",
        "print(\"Transitions:\")\n",
        "print(ex.transitions)"
      ],
      "execution_count": null,
      "outputs": [
        {
          "output_type": "stream",
          "name": "stdout",
          "text": [
            "              3                                                                     \n",
            "  ____________|____________________                                                  \n",
            " |                                 4                                                \n",
            " |        _________________________|______________________________________________   \n",
            " |       4                                                                        | \n",
            " |    ___|______________                                                          |  \n",
            " |   |                  4                                                         | \n",
            " |   |         _________|__________                                               |  \n",
            " |   |        |                    3                                              | \n",
            " |   |        |               _____|______________________                        |  \n",
            " |   |        |              |                            4                       | \n",
            " |   |        |              |            ________________|_______                |  \n",
            " |   |        |              |           |                        2               | \n",
            " |   |        |              |           |                 _______|___            |  \n",
            " |   |        3              |           |                |           2           | \n",
            " |   |    ____|_____         |           |                |        ___|_____      |  \n",
            " |   |   |          4        |           3                |       2         |     | \n",
            " |   |   |     _____|___     |      _____|_______         |    ___|___      |     |  \n",
            " 2   2   2    3         2    2     3             2        2   2       2     2     2 \n",
            " |   |   |    |         |    |     |             |        |   |       |     |     |  \n",
            " It  's  a  lovely     film with lovely     performances  by Buy     and Accorsi  . \n",
            "\n",
            "Transitions:\n",
            "[0, 0, 0, 0, 0, 1, 1, 0, 0, 0, 1, 0, 0, 0, 1, 0, 1, 1, 1, 1, 1, 1, 0, 1, 1]\n"
          ]
        },
        {
          "output_type": "stream",
          "name": "stderr",
          "text": [
            "<ipython-input-74-0d63b35e49bd>:2: DeprecationWarning: \n",
            "    Class TreePrettyPrinter has been deprecated.  Import\n",
            "    `TreePrettyPrinter` using `from nltk.tree import\n",
            "    TreePrettyPrinter` instead.\n",
            "  print(TreePrettyPrinter(ex.tree))\n"
          ]
        }
      ]
    },
    {
      "cell_type": "markdown",
      "metadata": {
        "id": "ceBFe9fU4BI_"
      },
      "source": [
        "Note that the tree is **binary**. Every node has two children, except for pre-terminal nodes.\n",
        "\n",
        "A tree like this can be described by a sequence of **SHIFT (0)** and **REDUCE (1)** actions.\n",
        "\n",
        "To construct a tree, we can use the transitions as follows:\n",
        "- **reverse** the sentence (a list of tokens) and call this the **buffer**\n",
        "   - the first word is now on top (last in the list), and we would get it when calling pop() on the buffer\n",
        "- create an empty list and call it the **stack**\n",
        "- iterate through the transition sequence:\n",
        "  - if it says SHIFT(0), we pop a word from the buffer, and push it to the stack\n",
        "  - if it says REDUCE(1), we pop the **top two items** from the stack, and combine them (e.g. with a Tree-LSTM!), creating a new node that we push back on the stack\n",
        "  \n",
        "Convince yourself that going through the transition sequence above will result in the tree that you see.\n",
        "For example, we would start by putting the following words on the stack (by shifting 5 times, starting with `It`):\n",
        "\n",
        "```\n",
        "Top of the stack:\n",
        "-----------------\n",
        "film\n",
        "lovely\n",
        "a\n",
        "'s  \n",
        "It\n",
        "```\n",
        "Now we find a REDUCE in the transition sequence, so we get the top two words (film and lovely), and combine them, so our new stack becomes:\n",
        "```\n",
        "Top of the stack:\n",
        "-----------------\n",
        "lovely film\n",
        "a\n",
        "'s  \n",
        "It\n",
        "```\n",
        "\n",
        "We will use this approach when encoding sentences with our Tree-LSTM.\n",
        "Now, our sentence is a reversed list of word embeddings.\n",
        "When we shift, we move a word embedding to the stack.\n",
        "When we reduce, we apply the Tree-LSTM to the top two vectors, and the result is a single vector that we put back on the stack.\n",
        "After going through the whole transition sequence, we will have the root node on our stack! We can use that to classify the sentence.\n",
        "\n"
      ]
    },
    {
      "cell_type": "markdown",
      "metadata": {
        "id": "pDWKShm1AfmR"
      },
      "source": [
        "## Obtaining the transition sequence\n"
      ]
    },
    {
      "cell_type": "markdown",
      "metadata": {
        "id": "fO7VKWVpAbWj"
      },
      "source": [
        "\n",
        "So what goes on in the `transitions_from_treestring` function?\n",
        "\n",
        "The idea ([explained in this blog post](https://devblogs.nvidia.com/recursive-neural-networks-pytorch/)) is that, if we had a tree, we could traverse through the tree, and every time that we find a node containing only a word, we output a SHIFT.\n",
        "Every time **after** we have finished visiting the children of a node, we output a REDUCE.\n",
        "(What is this tree traversal called?)\n",
        "\n",
        "However, our `transitions_from_treestring` function operates directly on the string representation. It works as follows.\n",
        "\n",
        "We start with the representation:\n",
        "\n",
        "```\n",
        "(3 (2 It) (4 (4 (2 's) (4 (3 (2 a) (4 (3 lovely) (2 film))) (3 (2 with) (4 (3 (3 lovely) (2 performances)) (2 (2 by) (2 (2 (2 Buy) (2 and)) (2 Accorsi))))))) (2 .)))\n",
        "```\n",
        "\n",
        "First we remove pre-terminal nodes (and add spaces before closing brackets):\n",
        "\n",
        "```\n",
        "(3 It (4 (4 's (4 (3 a (4 lovely film ) ) (3 with (4 (3 lovely performances ) (2 by (2 (2 Buy and )  Accorsi ) ) ) ) ) ) . ) )\n",
        "```\n",
        "\n",
        "Then we remove node labels:\n",
        "\n",
        "```\n",
        "( It ( ( 's ( ( a ( lovely film ) ) ( with ( ( lovely performances) ( by ( ( Buy and )  Accorsi ) ) ) ) ) ) . ) )\n",
        "```\n",
        "\n",
        "Then we remove opening brackets:\n",
        "\n",
        "```\n",
        "It 's a lovely film ) ) with lovely performances ) by Buy and ) Accorsi ) ) ) ) ) ) . ) )\n",
        "```\n",
        "\n",
        "Now we replace words by S (for SHIFT), and closing brackets by R (for REDUCE):\n",
        "\n",
        "```\n",
        "S S S S S R R S S S R S S S R S R R R R R R S R R\n",
        "0 0 0 0 0 1 1 0 0 0 1 0 0 0 1 0 1 1 1 1 1 1 0 1 1\n",
        "```\n",
        "\n",
        "Et voilà. We just obtained the transition sequence!"
      ]
    },
    {
      "cell_type": "code",
      "metadata": {
        "id": "1y069gM4_v64",
        "colab": {
          "base_uri": "https://localhost:8080/"
        },
        "outputId": "29b0f7e9-d36c-472c-c6fd-887dd990e618"
      },
      "source": [
        "# for comparison\n",
        "seq = ex.transitions\n",
        "s = \" \".join([\"S\" if t == 0 else \"R\" for t in seq])\n",
        "print(s)\n",
        "print(\" \".join(map(str, seq)))"
      ],
      "execution_count": null,
      "outputs": [
        {
          "output_type": "stream",
          "name": "stdout",
          "text": [
            "S S S S S R R S S S R S S S R S R R R R R R S R R\n",
            "0 0 0 0 0 1 1 0 0 0 1 0 0 0 1 0 1 1 1 1 1 1 0 1 1\n"
          ]
        }
      ]
    },
    {
      "cell_type": "markdown",
      "metadata": {
        "id": "d-qOuKbDAiBn"
      },
      "source": [
        "## Coding the Tree-LSTM\n",
        "\n",
        "The code below contains a Binary Tree-LSTM cell.\n",
        "It is used in the TreeLSTM class below it, which in turn is used in the TreeLSTMClassifier.\n",
        "The job of the TreeLSTM class is to encode a complete sentence and return the root node.\n",
        "The job of the TreeLSTMCell is to return a new state when provided with two children (a reduce action). By repeatedly calling the TreeLSTMCell, the TreeLSTM will encode a sentence. This can be done for multiple sentences at the same time.\n",
        "\n",
        "\n",
        "#### Exercise\n",
        "Check the `forward` function and complete the Tree-LSTM formulas.\n",
        "You can see that we defined a large linear layer for you, that projects the *concatenation* of the left and right child into the input gate, left forget gate, right forget gate, candidate, and output gate."
      ]
    },
    {
      "cell_type": "code",
      "metadata": {
        "id": "J9b9mjMlN7Pb"
      },
      "source": [
        "class TreeLSTMCell(nn.Module):\n",
        "  \"\"\"A Binary Tree LSTM cell\"\"\"\n",
        "\n",
        "  def __init__(self, input_size, hidden_size, bias=True):\n",
        "    \"\"\"Creates the weights for this LSTM\"\"\"\n",
        "    super(TreeLSTMCell, self).__init__()\n",
        "\n",
        "    self.input_size = input_size\n",
        "    self.hidden_size = hidden_size\n",
        "    self.bias = bias\n",
        "\n",
        "    self.reduce_layer = nn.Linear(2 * hidden_size, 5 * hidden_size)\n",
        "    self.dropout_layer = nn.Dropout(p=0.25)\n",
        "\n",
        "    self.reset_parameters()\n",
        "\n",
        "  def reset_parameters(self):\n",
        "    \"\"\"This is PyTorch's default initialization method\"\"\"\n",
        "    stdv = 1.0 / math.sqrt(self.hidden_size)\n",
        "    for weight in self.parameters():\n",
        "      weight.data.uniform_(-stdv, stdv)\n",
        "\n",
        "  def forward(self, hx_l, hx_r, mask=None):\n",
        "    \"\"\"\n",
        "    hx_l is ((batch, hidden_size), (batch, hidden_size))\n",
        "    hx_r is ((batch, hidden_size), (batch, hidden_size))\n",
        "    \"\"\"\n",
        "    prev_h_l, prev_c_l = hx_l  # left child\n",
        "    prev_h_r, prev_c_r = hx_r  # right child\n",
        "\n",
        "    B = prev_h_l.size(0)\n",
        "\n",
        "    # we concatenate the left and right children\n",
        "    # you can also project from them separately and then sum\n",
        "    children = torch.cat([prev_h_l, prev_h_r], dim=1)\n",
        "\n",
        "    # project the combined children into a 5D tensor for i,fl,fr,g,o\n",
        "    # this is done for speed, and you could also do it separately\n",
        "    proj = self.reduce_layer(children)  # shape: B x 5D\n",
        "\n",
        "    # each shape: B x D\n",
        "    i, f_l, f_r, g, o = torch.chunk(proj, 5, dim=-1)\n",
        "\n",
        "    # main Tree LSTM computation\n",
        "\n",
        "    # YOUR CODE HERE\n",
        "    # You only need to complete the commented lines below.\n",
        "    #raise NotImplementedError(\"Implement this.\")\n",
        "\n",
        "    # The shape of each of these is [batch_size, hidden_size]\n",
        "\n",
        "    i = i.sigmoid()\n",
        "    f_l = f_l.sigmoid()\n",
        "    f_r = f_r.sigmoid()\n",
        "    g = g.tanh()\n",
        "    o = o.sigmoid()\n",
        "\n",
        "    c = i * g + f_l * prev_c_l + f_r * prev_c_r\n",
        "    h = o * c.tanh()\n",
        "\n",
        "    return h, c\n",
        "\n",
        "  def __repr__(self):\n",
        "    return \"{}({:d}, {:d})\".format(\n",
        "        self.__class__.__name__, self.input_size, self.hidden_size)"
      ],
      "execution_count": null,
      "outputs": []
    },
    {
      "cell_type": "markdown",
      "metadata": {
        "id": "Dj5dYSGh_643"
      },
      "source": [
        "## Explanation of the TreeLSTM class\n",
        "\n",
        "\n",
        "The code below contains the TreeLSTM class, which implements everything we need in order to encode a sentence from word embeddings. The calculations are the same as in the paper, implemented such that the class `TreeLSTMCell` above is as general as possible and only takes two children to reduce them into a parent.\n",
        "\n",
        "\n",
        "**Initialize $\\mathbf{h}$ and $\\mathbf{c}$ outside of the cell for the leaves**\n",
        "\n",
        "At the leaves of each tree the children nodes are **empty**, whereas in higher levels the nodes are binary tree nodes that *do* have a left and right child (but no input $x$). By initializing the leaf nodes outside of the cell class (`TreeLSTMCell`), we avoid if-else statements in the forward pass.\n",
        "\n",
        "The `TreeLSTM` class (among other things) pre-calculates an initial $h$ and $c$ for every word in the sentence. Since the initial left and right child are 0, the only calculations we need to do are based on $x$, and we can drop the forget gate calculation (`prev_c_l` and `prev_c_r` are zero). The calculations we do in order to initalize $h$ and $c$ are then:\n",
        "\n",
        "$$\n",
        "c_1 =  W^{(u)}x_1 \\\\\n",
        "o_1 = \\sigma (W^{(i)}x_1) \\\\\n",
        "h_1 = o_1 \\odot \\text{tanh}(c_1)$$\n",
        "*NB: note that these equations are chosen as initializations of $c$ and $h$, other initializations are possible and might work equally well.*\n",
        "\n",
        "**Sentence Representations**\n",
        "\n",
        "All our leaf nodes are now initialized, so we can start processing the sentence in its tree form. Each sentence is represented by a buffer (initially a list with a concatenation of $[h_1, c_1]$ for every word in the reversed sentence), a stack (initially an empty list) and a transition sequence. To encode our sentence, we construct the tree from its transition sequence as explained earlier.\n",
        "\n",
        "*A short example that constructs a tree:*\n",
        "\n",
        "We loop over the time dimension of the batched transition sequences (i.e. row by row), which contain values of 0's, 1's and 2's (representing SHIFT, REDUCE and padding respectively). If we have a batch of size 2 where the first example has a transition sequence given by [0, 0, 1, 0, 0, 0, 1] and the second by [0, 0, 1, 0, 0, 1], our transition batch will be given by the following two-dimensional numpy array:\n",
        "\n",
        "$$\n",
        "\\text{transitions} =\n",
        "\\begin{pmatrix}\n",
        "0 & 0\\\\\n",
        "0 & 0\\\\\n",
        "1 & 1\\\\\n",
        "0 & 0\\\\\n",
        "0 & 0\\\\\n",
        "0 & 1\\\\\n",
        "1 & 2\n",
        "\\end{pmatrix}\n",
        "$$\n",
        "The inner loop (`for transition, buffer, stack in zip(t_batch, buffers, stacks)`) goes over each example in the batch and updates its buffer and stack. The nested loop for this example will then do roughy the following:\n",
        "\n",
        "```\n",
        "Time = 0:  t_batch = [0, 0], the inner loop performs 2 SHIFTs.\n",
        "\n",
        "Time = 1:  t_batch = [0, 0], \"..\"\n",
        "\n",
        "Time = 2:  t_batch = [1, 1], causing the inner loop to fill the list child_l and child_r for both examples in the batch. Now the statement if child_l will return True, triggering a REDUCE action to be performed by our Tree LSTM cell with a batch size of 2.\n",
        "\n",
        "Time = 3:  t_batch = [0, 0], \"..\".\n",
        "\n",
        "Time = 4:  t_batch = [0, 0], \"..\"\n",
        "\n",
        "Time = 5:  t_batch = [0, 1], one SHIFT will be done and another REDUCE action will be performed by our Tree LSTM, this time of batch size 1.  \n",
        "\n",
        "Time = 6:  t_batch = [1, 2], triggering another REDUCE action with batch size 1.\n",
        "```\n",
        "*NB: note that this was an artificial example for the purpose of demonstrating parts of the code, the transition sequences do not necessarily represent actual trees.*\n",
        "\n",
        "**Batching and Unbatching**\n",
        "\n",
        "Within the body of the outer loop over time, we use the functions for batching and unbatching.\n",
        "\n",
        "*Batching*\n",
        "\n",
        "Before passing two lists of children to the reduce layer (an instance of `TreeLSTMCell`), we batch the children as they are at this point a list of tensors of variable length based on how many REDUCE actions there are to perform at a certain time step across the batch (let's call the length `L`). To do an efficient forward pass we want to transform the list to a pair of tensors of shape `([L, D], [L, D])`, which the function `batch` achieves.\n",
        "\n",
        "*Unbatching*\n",
        "\n",
        "In the same line where we batched the children, we unbatch the output of the forward pass to become a list of states of length `L` again. We do this because we need to loop over each example's transition at the current time step and push the children that are reduced into a parent to the stack.\n",
        "\n",
        "*The batch and unbatch functions let us switch between the \"PyTorch world\" (Tensors) and the Python world (easy to manipulate lists).*\n"
      ]
    },
    {
      "cell_type": "code",
      "metadata": {
        "id": "5PixvTd4AqsQ"
      },
      "source": [
        "# Helper functions for batching and unbatching states\n",
        "# For speed we want to combine computations by batching, but\n",
        "# for processing logic we want to turn the output into lists again\n",
        "# to easily manipulate.\n",
        "\n",
        "def batch(states):\n",
        "  \"\"\"\n",
        "  Turns a list of states into a single tensor for fast processing.\n",
        "  This function also chunks (splits) each state into a (h, c) pair\"\"\"\n",
        "  return torch.cat(states, 0).chunk(2, 1)\n",
        "\n",
        "def unbatch(state):\n",
        "  \"\"\"\n",
        "  Turns a tensor back into a list of states.\n",
        "  First, (h, c) are merged into a single state.\n",
        "  Then the result is split into a list of sentences.\n",
        "  \"\"\"\n",
        "  return torch.split(torch.cat(state, 1), 1, 0)"
      ],
      "execution_count": null,
      "outputs": []
    },
    {
      "cell_type": "markdown",
      "metadata": {
        "id": "CynltDasaLPt"
      },
      "source": [
        "Take some time to understand the class below, having read the explanation above."
      ]
    },
    {
      "cell_type": "code",
      "metadata": {
        "id": "rQOqMXG4gX5G"
      },
      "source": [
        "class TreeLSTM(nn.Module):\n",
        "  \"\"\"Encodes a sentence using a TreeLSTMCell\"\"\"\n",
        "\n",
        "  def __init__(self, input_size, hidden_size, bias=True):\n",
        "    \"\"\"Creates the weights for this LSTM\"\"\"\n",
        "    super(TreeLSTM, self).__init__()\n",
        "\n",
        "    self.input_size = input_size\n",
        "    self.hidden_size = hidden_size\n",
        "    self.bias = bias\n",
        "    self.reduce = TreeLSTMCell(input_size, hidden_size)\n",
        "\n",
        "    # project word to initial c\n",
        "    self.proj_x = nn.Linear(input_size, hidden_size)\n",
        "    self.proj_x_gate = nn.Linear(input_size, hidden_size)\n",
        "\n",
        "    self.buffers_dropout = nn.Dropout(p=0.5)\n",
        "\n",
        "  def forward(self, x, transitions):\n",
        "    \"\"\"\n",
        "    WARNING: assuming x is reversed!\n",
        "    :param x: word embeddings [B, T, E]\n",
        "    :param transitions: [2T-1, B]\n",
        "    :return: root states\n",
        "    \"\"\"\n",
        "\n",
        "    B = x.size(0)  # batch size\n",
        "    T = x.size(1)  # time\n",
        "\n",
        "    # compute an initial c and h for each word\n",
        "    # Note: this corresponds to input x in the Tai et al. Tree LSTM paper.\n",
        "    # We do not handle input x in the TreeLSTMCell itself.\n",
        "    buffers_c = self.proj_x(x)\n",
        "    buffers_h = buffers_c.tanh()\n",
        "    buffers_h_gate = self.proj_x_gate(x).sigmoid()\n",
        "    buffers_h = buffers_h_gate * buffers_h\n",
        "\n",
        "    # concatenate h and c for each word\n",
        "    buffers = torch.cat([buffers_h, buffers_c], dim=-1)\n",
        "\n",
        "    D = buffers.size(-1) // 2\n",
        "\n",
        "    # we turn buffers into a list of stacks (1 stack for each sentence)\n",
        "    # first we split buffers so that it is a list of sentences (length B)\n",
        "    # then we split each sentence to be a list of word vectors\n",
        "    buffers = buffers.split(1, dim=0)  # Bx[T, 2D]\n",
        "    buffers = [list(b.squeeze(0).split(1, dim=0)) for b in buffers]  # BxTx[2D]\n",
        "\n",
        "    # create B empty stacks\n",
        "    stacks = [[] for _ in buffers]\n",
        "\n",
        "    # t_batch holds 1 transition for each sentence\n",
        "    for t_batch in transitions:\n",
        "\n",
        "      child_l = []  # contains the left child for each sentence with reduce action\n",
        "      child_r = []  # contains the corresponding right child\n",
        "\n",
        "      # iterate over sentences in the batch\n",
        "      # each has a transition t, a buffer and a stack\n",
        "      for transition, buffer, stack in zip(t_batch, buffers, stacks):\n",
        "        if transition == SHIFT:\n",
        "          stack.append(buffer.pop())\n",
        "        elif transition == REDUCE:\n",
        "          assert len(stack) >= 2, \\\n",
        "            \"Stack too small! Should not happen with valid transition sequences\"\n",
        "          child_r.append(stack.pop())  # right child is on top\n",
        "          child_l.append(stack.pop())\n",
        "\n",
        "      # if there are sentences with reduce transition, perform them batched\n",
        "      if child_l:\n",
        "        reduced = iter(unbatch(self.reduce(batch(child_l), batch(child_r))))\n",
        "        for transition, stack in zip(t_batch, stacks):\n",
        "          if transition == REDUCE:\n",
        "            stack.append(next(reduced))\n",
        "\n",
        "    final = [stack.pop().chunk(2, -1)[0] for stack in stacks]\n",
        "    final = torch.cat(final, dim=0)  # tensor [B, D]\n",
        "\n",
        "    return final"
      ],
      "execution_count": null,
      "outputs": []
    },
    {
      "cell_type": "markdown",
      "metadata": {
        "id": "s4EzbVzqaXkw"
      },
      "source": [
        "Just like the LSTM before, we will need an extra class that does the classifications."
      ]
    },
    {
      "cell_type": "code",
      "metadata": {
        "id": "nLxpYRvtQKge"
      },
      "source": [
        "class TreeLSTMClassifier(nn.Module):\n",
        "  \"\"\"Encodes sentence with a TreeLSTM and projects final hidden state\"\"\"\n",
        "\n",
        "  def __init__(self, vocab_size, embedding_dim, hidden_dim, output_dim, vocab):\n",
        "    super(TreeLSTMClassifier, self).__init__()\n",
        "    self.vocab = vocab\n",
        "    self.hidden_dim = hidden_dim\n",
        "    self.embed = nn.Embedding(vocab_size, embedding_dim, padding_idx=1)\n",
        "    self.treelstm = TreeLSTM(embedding_dim, hidden_dim)\n",
        "    self.output_layer = nn.Sequential(\n",
        "        nn.Dropout(p=0.5),\n",
        "        nn.Linear(hidden_dim, output_dim, bias=True)\n",
        "    )\n",
        "\n",
        "  def forward(self, x):\n",
        "\n",
        "    # x is a pair here of words and transitions; we unpack it here.\n",
        "    # x is batch-major: [B, T], transitions is time major [2T-1, B]\n",
        "    x, transitions = x\n",
        "    emb = self.embed(x)\n",
        "\n",
        "    # we use the root/top state of the Tree LSTM to classify the sentence\n",
        "    root_states = self.treelstm(emb, transitions)\n",
        "\n",
        "    # we use the last hidden state to classify the sentence\n",
        "    logits = self.output_layer(root_states)\n",
        "    return logits"
      ],
      "execution_count": null,
      "outputs": []
    },
    {
      "cell_type": "markdown",
      "metadata": {
        "id": "gh9RbhGwaiLg"
      },
      "source": [
        "## Special `prepare` function for Tree-LSTM\n",
        "\n",
        "We need yet another `prepare` function. For our implementation, sentences need to be *reversed*. We will do that here."
      ]
    },
    {
      "cell_type": "code",
      "metadata": {
        "id": "DiqH-_2xdm9H"
      },
      "source": [
        "def prepare_treelstm_minibatch(mb, vocab):\n",
        "  \"\"\"\n",
        "  Returns sentences reversed (last word first)\n",
        "  Returns transitions together with the sentences.\n",
        "  \"\"\"\n",
        "  batch_size = len(mb)\n",
        "  maxlen = max([len(ex.tokens) for ex in mb])\n",
        "\n",
        "  # vocab returns 0 if the word is not there\n",
        "  # NOTE: reversed sequence!\n",
        "  x = [pad([vocab.w2i.get(t, 0) for t in ex.tokens], maxlen)[::-1] for ex in mb]\n",
        "\n",
        "  x = torch.LongTensor(x)\n",
        "  x = x.to(device)\n",
        "\n",
        "  y = [ex.label for ex in mb]\n",
        "  y = torch.LongTensor(y)\n",
        "  y = y.to(device)\n",
        "\n",
        "  maxlen_t = max([len(ex.transitions) for ex in mb])\n",
        "  transitions = [pad(ex.transitions, maxlen_t, pad_value=2) for ex in mb]\n",
        "  transitions = np.array(transitions)\n",
        "  transitions = transitions.T  # time-major\n",
        "\n",
        "  return (x, transitions), y"
      ],
      "execution_count": null,
      "outputs": []
    },
    {
      "cell_type": "markdown",
      "metadata": {
        "id": "IMUsrlL9ayVe"
      },
      "source": [
        "## Training"
      ]
    },
    {
      "cell_type": "code",
      "metadata": {
        "id": "IpOYUdg2D3v0",
        "colab": {
          "base_uri": "https://localhost:8080/"
        },
        "outputId": "90e13037-58b1-4821-dd4f-6d6a67f041c4"
      },
      "source": [
        "# Now let's train the Tree LSTM!\n",
        "\n",
        "tree_model = TreeLSTMClassifier(\n",
        "    len(v.w2i), 300, 150, len(t2i), v)\n",
        "\n",
        "with torch.no_grad():\n",
        "  tree_model.embed.weight.data.copy_(torch.from_numpy(vectors))\n",
        "  tree_model.embed.weight.requires_grad = False\n",
        "\n",
        "def do_train(model):\n",
        "\n",
        "  print(model)\n",
        "  print_parameters(model)\n",
        "\n",
        "  model = model.to(device)\n",
        "\n",
        "  optimizer = optim.Adam(model.parameters(), lr=2e-4)\n",
        "\n",
        "  return train_model(\n",
        "      model, optimizer, num_iterations=30000/batch_size,\n",
        "      print_every=250/batch_size, eval_every=250/batch_size,\n",
        "      prep_fn=prepare_treelstm_minibatch,\n",
        "      eval_fn=evaluate,\n",
        "      batch_fn=get_minibatch,\n",
        "      batch_size=25, eval_batch_size=25)\n",
        "\n",
        "results = do_train(tree_model)"
      ],
      "execution_count": null,
      "outputs": [
        {
          "output_type": "stream",
          "name": "stdout",
          "text": [
            "TreeLSTMClassifier(\n",
            "  (embed): Embedding(20727, 300, padding_idx=1)\n",
            "  (treelstm): TreeLSTM(\n",
            "    (reduce): TreeLSTMCell(300, 150)\n",
            "    (proj_x): Linear(in_features=300, out_features=150, bias=True)\n",
            "    (proj_x_gate): Linear(in_features=300, out_features=150, bias=True)\n",
            "    (buffers_dropout): Dropout(p=0.5, inplace=False)\n",
            "  )\n",
            "  (output_layer): Sequential(\n",
            "    (0): Dropout(p=0.5, inplace=False)\n",
            "    (1): Linear(in_features=150, out_features=5, bias=True)\n",
            "  )\n",
            ")\n",
            "embed.weight             [20727, 300] requires_grad=False\n",
            "treelstm.reduce.reduce_layer.weight [750, 300]   requires_grad=True\n",
            "treelstm.reduce.reduce_layer.bias [750]        requires_grad=True\n",
            "treelstm.proj_x.weight   [150, 300]   requires_grad=True\n",
            "treelstm.proj_x.bias     [150]        requires_grad=True\n",
            "treelstm.proj_x_gate.weight [150, 300]   requires_grad=True\n",
            "treelstm.proj_x_gate.bias [150]        requires_grad=True\n",
            "output_layer.1.weight    [5, 150]     requires_grad=True\n",
            "output_layer.1.bias      [5]          requires_grad=True\n",
            "\n",
            "Total number of parameters: 6534905\n",
            "\n",
            "Shuffling training data\n",
            "Iter 10: loss=16.1553, time=1.16s\n",
            "iter 10: dev acc=0.2643\n",
            "new highscore\n",
            "Iter 20: loss=15.8783, time=3.69s\n",
            "iter 20: dev acc=0.2688\n",
            "new highscore\n",
            "Iter 30: loss=15.9038, time=5.82s\n",
            "iter 30: dev acc=0.2843\n",
            "new highscore\n",
            "Iter 40: loss=15.4972, time=7.96s\n",
            "iter 40: dev acc=0.2852\n",
            "new highscore\n",
            "Iter 50: loss=15.6730, time=10.20s\n",
            "iter 50: dev acc=0.2879\n",
            "new highscore\n",
            "Iter 60: loss=15.8912, time=12.55s\n",
            "iter 60: dev acc=0.2952\n",
            "new highscore\n",
            "Iter 70: loss=15.4862, time=15.50s\n",
            "iter 70: dev acc=0.2961\n",
            "new highscore\n",
            "Iter 80: loss=15.4720, time=18.10s\n",
            "iter 80: dev acc=0.2988\n",
            "new highscore\n",
            "Iter 90: loss=15.8178, time=20.23s\n",
            "iter 90: dev acc=0.2979\n",
            "Iter 100: loss=15.4623, time=22.29s\n",
            "iter 100: dev acc=0.2870\n",
            "Iter 110: loss=15.3844, time=24.21s\n",
            "iter 110: dev acc=0.2761\n",
            "Iter 120: loss=15.4826, time=26.19s\n",
            "iter 120: dev acc=0.2807\n",
            "Iter 130: loss=15.5751, time=28.53s\n",
            "iter 130: dev acc=0.3006\n",
            "new highscore\n",
            "Iter 140: loss=15.4816, time=31.44s\n",
            "iter 140: dev acc=0.3143\n",
            "new highscore\n",
            "Iter 150: loss=15.6790, time=33.92s\n",
            "iter 150: dev acc=0.3152\n",
            "new highscore\n",
            "Iter 160: loss=15.2015, time=36.02s\n",
            "iter 160: dev acc=0.3206\n",
            "new highscore\n",
            "Iter 170: loss=15.3944, time=38.20s\n",
            "iter 170: dev acc=0.3297\n",
            "new highscore\n",
            "Iter 180: loss=15.2172, time=40.35s\n",
            "iter 180: dev acc=0.3370\n",
            "new highscore\n",
            "Iter 190: loss=14.8751, time=42.42s\n",
            "iter 190: dev acc=0.3306\n",
            "Iter 200: loss=14.8019, time=44.92s\n",
            "iter 200: dev acc=0.3433\n",
            "new highscore\n",
            "Iter 210: loss=15.1709, time=47.73s\n",
            "iter 210: dev acc=0.3497\n",
            "new highscore\n",
            "Iter 220: loss=14.6027, time=49.94s\n",
            "iter 220: dev acc=0.3588\n",
            "new highscore\n",
            "Iter 230: loss=13.9262, time=51.99s\n",
            "iter 230: dev acc=0.3615\n",
            "new highscore\n",
            "Iter 240: loss=13.9439, time=54.13s\n",
            "iter 240: dev acc=0.3742\n",
            "new highscore\n",
            "Iter 250: loss=14.1818, time=56.24s\n",
            "iter 250: dev acc=0.3878\n",
            "new highscore\n",
            "Iter 260: loss=13.9652, time=58.32s\n",
            "iter 260: dev acc=0.4078\n",
            "new highscore\n",
            "Iter 270: loss=14.7772, time=61.16s\n",
            "iter 270: dev acc=0.3942\n",
            "Iter 280: loss=14.0342, time=63.97s\n",
            "iter 280: dev acc=0.4024\n",
            "Iter 290: loss=13.9743, time=65.91s\n",
            "iter 290: dev acc=0.4133\n",
            "new highscore\n",
            "Iter 300: loss=13.7259, time=67.89s\n",
            "iter 300: dev acc=0.3996\n",
            "Iter 310: loss=13.6588, time=69.80s\n",
            "iter 310: dev acc=0.3978\n",
            "Iter 320: loss=12.8818, time=71.74s\n",
            "iter 320: dev acc=0.3942\n",
            "Iter 330: loss=13.9586, time=73.66s\n",
            "iter 330: dev acc=0.3896\n",
            "Iter 340: loss=14.1912, time=76.37s\n",
            "iter 340: dev acc=0.4042\n",
            "Shuffling training data\n",
            "Iter 350: loss=13.0826, time=79.23s\n",
            "iter 350: dev acc=0.4033\n",
            "Iter 360: loss=13.4298, time=81.35s\n",
            "iter 360: dev acc=0.4042\n",
            "Iter 370: loss=13.6303, time=83.86s\n",
            "iter 370: dev acc=0.4051\n",
            "Iter 380: loss=13.3445, time=85.83s\n",
            "iter 380: dev acc=0.4105\n",
            "Iter 390: loss=13.4192, time=87.77s\n",
            "iter 390: dev acc=0.4051\n",
            "Iter 400: loss=13.5152, time=89.77s\n",
            "iter 400: dev acc=0.4060\n",
            "Iter 410: loss=12.8444, time=92.74s\n",
            "iter 410: dev acc=0.4069\n",
            "Iter 420: loss=12.3850, time=95.55s\n",
            "iter 420: dev acc=0.4060\n",
            "Iter 430: loss=13.1447, time=97.51s\n",
            "iter 430: dev acc=0.4069\n",
            "Iter 440: loss=13.3292, time=99.43s\n",
            "iter 440: dev acc=0.4105\n",
            "Iter 450: loss=13.2519, time=101.37s\n",
            "iter 450: dev acc=0.4142\n",
            "new highscore\n",
            "Iter 460: loss=12.7116, time=103.31s\n",
            "iter 460: dev acc=0.4151\n",
            "new highscore\n",
            "Iter 470: loss=13.4321, time=105.32s\n",
            "iter 470: dev acc=0.4087\n",
            "Iter 480: loss=12.9699, time=108.16s\n",
            "iter 480: dev acc=0.4196\n",
            "new highscore\n",
            "Iter 490: loss=12.4716, time=111.63s\n",
            "iter 490: dev acc=0.4160\n",
            "Iter 500: loss=13.1843, time=114.73s\n",
            "iter 500: dev acc=0.4096\n",
            "Iter 510: loss=12.1148, time=117.22s\n",
            "iter 510: dev acc=0.4178\n",
            "Iter 520: loss=13.6035, time=119.15s\n",
            "iter 520: dev acc=0.4178\n",
            "Iter 530: loss=13.2786, time=121.13s\n",
            "iter 530: dev acc=0.4133\n",
            "Iter 540: loss=13.0555, time=123.05s\n",
            "iter 540: dev acc=0.4124\n",
            "Iter 550: loss=13.2760, time=125.60s\n",
            "iter 550: dev acc=0.4278\n",
            "new highscore\n",
            "Iter 560: loss=13.2384, time=128.53s\n",
            "iter 560: dev acc=0.4214\n",
            "Iter 570: loss=12.4163, time=130.75s\n",
            "iter 570: dev acc=0.4214\n",
            "Iter 580: loss=12.8598, time=132.99s\n",
            "iter 580: dev acc=0.4187\n",
            "Iter 590: loss=13.3277, time=134.92s\n",
            "iter 590: dev acc=0.4187\n",
            "Iter 600: loss=13.1808, time=136.81s\n",
            "iter 600: dev acc=0.4242\n",
            "Iter 610: loss=12.9209, time=138.78s\n",
            "iter 610: dev acc=0.4314\n",
            "new highscore\n",
            "Iter 620: loss=13.3052, time=141.48s\n",
            "iter 620: dev acc=0.4160\n",
            "Iter 630: loss=12.5538, time=144.48s\n",
            "iter 630: dev acc=0.4169\n",
            "Iter 640: loss=12.7432, time=146.76s\n",
            "iter 640: dev acc=0.4360\n",
            "new highscore\n",
            "Iter 650: loss=13.5752, time=148.76s\n",
            "iter 650: dev acc=0.4223\n",
            "Iter 660: loss=13.0074, time=150.78s\n",
            "iter 660: dev acc=0.4142\n",
            "Iter 670: loss=12.8745, time=152.71s\n",
            "iter 670: dev acc=0.4332\n",
            "Iter 680: loss=13.1471, time=154.71s\n",
            "iter 680: dev acc=0.4278\n",
            "Shuffling training data\n",
            "Iter 690: loss=13.1192, time=157.29s\n",
            "iter 690: dev acc=0.4296\n",
            "Iter 700: loss=13.3462, time=160.04s\n",
            "iter 700: dev acc=0.4405\n",
            "new highscore\n",
            "Iter 710: loss=12.8834, time=162.54s\n",
            "iter 710: dev acc=0.4296\n",
            "Iter 720: loss=12.6001, time=164.58s\n",
            "iter 720: dev acc=0.4342\n",
            "Iter 730: loss=12.6411, time=166.57s\n",
            "iter 730: dev acc=0.4332\n",
            "Iter 740: loss=12.2953, time=168.51s\n",
            "iter 740: dev acc=0.4269\n",
            "Iter 750: loss=12.8050, time=170.45s\n",
            "iter 750: dev acc=0.4314\n",
            "Iter 760: loss=12.6873, time=173.01s\n",
            "iter 760: dev acc=0.4214\n",
            "Iter 770: loss=12.4531, time=175.86s\n",
            "iter 770: dev acc=0.4214\n",
            "Iter 780: loss=12.4864, time=178.11s\n",
            "iter 780: dev acc=0.4233\n",
            "Iter 790: loss=12.8608, time=180.10s\n",
            "iter 790: dev acc=0.4205\n",
            "Iter 800: loss=13.3380, time=182.19s\n",
            "iter 800: dev acc=0.4360\n",
            "Iter 810: loss=12.1281, time=184.30s\n",
            "iter 810: dev acc=0.4305\n",
            "Iter 820: loss=12.2848, time=186.35s\n",
            "iter 820: dev acc=0.4296\n",
            "Iter 830: loss=12.6627, time=188.97s\n",
            "iter 830: dev acc=0.4296\n",
            "Iter 840: loss=12.9231, time=191.75s\n",
            "iter 840: dev acc=0.4260\n",
            "Iter 850: loss=12.4664, time=193.87s\n",
            "iter 850: dev acc=0.4269\n",
            "Iter 860: loss=13.5644, time=195.87s\n",
            "iter 860: dev acc=0.4323\n",
            "Iter 870: loss=12.5973, time=197.82s\n",
            "iter 870: dev acc=0.4278\n",
            "Iter 880: loss=12.5130, time=199.85s\n",
            "iter 880: dev acc=0.4233\n",
            "Iter 890: loss=11.9640, time=201.93s\n",
            "iter 890: dev acc=0.4323\n",
            "Iter 900: loss=12.9425, time=204.63s\n",
            "iter 900: dev acc=0.4360\n",
            "Iter 910: loss=12.9401, time=207.42s\n",
            "iter 910: dev acc=0.4423\n",
            "new highscore\n",
            "Iter 920: loss=12.1164, time=209.71s\n",
            "iter 920: dev acc=0.4432\n",
            "new highscore\n",
            "Iter 930: loss=12.0643, time=211.88s\n",
            "iter 930: dev acc=0.4414\n",
            "Iter 940: loss=12.9608, time=213.95s\n",
            "iter 940: dev acc=0.4332\n",
            "Iter 950: loss=12.9373, time=216.05s\n",
            "iter 950: dev acc=0.4342\n",
            "Iter 960: loss=12.5328, time=218.19s\n",
            "iter 960: dev acc=0.4423\n",
            "Iter 970: loss=12.0627, time=221.17s\n",
            "iter 970: dev acc=0.4233\n",
            "Iter 980: loss=13.1397, time=223.97s\n",
            "iter 980: dev acc=0.4360\n",
            "Iter 990: loss=12.1129, time=226.00s\n",
            "iter 990: dev acc=0.4351\n",
            "Iter 1000: loss=12.6266, time=228.02s\n",
            "iter 1000: dev acc=0.4360\n",
            "Iter 1010: loss=12.3742, time=230.12s\n",
            "iter 1010: dev acc=0.4405\n",
            "Iter 1020: loss=12.4680, time=232.10s\n",
            "iter 1020: dev acc=0.4360\n",
            "Shuffling training data\n",
            "Iter 1030: loss=11.6514, time=234.24s\n",
            "iter 1030: dev acc=0.4323\n",
            "Iter 1040: loss=11.9814, time=237.08s\n",
            "iter 1040: dev acc=0.4378\n",
            "Iter 1050: loss=11.8007, time=239.82s\n",
            "iter 1050: dev acc=0.4242\n",
            "Iter 1060: loss=12.5147, time=241.88s\n",
            "iter 1060: dev acc=0.4242\n",
            "Iter 1070: loss=12.7423, time=243.92s\n",
            "iter 1070: dev acc=0.4314\n",
            "Iter 1080: loss=12.4363, time=245.95s\n",
            "iter 1080: dev acc=0.4351\n",
            "Iter 1090: loss=12.1133, time=248.01s\n",
            "iter 1090: dev acc=0.4269\n",
            "Iter 1100: loss=11.6528, time=250.26s\n",
            "iter 1100: dev acc=0.4387\n",
            "Iter 1110: loss=12.5018, time=253.07s\n",
            "iter 1110: dev acc=0.4323\n",
            "Iter 1120: loss=13.0691, time=255.67s\n",
            "iter 1120: dev acc=0.4287\n",
            "Iter 1130: loss=12.3710, time=258.00s\n",
            "iter 1130: dev acc=0.4432\n",
            "Iter 1140: loss=12.3450, time=260.04s\n",
            "iter 1140: dev acc=0.4405\n",
            "Iter 1150: loss=12.5824, time=262.09s\n",
            "iter 1150: dev acc=0.4351\n",
            "Iter 1160: loss=12.4139, time=264.17s\n",
            "iter 1160: dev acc=0.4378\n",
            "Iter 1170: loss=12.1103, time=266.63s\n",
            "iter 1170: dev acc=0.4405\n",
            "Iter 1180: loss=12.3229, time=269.56s\n",
            "iter 1180: dev acc=0.4323\n",
            "Iter 1190: loss=12.6984, time=271.98s\n",
            "iter 1190: dev acc=0.4296\n",
            "Iter 1200: loss=12.4977, time=273.91s\n",
            "iter 1200: dev acc=0.4323\n",
            "Done training\n",
            "Loading best model\n",
            "best model iter 920: train acc=0.4503, dev acc=0.4432, test acc=0.4584\n"
          ]
        }
      ]
    },
    {
      "cell_type": "code",
      "metadata": {
        "id": "DHcHHaLtguUg",
        "colab": {
          "base_uri": "https://localhost:8080/",
          "height": 432
        },
        "outputId": "b9e5396d-d7c0-4567-c4ad-901d6af9c323"
      },
      "source": [
        "# plot\n",
        "figure, axis = plt.subplots(1, 2, figsize=(15, 5))\n",
        "\n",
        "axis[0].plot(results[0])\n",
        "axis[0].set_title(\"Training loss\")\n",
        "\n",
        "axis[1].plot(results[1])\n",
        "axis[1].set_title(\"Dev accuracy\")\n",
        "\n",
        "plt.show()"
      ],
      "execution_count": null,
      "outputs": [
        {
          "output_type": "display_data",
          "data": {
            "text/plain": [
              "<Figure size 1500x500 with 2 Axes>"
            ],
            "image/png": "[encoded data removed]"
          },
          "metadata": {}
        }
      ]
    },
    {
      "cell_type": "markdown",
      "metadata": {
        "id": "f7QZZH86eHqu"
      },
      "source": [
        "# Further experiments and report\n",
        "\n",
        "For your report, you are expected to answer research questions by doing further experiments.\n",
        "\n",
        "## Research Questions\n",
        "\n",
        "Make sure you cover at least the following:\n",
        "\n",
        "- How important is word order for this task?\n",
        "- Does the tree structure help to get a better accuracy?\n",
        "- How does performance depend on the sentence length? Compare the various models. Is there a model that does better on longer sentences? If so, why?\n",
        "- Do you get better performance if you supervise the sentiment **at each node in the tree**? You can extract more training examples by treating every node in each tree as a separate tree. You will need to write a function that extracts all subtrees given a treestring.\n",
        "    - Warning: NLTK's Tree function seems to result in invalid trees in some cases, so be careful if you want to parse the string to a tree structure before extraction the phrases.\n",
        "\n",
        "**To be able to obtain a full grade (10), you should conduct further investigations.** For example, you can also investigate one the following:\n",
        "\n",
        "- When making a wrong prediction, can you figure out at what point in the tree (sentence) the model fails? You can make a prediction at each node to investigate.\n",
        "- How does N-ary Tree LSTM compare to the Child-Sum Tree LSTM?\n",
        "- How do the Tai et al. Tree LSTMs compare to Le & Zuidema's formulation?\n",
        "- Or... your own research question!\n",
        "\n",
        "These examples should give you an idea of the expected scope of your further investigations.\n",
        "\n",
        "In general:\n",
        "\n",
        "- ***When you report numbers, please report the mean accuracy across 3 (or more) runs with different random seed, together with the standard deviation.*** This is because the final performance may vary per random seed.\n",
        "More precisely, you should run each model with 3 different seeds, and for each of these 3 runs, evaluate the best model (according to the validation) on the test dataset. The validation dataset is used for finding the best model over iterations, but the accuracy you report should be on the test dataset.\n",
        "\n",
        "## Report instructions\n",
        "\n",
        "Your report needs to be written in LaTeX. You are required to use the ACL 2023 template which you can download from or edit directly on [Overleaf](https://www.overleaf.com/latex/templates/acl-2023-proceedings-template/qjdgcrdwcnwp). Make sure your names and student numbers are visible at the top. (Tip: you need to uncomment `\\aclfinalcopy`).\n",
        "You can find some general tips about writing a research paper [here](https://www.microsoft.com/en-us/research/academic-program/write-great-research-paper/), but note that you need to make your own judgment about what is appropriate for this project.\n",
        "\n",
        "We expect you to use the following structure:\n",
        "1. Introduction (~1 page) - describe the problem, your research questions and goals, a summary of your findings and contributions. Please cite related work (models, data set) as part of your introduction here, since this is a short paper.\n",
        "    - Introduce the task and the main goal\n",
        "    - Present your research questions\n",
        "    - Motivate the importance of the questions\n",
        "    - Present and explain your expectations\n",
        "    - Make clear whether the research questions are addressed or not addressed in the literature\n",
        "    - Describe the approach you use to answer the research questions\n",
        "    - Summarise your findings\n",
        "2. Background (~1/2-1 page) -\n",
        "cover the main techniques (\"building blocks\") used in your project (e.g. word embeddings, LSTM, Tree-LSTM) and intuitions behind them. Be accurate and concise.\n",
        "    - How does each technique work? (Don't just copy the formulas)\n",
        "    - What is the relation between the techniques?\n",
        "3. Models (~1/2 page) - Describe the architecture of the final models.\n",
        "    - How do you use LSTM or Tree-LSTM for the sentiment classification task?\n",
        "    - What layers do you have, how do you do classification?\n",
        "    - What is your loss function?\n",
        "    - Etc.\n",
        "4. Experiments (~1/2 page) - Describe your experimental setup. This section should allow someone else to reproduce your experiments. Describe how you evaluate the models.\n",
        "    - Task and the data\n",
        "    - Training (model, data, parameters and hyper parameters, training algorithms, supervision signals, etc.)\n",
        "    - Evaluation (e.g. metrics)\n",
        "5. Results and Analysis (~1 page). Present the results and analyse your findings.\n",
        "    - Answer each of the research questions you raised in the introduction.\n",
        "    - Use figures and tables to highlight interesting patterns\n",
        "    - What are the factors that make model A better than model B in task C? Investigate to prove their effect!\n",
        "6. Conclusion (~1/4 page). Present the conclusions that can be drawn from your experiments.\n",
        "    - What have you learned from you experiments?\n",
        "    - How do your findings relate to what is already known in the literature?\n",
        "    - Were the results as expected? Any surprising results? Why?\n",
        "    - Based on what you learned, what would you suggest doing next?\n",
        "\n",
        "\n",
        "General Tips:\n",
        "\n",
        "- Math notation – define each variable (either in running text, or in a pseudo-legenda after or before the equation).\n",
        "- Define technical terminology you need.\n",
        "- Avoid colloquial language – everything can be said in a scientific-sounding way.\n",
        "- Avoid lengthy sentences, stay to the point.\n",
        "- Do not spend space on \"obvious\" things.\n",
        "- Do not go over the page limit. (We will deduct points for that.)\n",
        "- The page limit is 4 pages excluding references and appendix. This is a strict limit; points will be deducted for longer reports.\n",
        "- There is no strict limit to references and appendix. However, the report needs to remain fully self-contained: the appendix should only include content that is not necessary to understand your work. For example, preprocessing decisions, model parameters, pseudocode, sample system inputs/outputs, and other details that are necessary for the exact replication of your work can be put into the appendix.\n",
        "\n",
        "\n",
        "An ideal report:\n",
        "- Precise, scientific-sounding, technical, to the point\n",
        "  - Little general “waffle”/chit-chat\n",
        "- Not boring – because you don’t explain obvious things too much\n",
        "- Efficient delivery of (only) the facts that we need to know to understand/reimplement\n",
        "- Results visually well-presented and described with the correct priority of importance of sub-results\n",
        "- Insightful analysis – speculation should connect to something interesting and not be too much; the reader “learns something new”\n",
        "- No typos, no colloquialisms – well-considered language\n",
        "- This normally means several re-draftings (re-orderings of information)\n"
      ]
    },
    {
      "cell_type": "markdown",
      "source": [
        "# Preparing experiments"
      ],
      "metadata": {
        "id": "lWaATduVDKJ_"
      }
    },
    {
      "cell_type": "markdown",
      "source": [
        "This section contains code blocks that prepare the experiments. Most of the blocks are repeats of code from earlier in the notebook. They have been collected here so that the experiments can be run without having to go through the entire notebook to run the relevant code blocks."
      ],
      "metadata": {
        "id": "SmmuH3WsDWBB"
      }
    },
    {
      "cell_type": "markdown",
      "source": [
        "## Preparing libraries"
      ],
      "metadata": {
        "id": "UQlyf3kwWumu"
      }
    },
    {
      "cell_type": "code",
      "source": [
        "import re\n",
        "import random\n",
        "import time\n",
        "import math\n",
        "import numpy as np\n",
        "import nltk\n",
        "import matplotlib.pyplot as plt\n",
        "plt.style.use('default')\n",
        "import pickle\n",
        "import seaborn as sns\n",
        "import torch\n",
        "from torch import nn\n",
        "from torch import optim\n",
        "print(\"Using torch\", torch.__version__)"
      ],
      "metadata": {
        "colab": {
          "base_uri": "https://localhost:8080/"
        },
        "id": "-YUxDnflFTGS",
        "outputId": "88d3d57c-d9cb-45a9-c19c-c71548758c93"
      },
      "execution_count": 1,
      "outputs": [
        {
          "output_type": "stream",
          "name": "stdout",
          "text": [
            "Using torch 2.1.0+cu121\n"
          ]
        }
      ]
    },
    {
      "cell_type": "code",
      "source": [
        "device = torch.device('cuda' if torch.cuda.is_available() else 'cpu')\n",
        "\n",
        "if torch.cuda.is_available():\n",
        "  torch.backends.cudnn.deterministic = True\n",
        "  torch.backends.cudnn.benchmark = False\n",
        "\n",
        "device"
      ],
      "metadata": {
        "colab": {
          "base_uri": "https://localhost:8080/"
        },
        "id": "EvC6ZCYgFXjW",
        "outputId": "9a31f026-4995-4a28-c6be-9dc2df833040"
      },
      "execution_count": null,
      "outputs": [
        {
          "output_type": "execute_result",
          "data": {
            "text/plain": [
              "device(type='cuda')"
            ]
          },
          "metadata": {},
          "execution_count": 2
        }
      ]
    },
    {
      "cell_type": "code",
      "source": [
        "def set_seed(seed):\n",
        "  random.seed(seed)\n",
        "  np.random.seed(seed)\n",
        "  torch.manual_seed(seed)\n",
        "  if torch.cuda.is_available():\n",
        "    torch.cuda.manual_seed(seed)\n",
        "    torch.cuda.manual_seed_all(seed)"
      ],
      "metadata": {
        "id": "8dlvMBnEFda3"
      },
      "execution_count": null,
      "outputs": []
    },
    {
      "cell_type": "markdown",
      "source": [
        "## Downloading data"
      ],
      "metadata": {
        "id": "-IDRCL6HW472"
      }
    },
    {
      "cell_type": "code",
      "source": [
        "!wget http://nlp.stanford.edu/sentiment/trainDevTestTrees_PTB.zip\n",
        "!unzip trainDevTestTrees_PTB.zip"
      ],
      "metadata": {
        "colab": {
          "base_uri": "https://localhost:8080/"
        },
        "id": "1hQ_dSx5OCun",
        "outputId": "3ac12749-3887-4ff8-ba5e-54f7cbba304f"
      },
      "execution_count": null,
      "outputs": [
        {
          "output_type": "stream",
          "name": "stdout",
          "text": [
            "--2023-12-15 12:52:27--  http://nlp.stanford.edu/sentiment/trainDevTestTrees_PTB.zip\n",
            "Resolving nlp.stanford.edu (nlp.stanford.edu)... 171.64.67.140\n",
            "Connecting to nlp.stanford.edu (nlp.stanford.edu)|171.64.67.140|:80... connected.\n",
            "HTTP request sent, awaiting response... 302 Found\n",
            "Location: https://nlp.stanford.edu/sentiment/trainDevTestTrees_PTB.zip [following]\n",
            "--2023-12-15 12:52:27--  https://nlp.stanford.edu/sentiment/trainDevTestTrees_PTB.zip\n",
            "Connecting to nlp.stanford.edu (nlp.stanford.edu)|171.64.67.140|:443... connected.\n",
            "HTTP request sent, awaiting response... 200 OK\n",
            "Length: 789539 (771K) [application/zip]\n",
            "Saving to: ‘trainDevTestTrees_PTB.zip’\n",
            "\n",
            "trainDevTestTrees_P 100%[===================>] 771.03K   404KB/s    in 1.9s    \n",
            "\n",
            "2023-12-15 12:52:29 (404 KB/s) - ‘trainDevTestTrees_PTB.zip’ saved [789539/789539]\n",
            "\n",
            "Archive:  trainDevTestTrees_PTB.zip\n",
            "   creating: trees/\n",
            "  inflating: trees/dev.txt           \n",
            "  inflating: trees/test.txt          \n",
            "  inflating: trees/train.txt         \n"
          ]
        }
      ]
    },
    {
      "cell_type": "code",
      "source": [
        "# This downloads the Glove 840B 300d embeddings.\n",
        "# The original file is at http://nlp.stanford.edu/data/glove.840B.300d.zip\n",
        "# Since that file is 2GB, we provide you with a *filtered version*\n",
        "# which contains all the words you need for this data set.\n",
        "\n",
        "# You only need to do this once.\n",
        "# Please comment this cell out after downloading.\n",
        "\n",
        "#!wget https://gist.githubusercontent.com/bastings/b094de2813da58056a05e8e7950d4ad1/raw/3fbd3976199c2b88de2ae62afc0ecc6f15e6f7ce/glove.840B.300d.sst.txt"
      ],
      "metadata": {
        "id": "s4Lxjh0pWEEf"
      },
      "execution_count": null,
      "outputs": []
    },
    {
      "cell_type": "code",
      "source": [
        "# Mount Google Drive (to save the downloaded files)\n",
        "from google.colab import drive\n",
        "drive.mount('/gdrive')"
      ],
      "metadata": {
        "colab": {
          "base_uri": "https://localhost:8080/"
        },
        "id": "r99Wl5a3WFM4",
        "outputId": "e05d56d8-00ef-4276-c08a-11c3adbf1e84"
      },
      "execution_count": null,
      "outputs": [
        {
          "output_type": "stream",
          "name": "stdout",
          "text": [
            "Mounted at /gdrive\n"
          ]
        }
      ]
    },
    {
      "cell_type": "code",
      "source": [
        "# Copy word vectors *to* Google Drive\n",
        "\n",
        "# You only need to do this once.\n",
        "# Please comment this out after running it.\n",
        "#!cp \"glove.840B.300d.sst.txt\" \"/gdrive/My Drive/\""
      ],
      "metadata": {
        "id": "GdtoDnVaWX8J"
      },
      "execution_count": null,
      "outputs": []
    },
    {
      "cell_type": "code",
      "source": [
        "# If you copied the word vectors to your Drive before,\n",
        "# here is where you copy them back to the Colab notebook.\n",
        "\n",
        "# Copy Glove vectors *from* Google Drive\n",
        "!cp \"/gdrive/My Drive/glove.840B.300d.sst.txt\" ."
      ],
      "metadata": {
        "id": "gD_0mGPqWdJr"
      },
      "execution_count": null,
      "outputs": []
    },
    {
      "cell_type": "code",
      "source": [
        "# Uncomment these 2 lines below if went for the OPTIONAL method described above\n",
        "# !cp \"glove.840B.300d.sst.txt\" \"./\""
      ],
      "metadata": {
        "id": "JKxKpU5mWnJo"
      },
      "execution_count": null,
      "outputs": []
    },
    {
      "cell_type": "markdown",
      "source": [
        "## Creating data sets and vocabularies"
      ],
      "metadata": {
        "id": "cpaYV3U8XKO7"
      }
    },
    {
      "cell_type": "code",
      "source": [
        "# this function reads in a textfile and fixes an issue with \"\\\\\"\n",
        "def filereader(path):\n",
        "  with open(path, mode=\"r\", encoding=\"utf-8\") as f:\n",
        "    for line in f:\n",
        "      yield line.strip().replace(\"\\\\\",\"\")\n",
        "\n",
        "def tokens_from_treestring(s):\n",
        "  \"\"\"extract the tokens from a sentiment tree\"\"\"\n",
        "  return re.sub(r\"\\([0-9] |\\)\", \"\", s).split()\n",
        "\n",
        "SHIFT = 0\n",
        "REDUCE = 1\n",
        "\n",
        "def transitions_from_treestring(s):\n",
        "  s = re.sub(\"\\([0-5] ([^)]+)\\)\", \"0\", s)\n",
        "  s = re.sub(\"\\)\", \" )\", s)\n",
        "  s = re.sub(\"\\([0-4] \", \"\", s)\n",
        "  s = re.sub(\"\\([0-4] \", \"\", s)\n",
        "  s = re.sub(\"\\)\", \"1\", s)\n",
        "  return list(map(int, s.split()))"
      ],
      "metadata": {
        "id": "24EvjcmbOS7u"
      },
      "execution_count": null,
      "outputs": []
    },
    {
      "cell_type": "code",
      "source": [
        "from collections import namedtuple\n",
        "from nltk import Tree\n",
        "\n",
        "# A simple way to define a class is using namedtuple.\n",
        "Example = namedtuple(\"Example\", [\"tokens\", \"tree\", \"label\", \"transitions\"])\n",
        "\n",
        "\n",
        "def examplereader(path, lower=False):\n",
        "  \"\"\"Returns all examples in a file one by one.\"\"\"\n",
        "  for line in filereader(path):\n",
        "    line = line.lower() if lower else line\n",
        "    tokens = tokens_from_treestring(line)\n",
        "    tree = Tree.fromstring(line)  # use NLTK's Tree\n",
        "    label = int(line[1])\n",
        "    trans = transitions_from_treestring(line)\n",
        "    yield Example(tokens=tokens, tree=tree, label=label, transitions=trans)\n",
        "\n",
        "\n",
        "# Let's load the data into memory.\n",
        "LOWER = False  # we will keep the original casing\n",
        "train_data = list(examplereader(\"trees/train.txt\", lower=LOWER))\n",
        "dev_data = list(examplereader(\"trees/dev.txt\", lower=LOWER))\n",
        "test_data = list(examplereader(\"trees/test.txt\", lower=LOWER))\n",
        "\n",
        "print(\"train\", len(train_data))\n",
        "print(\"dev\", len(dev_data))\n",
        "print(\"test\", len(test_data))"
      ],
      "metadata": {
        "colab": {
          "base_uri": "https://localhost:8080/"
        },
        "id": "g2_1JIsdJxnv",
        "outputId": "a9ad8e47-2e57-4fc1-a0ec-f4035a51953c"
      },
      "execution_count": null,
      "outputs": [
        {
          "output_type": "stream",
          "name": "stdout",
          "text": [
            "train 8544\n",
            "dev 1101\n",
            "test 2210\n"
          ]
        }
      ]
    },
    {
      "cell_type": "code",
      "source": [
        "def extract_subtrees(treestring):\n",
        "  \"\"\"Given a treestring, returns a list of subtreestrings.\"\"\"\n",
        "  subtrees = [treestring]\n",
        "  counter = 0 # add 1 for every '(', subtract 1 for every ')'\n",
        "  for i in range(1, len(treestring)):\n",
        "    if treestring[i] == '(':\n",
        "      counter += 1\n",
        "      if counter == 1:\n",
        "        begin = i # found first position of new child\n",
        "    elif treestring[i] == ')':\n",
        "      counter -= 1\n",
        "      if counter == -1:\n",
        "        return subtrees # no more subtrees\n",
        "      if counter == 0:\n",
        "        end = i + 1 # found final position of new child, add subtrees of child\n",
        "        subtrees.extend(extract_subtrees(treestring[begin:end]))\n",
        "  return subtrees\n",
        "\n",
        "s = next(filereader(\"trees/dev.txt\"))\n",
        "print(s)\n",
        "extract_subtrees(s)"
      ],
      "metadata": {
        "colab": {
          "base_uri": "https://localhost:8080/"
        },
        "id": "fJ771H-o9ZTe",
        "outputId": "cf072d88-a793-4403-8eb9-d01f55539d43"
      },
      "execution_count": null,
      "outputs": [
        {
          "output_type": "stream",
          "name": "stdout",
          "text": [
            "(3 (2 It) (4 (4 (2 's) (4 (3 (2 a) (4 (3 lovely) (2 film))) (3 (2 with) (4 (3 (3 lovely) (2 performances)) (2 (2 by) (2 (2 (2 Buy) (2 and)) (2 Accorsi))))))) (2 .)))\n"
          ]
        },
        {
          "output_type": "execute_result",
          "data": {
            "text/plain": [
              "[\"(3 (2 It) (4 (4 (2 's) (4 (3 (2 a) (4 (3 lovely) (2 film))) (3 (2 with) (4 (3 (3 lovely) (2 performances)) (2 (2 by) (2 (2 (2 Buy) (2 and)) (2 Accorsi))))))) (2 .)))\",\n",
              " '(2 It)',\n",
              " \"(4 (4 (2 's) (4 (3 (2 a) (4 (3 lovely) (2 film))) (3 (2 with) (4 (3 (3 lovely) (2 performances)) (2 (2 by) (2 (2 (2 Buy) (2 and)) (2 Accorsi))))))) (2 .))\",\n",
              " \"(4 (2 's) (4 (3 (2 a) (4 (3 lovely) (2 film))) (3 (2 with) (4 (3 (3 lovely) (2 performances)) (2 (2 by) (2 (2 (2 Buy) (2 and)) (2 Accorsi)))))))\",\n",
              " \"(2 's)\",\n",
              " '(4 (3 (2 a) (4 (3 lovely) (2 film))) (3 (2 with) (4 (3 (3 lovely) (2 performances)) (2 (2 by) (2 (2 (2 Buy) (2 and)) (2 Accorsi))))))',\n",
              " '(3 (2 a) (4 (3 lovely) (2 film)))',\n",
              " '(2 a)',\n",
              " '(4 (3 lovely) (2 film))',\n",
              " '(3 lovely)',\n",
              " '(2 film)',\n",
              " '(3 (2 with) (4 (3 (3 lovely) (2 performances)) (2 (2 by) (2 (2 (2 Buy) (2 and)) (2 Accorsi)))))',\n",
              " '(2 with)',\n",
              " '(4 (3 (3 lovely) (2 performances)) (2 (2 by) (2 (2 (2 Buy) (2 and)) (2 Accorsi))))',\n",
              " '(3 (3 lovely) (2 performances))',\n",
              " '(3 lovely)',\n",
              " '(2 performances)',\n",
              " '(2 (2 by) (2 (2 (2 Buy) (2 and)) (2 Accorsi)))',\n",
              " '(2 by)',\n",
              " '(2 (2 (2 Buy) (2 and)) (2 Accorsi))',\n",
              " '(2 (2 Buy) (2 and))',\n",
              " '(2 Buy)',\n",
              " '(2 and)',\n",
              " '(2 Accorsi)',\n",
              " '(2 .)']"
            ]
          },
          "metadata": {},
          "execution_count": 9
        }
      ]
    },
    {
      "cell_type": "code",
      "source": [
        "def subtreereader(path, lower=False):\n",
        "  \"\"\"Returns all examples and their subtrees in a file one by one.\"\"\"\n",
        "  for line in filereader(path):\n",
        "    line = line.lower() if lower else line\n",
        "    for substring in extract_subtrees(line):\n",
        "      tokens = tokens_from_treestring(substring)\n",
        "      tree = Tree.fromstring(substring)  # use NLTK's Tree\n",
        "      label = int(substring[1])\n",
        "      trans = transitions_from_treestring(substring)\n",
        "      yield Example(tokens=tokens, tree=tree, label=label, transitions=trans)\n",
        "\n",
        "\n",
        "# Let's load the data into memory.\n",
        "LOWER = False  # we will keep the original casing\n",
        "train_extra = list(subtreereader(\"trees/train.txt\", lower=LOWER))\n",
        "print(\"train data with subtrees length:\", len(train_extra))"
      ],
      "metadata": {
        "colab": {
          "base_uri": "https://localhost:8080/"
        },
        "id": "j4kiPWrcF_Ml",
        "outputId": "b6bb3bd5-fac9-46c2-a4a3-64705a5f6759"
      },
      "execution_count": null,
      "outputs": [
        {
          "output_type": "stream",
          "name": "stdout",
          "text": [
            "train data with subtrees length: 318582\n"
          ]
        }
      ]
    },
    {
      "cell_type": "code",
      "source": [
        "# Here we first define a class that can map a word to an ID (w2i)\n",
        "# and back (i2w).\n",
        "\n",
        "from collections import Counter, OrderedDict, defaultdict\n",
        "\n",
        "\n",
        "class OrderedCounter(Counter, OrderedDict):\n",
        "  \"\"\"Counter that remembers the order elements are first seen\"\"\"\n",
        "  def __repr__(self):\n",
        "    return '%s(%r)' % (self.__class__.__name__,\n",
        "                      OrderedDict(self))\n",
        "  def __reduce__(self):\n",
        "    return self.__class__, (OrderedDict(self),)\n",
        "\n",
        "\n",
        "class Vocabulary:\n",
        "  \"\"\"A vocabulary, assigns IDs to tokens\"\"\"\n",
        "\n",
        "  def __init__(self):\n",
        "    self.freqs = OrderedCounter()\n",
        "    self.w2i = {}\n",
        "    self.i2w = []\n",
        "\n",
        "  def count_token(self, t):\n",
        "    self.freqs[t] += 1\n",
        "\n",
        "  def add_token(self, t):\n",
        "    self.w2i[t] = len(self.w2i)\n",
        "    self.i2w.append(t)\n",
        "\n",
        "  def build(self, min_freq=0):\n",
        "    '''\n",
        "    min_freq: minimum number of occurrences for a word to be included\n",
        "              in the vocabulary\n",
        "    '''\n",
        "    self.add_token(\"<unk>\")  # reserve 0 for <unk> (unknown words)\n",
        "    self.add_token(\"<pad>\")  # reserve 1 for <pad> (discussed later)\n",
        "\n",
        "    tok_freq = list(self.freqs.items())\n",
        "    tok_freq.sort(key=lambda x: x[1], reverse=True)\n",
        "    for tok, freq in tok_freq:\n",
        "      if freq >= min_freq:\n",
        "        self.add_token(tok)"
      ],
      "metadata": {
        "id": "jeYOagyEI71L"
      },
      "execution_count": null,
      "outputs": []
    },
    {
      "cell_type": "code",
      "source": [
        "v_train = Vocabulary()\n",
        "for data_set in (train_data,):\n",
        "  for ex in data_set:\n",
        "    for token in ex.tokens:\n",
        "      v_train.count_token(token)\n",
        "\n",
        "v_train.build()\n",
        "print(\"Vocabulary size:\", len(v_train.w2i))"
      ],
      "metadata": {
        "colab": {
          "base_uri": "https://localhost:8080/"
        },
        "id": "n6XJxO5rHStX",
        "outputId": "27f14a32-1e9d-4cc8-fd97-0fa0297c9abf"
      },
      "execution_count": null,
      "outputs": [
        {
          "output_type": "stream",
          "name": "stdout",
          "text": [
            "Vocabulary size: 18280\n"
          ]
        }
      ]
    },
    {
      "cell_type": "code",
      "source": [
        "v_glove = Vocabulary()\n",
        "vectors_glove = []\n",
        "\n",
        "file_name = \"glove.840B.300d.sst.txt\"\n",
        "with open(file_name, \"r\") as f:\n",
        "  for line in f.read().splitlines():\n",
        "    line = line.split()\n",
        "    v_glove.count_token(line[0])\n",
        "    vectors_glove.append(np.array(line[1:], dtype=float))\n",
        "\n",
        "v_glove.build()\n",
        "# vectors for <unk> and <pad> will be initialized later, because dependent on seed\n",
        "vectors_glove = np.stack(vectors_glove, axis=0)\n",
        "print(\"Vocabulary size:\", len(v_glove.w2i))"
      ],
      "metadata": {
        "colab": {
          "base_uri": "https://localhost:8080/"
        },
        "id": "iPLX0fYCXtIg",
        "outputId": "3fae5e31-5dfc-4284-b4dc-8eac408a2d78"
      },
      "execution_count": null,
      "outputs": [
        {
          "output_type": "stream",
          "name": "stdout",
          "text": [
            "Vocabulary size: 20727\n"
          ]
        }
      ]
    },
    {
      "cell_type": "code",
      "source": [
        "i2t = [\"very negative\", \"negative\", \"neutral\", \"positive\", \"very positive\"]\n",
        "t2i = OrderedDict({p : i for p, i in zip(i2t, range(len(i2t)))})"
      ],
      "metadata": {
        "id": "kNK2DqisPCtM"
      },
      "execution_count": null,
      "outputs": []
    },
    {
      "cell_type": "code",
      "source": [
        "lengths = [len(ex.tokens) for ex in test_data]\n",
        "print('Median test sample length:', np.median(lengths))\n",
        "\n",
        "s = 0\n",
        "m = 0\n",
        "l = 0\n",
        "\n",
        "for ex in test_data:\n",
        "  if len(ex.tokens) < 18:\n",
        "    s += 1\n",
        "  elif len(ex.tokens) == 18:\n",
        "    m += 1\n",
        "  else:\n",
        "    l += 1\n",
        "\n",
        "print('Number of test samples shorter than 18:', s)\n",
        "print('Number of test samples of length 18:', m)\n",
        "print('Number of test samples longer than 18:', l)"
      ],
      "metadata": {
        "colab": {
          "base_uri": "https://localhost:8080/"
        },
        "id": "y965u1_yj6pU",
        "outputId": "30bdad3d-ecaf-4eda-c86b-5fee83a4a179"
      },
      "execution_count": null,
      "outputs": [
        {
          "output_type": "stream",
          "name": "stdout",
          "text": [
            "Median test sample length: 18.0\n",
            "Number of test samples shorter than 18: 1003\n",
            "Number of test samples of length 18: 103\n",
            "Number of test samples longer than 18: 1104\n"
          ]
        }
      ]
    },
    {
      "cell_type": "code",
      "source": [
        "test_short = [ex for ex in test_data if len(ex.tokens) <= 18]\n",
        "test_long = [ex for ex in test_data if len(ex.tokens) > 18]\n",
        "\n",
        "print('Number of short test samples:', len(test_short))\n",
        "print('Number of long test samples:', len(test_long))\n",
        "\n",
        "print('Mean length of all test samples', np.mean([len(ex.tokens) for ex in test_data]))\n",
        "print('Mean length of short test samples', np.mean([len(ex.tokens) for ex in test_short]))\n",
        "print('Mean length of long test samples', np.mean([len(ex.tokens) for ex in test_long]))"
      ],
      "metadata": {
        "colab": {
          "base_uri": "https://localhost:8080/"
        },
        "id": "8XYHKF8umINv",
        "outputId": "ec113c5b-8eb0-42ff-8824-57f2a3053ec4"
      },
      "execution_count": null,
      "outputs": [
        {
          "output_type": "stream",
          "name": "stdout",
          "text": [
            "Number of short test samples: 1106\n",
            "Number of long test samples: 1104\n",
            "Mean length of all test samples 19.187782805429865\n",
            "Mean length of short test samples 11.881555153707053\n",
            "Mean length of long test samples 26.507246376811594\n"
          ]
        }
      ]
    },
    {
      "cell_type": "markdown",
      "source": [
        "## Models"
      ],
      "metadata": {
        "id": "e8l5XtobYtUa"
      }
    },
    {
      "cell_type": "code",
      "source": [
        "class BOW(nn.Module):\n",
        "  \"\"\"A simple bag-of-words model\"\"\"\n",
        "\n",
        "  def __init__(self, vocab_size, embedding_dim, vocab):\n",
        "    super(BOW, self).__init__()\n",
        "    self.vocab = vocab\n",
        "\n",
        "    # this is a trainable look-up table with word embeddings\n",
        "    self.embed = nn.Embedding(vocab_size, embedding_dim)\n",
        "\n",
        "    # this is a trainable bias term\n",
        "    self.bias = nn.Parameter(torch.zeros(embedding_dim), requires_grad=True)\n",
        "\n",
        "  def forward(self, inputs):\n",
        "    # this is the forward pass of the neural network\n",
        "    # it applies a function to the input and returns the output\n",
        "\n",
        "    # this looks up the embeddings for each word ID in inputs\n",
        "    # the result is a sequence of word embeddings\n",
        "    embeds = self.embed(inputs)\n",
        "\n",
        "    # the output is the sum across the time dimension (1)\n",
        "    # with the bias term added\n",
        "    logits = embeds.sum(1) + self.bias\n",
        "\n",
        "    return logits"
      ],
      "metadata": {
        "id": "3csYHPuVDInc"
      },
      "execution_count": null,
      "outputs": []
    },
    {
      "cell_type": "code",
      "source": [
        "class CBOW(nn.Module):\n",
        "  \"\"\"A continuous bag-of-words model\"\"\"\n",
        "\n",
        "  def __init__(self, vocab_size, embedding_dim, output_dim, vocab):\n",
        "    super(CBOW, self).__init__()\n",
        "    self.vocab = vocab\n",
        "\n",
        "    # this is a trainable look-up table with word embeddings\n",
        "    self.embed = nn.Embedding(vocab_size, embedding_dim)\n",
        "\n",
        "    # parameter matrix W and bias term\n",
        "    self.W = nn.Linear(embedding_dim, output_dim)\n",
        "\n",
        "  def forward(self, inputs):\n",
        "    # this is the forward pass of the neural network\n",
        "    # it applies a function to the input and returns the output\n",
        "\n",
        "    # this looks up the embeddings for each word ID in inputs\n",
        "    # the result is a sequence of word embeddings\n",
        "    embeds = self.embed(inputs)\n",
        "\n",
        "    # the output is the sum across the time dimension (1)\n",
        "    # followed by the linear layer\n",
        "    logits = self.W(embeds.sum(1))\n",
        "\n",
        "    return logits"
      ],
      "metadata": {
        "id": "nmEjv6OwSoE_"
      },
      "execution_count": null,
      "outputs": []
    },
    {
      "cell_type": "code",
      "source": [
        "# YOUR CODE HERE\n",
        "class DeepCBOW(nn.Module):\n",
        "  \"\"\"A deep continuous bag-of-words model\"\"\"\n",
        "\n",
        "  def __init__(self, vocab_size, embedding_dim, hidden_dim, output_dim, vocab):\n",
        "    super(DeepCBOW, self).__init__()\n",
        "    self.vocab = vocab\n",
        "\n",
        "    # this is a trainable look-up table with word embeddings\n",
        "    self.embed = nn.Embedding(vocab_size, embedding_dim)\n",
        "\n",
        "    # linear transformations and non-linear activation functions\n",
        "    self.output_layer = nn.Sequential(\n",
        "        nn.Linear(embedding_dim, hidden_dim),\n",
        "        nn.Tanh(),\n",
        "        nn.Linear(hidden_dim, hidden_dim),\n",
        "        nn.Tanh(),\n",
        "        nn.Linear(hidden_dim, output_dim)\n",
        "    )\n",
        "\n",
        "  def forward(self, inputs):\n",
        "    # this is the forward pass of the neural network\n",
        "    # it applies a function to the input and returns the output\n",
        "\n",
        "    # this looks up the embeddings for each word ID in inputs\n",
        "    # the result is a sequence of word embeddings\n",
        "    embeds = self.embed(inputs)\n",
        "\n",
        "    # the output is the sum across the time dimension (1)\n",
        "    # followed by the output layers\n",
        "    logits = self.output_layer(embeds.sum(1))\n",
        "\n",
        "    return logits"
      ],
      "metadata": {
        "id": "5JarNw-yVkV2"
      },
      "execution_count": null,
      "outputs": []
    },
    {
      "cell_type": "code",
      "source": [
        "# We define a new class that inherits from DeepCBOW.\n",
        "class PTDeepCBOW(DeepCBOW):\n",
        "  def __init__(self, vocab_size, embedding_dim, hidden_dim, output_dim, vocab):\n",
        "    super(PTDeepCBOW, self).__init__(\n",
        "        vocab_size, embedding_dim, hidden_dim, output_dim, vocab)"
      ],
      "metadata": {
        "id": "dUFiyYfgYrH0"
      },
      "execution_count": null,
      "outputs": []
    },
    {
      "cell_type": "code",
      "source": [
        "class MyLSTMCell(nn.Module):\n",
        "  \"\"\"Our own LSTM cell\"\"\"\n",
        "\n",
        "  def __init__(self, input_size, hidden_size, bias=True):\n",
        "    \"\"\"Creates the weights for this LSTM\"\"\"\n",
        "    super(MyLSTMCell, self).__init__()\n",
        "\n",
        "    self.input_size = input_size\n",
        "    self.hidden_size = hidden_size\n",
        "    self.bias = bias\n",
        "\n",
        "    self.W_h = nn.Linear(self.hidden_size, self.hidden_size * 4, self.bias)\n",
        "    self.W_i = nn.Linear(self.input_size, self.hidden_size * 4, self.bias)\n",
        "\n",
        "    self.reset_parameters()\n",
        "\n",
        "  def reset_parameters(self):\n",
        "    \"\"\"This is PyTorch's default initialization method\"\"\"\n",
        "    stdv = 1.0 / math.sqrt(self.hidden_size)\n",
        "    for weight in self.parameters():\n",
        "      weight.data.uniform_(-stdv, stdv)\n",
        "\n",
        "  def forward(self, input_, hx, mask=None):\n",
        "    \"\"\"\n",
        "    input is (batch, input_size)\n",
        "    hx is ((batch, hidden_size), (batch, hidden_size))\n",
        "    \"\"\"\n",
        "    prev_h, prev_c = hx\n",
        "\n",
        "    # project input and prev state\n",
        "    input_proj = self.W_i(input_)\n",
        "    prev_h_proj = self.W_h(prev_h)\n",
        "\n",
        "    # main LSTM computation\n",
        "\n",
        "    i, f, g, o = torch.chunk(input_proj + prev_h_proj, 4, -1)\n",
        "    i = i.sigmoid()\n",
        "    f = f.sigmoid()\n",
        "    g = g.tanh()\n",
        "    o = o.sigmoid()\n",
        "\n",
        "    c = f * prev_c + i * g\n",
        "    h = o * c.tanh()\n",
        "\n",
        "    return h, c\n",
        "\n",
        "  def __repr__(self):\n",
        "    return \"{}({:d}, {:d})\".format(\n",
        "        self.__class__.__name__, self.input_size, self.hidden_size)"
      ],
      "metadata": {
        "id": "8UPkyuieaEo4"
      },
      "execution_count": null,
      "outputs": []
    },
    {
      "cell_type": "code",
      "source": [
        "class LSTMClassifier(nn.Module):\n",
        "  \"\"\"Encodes sentence with an LSTM and projects final hidden state\"\"\"\n",
        "\n",
        "  def __init__(self, vocab_size, embedding_dim, hidden_dim, output_dim, vocab):\n",
        "    super(LSTMClassifier, self).__init__()\n",
        "    self.vocab = vocab\n",
        "    self.hidden_dim = hidden_dim\n",
        "    self.embed = nn.Embedding(vocab_size, embedding_dim, padding_idx=1)\n",
        "    self.rnn = MyLSTMCell(embedding_dim, hidden_dim)\n",
        "\n",
        "    self.output_layer = nn.Sequential(\n",
        "        nn.Dropout(p=0.5),  # explained later\n",
        "        nn.Linear(hidden_dim, output_dim)\n",
        "    )\n",
        "\n",
        "  def forward(self, x):\n",
        "\n",
        "    B = x.size(0)  # batch size (this is 1 for now, i.e. 1 single example)\n",
        "    T = x.size(1)  # timesteps (the number of words in the sentence)\n",
        "\n",
        "    input_ = self.embed(x)\n",
        "\n",
        "    # here we create initial hidden states containing zeros\n",
        "    # we use a trick here so that, if input is on the GPU, then so are hx and cx\n",
        "    hx = input_.new_zeros(B, self.rnn.hidden_size)\n",
        "    cx = input_.new_zeros(B, self.rnn.hidden_size)\n",
        "\n",
        "    # process input sentences one word/timestep at a time\n",
        "    # input is batch-major (i.e., batch size is the first dimension)\n",
        "    # so the first word(s) is (are) input_[:, 0]\n",
        "    outputs = []\n",
        "    for i in range(T):\n",
        "      hx, cx = self.rnn(input_[:, i], (hx, cx))\n",
        "      outputs.append(hx)\n",
        "\n",
        "    # if we have a single example, our final LSTM state is the last hx\n",
        "    if B == 1:\n",
        "      final = hx\n",
        "    else:\n",
        "      #\n",
        "      # This part is explained in next section, ignore this else-block for now.\n",
        "      #\n",
        "      # We processed sentences with different lengths, so some of the sentences\n",
        "      # had already finished and we have been adding padding inputs to hx.\n",
        "      # We select the final state based on the length of each sentence.\n",
        "\n",
        "      # two lines below not needed if using LSTM from pytorch\n",
        "      outputs = torch.stack(outputs, dim=0)           # [T, B, D]\n",
        "      outputs = outputs.transpose(0, 1).contiguous()  # [B, T, D]\n",
        "\n",
        "      # to be super-sure we're not accidentally indexing the wrong state\n",
        "      # we zero out positions that are invalid\n",
        "      pad_positions = (x == 1).unsqueeze(-1)\n",
        "\n",
        "      outputs = outputs.contiguous()\n",
        "      outputs = outputs.masked_fill_(pad_positions, 0.)\n",
        "\n",
        "      mask = (x != 1)  # true for valid positions [B, T]\n",
        "      lengths = mask.sum(dim=1)                 # [B, 1]\n",
        "\n",
        "      indexes = (lengths - 1) + torch.arange(B, device=x.device, dtype=x.dtype) * T\n",
        "      final = outputs.view(-1, self.hidden_dim)[indexes]  # [B, D]\n",
        "\n",
        "    # we use the last hidden state to classify the sentence\n",
        "    logits = self.output_layer(final)\n",
        "    return logits"
      ],
      "metadata": {
        "id": "3tllqkUSaOvi"
      },
      "execution_count": null,
      "outputs": []
    },
    {
      "cell_type": "code",
      "source": [
        "class TreeLSTMCell(nn.Module):\n",
        "  \"\"\"A Binary Tree LSTM cell\"\"\"\n",
        "\n",
        "  def __init__(self, input_size, hidden_size, bias=True):\n",
        "    \"\"\"Creates the weights for this LSTM\"\"\"\n",
        "    super(TreeLSTMCell, self).__init__()\n",
        "\n",
        "    self.input_size = input_size\n",
        "    self.hidden_size = hidden_size\n",
        "    self.bias = bias\n",
        "\n",
        "    self.reduce_layer = nn.Linear(2 * hidden_size, 5 * hidden_size)\n",
        "    self.dropout_layer = nn.Dropout(p=0.25)\n",
        "\n",
        "    self.reset_parameters()\n",
        "\n",
        "  def reset_parameters(self):\n",
        "    \"\"\"This is PyTorch's default initialization method\"\"\"\n",
        "    stdv = 1.0 / math.sqrt(self.hidden_size)\n",
        "    for weight in self.parameters():\n",
        "      weight.data.uniform_(-stdv, stdv)\n",
        "\n",
        "  def forward(self, hx_l, hx_r, mask=None):\n",
        "    \"\"\"\n",
        "    hx_l is ((batch, hidden_size), (batch, hidden_size))\n",
        "    hx_r is ((batch, hidden_size), (batch, hidden_size))\n",
        "    \"\"\"\n",
        "    prev_h_l, prev_c_l = hx_l  # left child\n",
        "    prev_h_r, prev_c_r = hx_r  # right child\n",
        "\n",
        "    B = prev_h_l.size(0)\n",
        "\n",
        "    # we concatenate the left and right children\n",
        "    # you can also project from them separately and then sum\n",
        "    children = torch.cat([prev_h_l, prev_h_r], dim=1)\n",
        "\n",
        "    # project the combined children into a 5D tensor for i,fl,fr,g,o\n",
        "    # this is done for speed, and you could also do it separately\n",
        "    proj = self.reduce_layer(children)  # shape: B x 5D\n",
        "\n",
        "    # each shape: B x D\n",
        "    i, f_l, f_r, g, o = torch.chunk(proj, 5, dim=-1)\n",
        "\n",
        "    # main Tree LSTM computation\n",
        "\n",
        "    # The shape of each of these is [batch_size, hidden_size]\n",
        "\n",
        "    i = i.sigmoid()\n",
        "    f_l = f_l.sigmoid()\n",
        "    f_r = f_r.sigmoid()\n",
        "    g = g.tanh()\n",
        "    o = o.sigmoid()\n",
        "\n",
        "    c = i * g + f_l * prev_c_l + f_r * prev_c_r\n",
        "    h = o * c.tanh()\n",
        "\n",
        "    return h, c\n",
        "\n",
        "  def __repr__(self):\n",
        "    return \"{}({:d}, {:d})\".format(\n",
        "        self.__class__.__name__, self.input_size, self.hidden_size)"
      ],
      "metadata": {
        "id": "ZyKgHWotfNvL"
      },
      "execution_count": null,
      "outputs": []
    },
    {
      "cell_type": "code",
      "source": [
        "def batch(states):\n",
        "  \"\"\"\n",
        "  Turns a list of states into a single tensor for fast processing.\n",
        "  This function also chunks (splits) each state into a (h, c) pair\"\"\"\n",
        "  return torch.cat(states, 0).chunk(2, 1)\n",
        "\n",
        "def unbatch(state):\n",
        "  \"\"\"\n",
        "  Turns a tensor back into a list of states.\n",
        "  First, (h, c) are merged into a single state.\n",
        "  Then the result is split into a list of sentences.\n",
        "  \"\"\"\n",
        "  return torch.split(torch.cat(state, 1), 1, 0)\n",
        "\n",
        "class TreeLSTM(nn.Module):\n",
        "  \"\"\"Encodes a sentence using a TreeLSTMCell\"\"\"\n",
        "\n",
        "  def __init__(self, input_size, hidden_size, bias=True):\n",
        "    \"\"\"Creates the weights for this LSTM\"\"\"\n",
        "    super(TreeLSTM, self).__init__()\n",
        "\n",
        "    self.input_size = input_size\n",
        "    self.hidden_size = hidden_size\n",
        "    self.bias = bias\n",
        "    self.reduce = TreeLSTMCell(input_size, hidden_size)\n",
        "\n",
        "    # project word to initial c\n",
        "    self.proj_x = nn.Linear(input_size, hidden_size)\n",
        "    self.proj_x_gate = nn.Linear(input_size, hidden_size)\n",
        "\n",
        "    self.buffers_dropout = nn.Dropout(p=0.5)\n",
        "\n",
        "  def forward(self, x, transitions):\n",
        "    \"\"\"\n",
        "    WARNING: assuming x is reversed!\n",
        "    :param x: word embeddings [B, T, E]\n",
        "    :param transitions: [2T-1, B]\n",
        "    :return: root states\n",
        "    \"\"\"\n",
        "\n",
        "    B = x.size(0)  # batch size\n",
        "    T = x.size(1)  # time\n",
        "\n",
        "    # compute an initial c and h for each word\n",
        "    # Note: this corresponds to input x in the Tai et al. Tree LSTM paper.\n",
        "    # We do not handle input x in the TreeLSTMCell itself.\n",
        "    buffers_c = self.proj_x(x)\n",
        "    buffers_h = buffers_c.tanh()\n",
        "    buffers_h_gate = self.proj_x_gate(x).sigmoid()\n",
        "    buffers_h = buffers_h_gate * buffers_h\n",
        "\n",
        "    # concatenate h and c for each word\n",
        "    buffers = torch.cat([buffers_h, buffers_c], dim=-1)\n",
        "\n",
        "    D = buffers.size(-1) // 2\n",
        "\n",
        "    # we turn buffers into a list of stacks (1 stack for each sentence)\n",
        "    # first we split buffers so that it is a list of sentences (length B)\n",
        "    # then we split each sentence to be a list of word vectors\n",
        "    buffers = buffers.split(1, dim=0)  # Bx[T, 2D]\n",
        "    buffers = [list(b.squeeze(0).split(1, dim=0)) for b in buffers]  # BxTx[2D]\n",
        "\n",
        "    # create B empty stacks\n",
        "    stacks = [[] for _ in buffers]\n",
        "\n",
        "    # t_batch holds 1 transition for each sentence\n",
        "    for t_batch in transitions:\n",
        "\n",
        "      child_l = []  # contains the left child for each sentence with reduce action\n",
        "      child_r = []  # contains the corresponding right child\n",
        "\n",
        "      # iterate over sentences in the batch\n",
        "      # each has a transition t, a buffer and a stack\n",
        "      for transition, buffer, stack in zip(t_batch, buffers, stacks):\n",
        "        if transition == SHIFT:\n",
        "          stack.append(buffer.pop())\n",
        "        elif transition == REDUCE:\n",
        "          assert len(stack) >= 2, \\\n",
        "            \"Stack too small! Should not happen with valid transition sequences\"\n",
        "          child_r.append(stack.pop())  # right child is on top\n",
        "          child_l.append(stack.pop())\n",
        "\n",
        "      # if there are sentences with reduce transition, perform them batched\n",
        "      if child_l:\n",
        "        reduced = iter(unbatch(self.reduce(batch(child_l), batch(child_r))))\n",
        "        for transition, stack in zip(t_batch, stacks):\n",
        "          if transition == REDUCE:\n",
        "            stack.append(next(reduced))\n",
        "\n",
        "    final = [stack.pop().chunk(2, -1)[0] for stack in stacks]\n",
        "    final = torch.cat(final, dim=0)  # tensor [B, D]\n",
        "\n",
        "    return final"
      ],
      "metadata": {
        "id": "V8_732JdfbRJ"
      },
      "execution_count": null,
      "outputs": []
    },
    {
      "cell_type": "code",
      "source": [
        "class TreeLSTMClassifier(nn.Module):\n",
        "  \"\"\"Encodes sentence with a TreeLSTM and projects final hidden state\"\"\"\n",
        "\n",
        "  def __init__(self, vocab_size, embedding_dim, hidden_dim, output_dim, vocab):\n",
        "    super(TreeLSTMClassifier, self).__init__()\n",
        "    self.vocab = vocab\n",
        "    self.hidden_dim = hidden_dim\n",
        "    self.embed = nn.Embedding(vocab_size, embedding_dim, padding_idx=1)\n",
        "    self.treelstm = TreeLSTM(embedding_dim, hidden_dim)\n",
        "    self.output_layer = nn.Sequential(\n",
        "        nn.Dropout(p=0.5),\n",
        "        nn.Linear(hidden_dim, output_dim, bias=True)\n",
        "    )\n",
        "\n",
        "  def forward(self, x):\n",
        "\n",
        "    # x is a pair here of words and transitions; we unpack it here.\n",
        "    # x is batch-major: [B, T], transitions is time major [2T-1, B]\n",
        "    x, transitions = x\n",
        "    emb = self.embed(x)\n",
        "\n",
        "    # we use the root/top state of the Tree LSTM to classify the sentence\n",
        "    root_states = self.treelstm(emb, transitions)\n",
        "\n",
        "    # we use the last hidden state to classify the sentence\n",
        "    logits = self.output_layer(root_states)\n",
        "    return logits"
      ],
      "metadata": {
        "id": "SyHO1xABfvwY"
      },
      "execution_count": null,
      "outputs": []
    },
    {
      "cell_type": "code",
      "source": [
        "class ChildSumCell(nn.Module):\n",
        "  \"\"\"A Child-Sum Tree LSTM cell\"\"\"\n",
        "\n",
        "  def __init__(self, input_size, hidden_size, bias=True):\n",
        "    \"\"\"Creates the weights for this LSTM\"\"\"\n",
        "    super(ChildSumCell, self).__init__()\n",
        "\n",
        "    self.input_size = input_size\n",
        "    self.hidden_size = hidden_size\n",
        "    self.bias = bias\n",
        "\n",
        "    self.reduce_layer = nn.Linear(hidden_size, 3 * hidden_size)\n",
        "    self.dropout_layer = nn.Dropout(p=0.25)\n",
        "\n",
        "    self.reduce_layer_f = nn.Linear(hidden_size, hidden_size)\n",
        "    self.dropout_layer = nn.Dropout(p=0.25)\n",
        "\n",
        "    self.reset_parameters()\n",
        "\n",
        "  def reset_parameters(self):\n",
        "    \"\"\"This is PyTorch's default initialization method\"\"\"\n",
        "    stdv = 1.0 / math.sqrt(self.hidden_size)\n",
        "    for weight in self.parameters():\n",
        "      weight.data.uniform_(-stdv, stdv)\n",
        "\n",
        "  def forward(self, hx_l, hx_r, mask=None):\n",
        "    \"\"\"\n",
        "    hx_l is ((batch, hidden_size), (batch, hidden_size))\n",
        "    hx_r is ((batch, hidden_size), (batch, hidden_size))\n",
        "    \"\"\"\n",
        "    prev_h_l, prev_c_l = hx_l  # left child\n",
        "    prev_h_r, prev_c_r = hx_r  # right child\n",
        "\n",
        "    B = prev_h_l.size(0)\n",
        "\n",
        "    #children = torch.cat([prev_h_l, prev_h_r], dim=1)\n",
        "    child_sum = prev_h_l + prev_h_r\n",
        "    children = torch.cat([prev_h_l, prev_h_r], dim=0)\n",
        "\n",
        "    proj = self.reduce_layer(child_sum)  # shape: B x 3D\n",
        "    proj_f = self.reduce_layer_f(children) # shape: 2B x D\n",
        "\n",
        "    # each shape: B x D\n",
        "    i, g, o = torch.chunk(proj, 3, dim=-1)\n",
        "    f_l, f_r = torch.chunk(proj_f, 2, dim=0)\n",
        "\n",
        "    # main Tree LSTM computation\n",
        "\n",
        "    # The shape of each of these is [batch_size, hidden_size]\n",
        "\n",
        "    i = i.sigmoid()\n",
        "    f_l = f_l.sigmoid()\n",
        "    f_r = f_r.sigmoid()\n",
        "    g = g.tanh()\n",
        "    o = o.sigmoid()\n",
        "\n",
        "    c = i * g + f_l * prev_c_l + f_r * prev_c_r\n",
        "    h = o * c.tanh()\n",
        "\n",
        "    return h, c\n",
        "\n",
        "  def __repr__(self):\n",
        "    return \"{}({:d}, {:d})\".format(\n",
        "        self.__class__.__name__, self.input_size, self.hidden_size)"
      ],
      "metadata": {
        "id": "u6J9IpKGXXkz"
      },
      "execution_count": null,
      "outputs": []
    },
    {
      "cell_type": "code",
      "source": [
        "class ChildSumLSTM(nn.Module):\n",
        "  \"\"\"Encodes a sentence using a ChildSumCell\"\"\"\n",
        "\n",
        "  def __init__(self, input_size, hidden_size, bias=True):\n",
        "    \"\"\"Creates the weights for this LSTM\"\"\"\n",
        "    super(ChildSumLSTM, self).__init__()\n",
        "\n",
        "    self.input_size = input_size\n",
        "    self.hidden_size = hidden_size\n",
        "    self.bias = bias\n",
        "    self.reduce = ChildSumCell(input_size, hidden_size)\n",
        "\n",
        "    # project word to initial c\n",
        "    self.proj_x = nn.Linear(input_size, hidden_size)\n",
        "    self.proj_x_gate = nn.Linear(input_size, hidden_size)\n",
        "\n",
        "    self.buffers_dropout = nn.Dropout(p=0.5)\n",
        "\n",
        "  def forward(self, x, transitions):\n",
        "    \"\"\"\n",
        "    WARNING: assuming x is reversed!\n",
        "    :param x: word embeddings [B, T, E]\n",
        "    :param transitions: [2T-1, B]\n",
        "    :return: root states\n",
        "    \"\"\"\n",
        "\n",
        "    B = x.size(0)  # batch size\n",
        "    T = x.size(1)  # time\n",
        "\n",
        "    # compute an initial c and h for each word\n",
        "    # Note: this corresponds to input x in the Tai et al. Tree LSTM paper.\n",
        "    # We do not handle input x in the TreeLSTMCell itself.\n",
        "    buffers_c = self.proj_x(x)\n",
        "    buffers_h = buffers_c.tanh()\n",
        "    buffers_h_gate = self.proj_x_gate(x).sigmoid()\n",
        "    buffers_h = buffers_h_gate * buffers_h\n",
        "\n",
        "    # concatenate h and c for each word\n",
        "    buffers = torch.cat([buffers_h, buffers_c], dim=-1)\n",
        "\n",
        "    D = buffers.size(-1) // 2\n",
        "\n",
        "    # we turn buffers into a list of stacks (1 stack for each sentence)\n",
        "    # first we split buffers so that it is a list of sentences (length B)\n",
        "    # then we split each sentence to be a list of word vectors\n",
        "    buffers = buffers.split(1, dim=0)  # Bx[T, 2D]\n",
        "    buffers = [list(b.squeeze(0).split(1, dim=0)) for b in buffers]  # BxTx[2D]\n",
        "\n",
        "    # create B empty stacks\n",
        "    stacks = [[] for _ in buffers]\n",
        "\n",
        "    # t_batch holds 1 transition for each sentence\n",
        "    for t_batch in transitions:\n",
        "\n",
        "      child_l = []  # contains the left child for each sentence with reduce action\n",
        "      child_r = []  # contains the corresponding right child\n",
        "\n",
        "      # iterate over sentences in the batch\n",
        "      # each has a transition t, a buffer and a stack\n",
        "      for transition, buffer, stack in zip(t_batch, buffers, stacks):\n",
        "        if transition == SHIFT:\n",
        "          stack.append(buffer.pop())\n",
        "        elif transition == REDUCE:\n",
        "          assert len(stack) >= 2, \\\n",
        "            \"Stack too small! Should not happen with valid transition sequences\"\n",
        "          child_r.append(stack.pop())  # right child is on top\n",
        "          child_l.append(stack.pop())\n",
        "\n",
        "      # if there are sentences with reduce transition, perform them batched\n",
        "      if child_l:\n",
        "        reduced = iter(unbatch(self.reduce(batch(child_l), batch(child_r))))\n",
        "        for transition, stack in zip(t_batch, stacks):\n",
        "          if transition == REDUCE:\n",
        "            stack.append(next(reduced))\n",
        "\n",
        "    final = [stack.pop().chunk(2, -1)[0] for stack in stacks]\n",
        "    final = torch.cat(final, dim=0)  # tensor [B, D]\n",
        "\n",
        "    return final"
      ],
      "metadata": {
        "id": "BsqS5gVOgZ1s"
      },
      "execution_count": null,
      "outputs": []
    },
    {
      "cell_type": "code",
      "source": [
        "class ChildSumClassifier(nn.Module):\n",
        "  \"\"\"Encodes sentence with a Child-Sum TreeLSTM and projects final hidden state\"\"\"\n",
        "\n",
        "  def __init__(self, vocab_size, embedding_dim, hidden_dim, output_dim, vocab):\n",
        "    super(ChildSumClassifier, self).__init__()\n",
        "    self.vocab = vocab\n",
        "    self.hidden_dim = hidden_dim\n",
        "    self.embed = nn.Embedding(vocab_size, embedding_dim, padding_idx=1)\n",
        "    self.treelstm = ChildSumLSTM(embedding_dim, hidden_dim)\n",
        "    self.output_layer = nn.Sequential(\n",
        "        nn.Dropout(p=0.5),\n",
        "        nn.Linear(hidden_dim, output_dim, bias=True)\n",
        "    )\n",
        "\n",
        "  def forward(self, x):\n",
        "\n",
        "    # x is a pair here of words and transitions; we unpack it here.\n",
        "    # x is batch-major: [B, T], transitions is time major [2T-1, B]\n",
        "    x, transitions = x\n",
        "    emb = self.embed(x)\n",
        "\n",
        "    # we use the root/top state of the Tree LSTM to classify the sentence\n",
        "    root_states = self.treelstm(emb, transitions)\n",
        "\n",
        "    # we use the last hidden state to classify the sentence\n",
        "    logits = self.output_layer(root_states)\n",
        "    return logits"
      ],
      "metadata": {
        "id": "HiAK11dig1Ax"
      },
      "execution_count": null,
      "outputs": []
    },
    {
      "cell_type": "markdown",
      "source": [
        "## Preparing training"
      ],
      "metadata": {
        "id": "AlYrqyPQZK88"
      }
    },
    {
      "cell_type": "code",
      "source": [
        "def pad(tokens, length, pad_value=1):\n",
        "  \"\"\"add padding 1s to a sequence to that it has the desired length\"\"\"\n",
        "  return tokens + [pad_value] * (length - len(tokens))"
      ],
      "metadata": {
        "id": "vTvu3ilRbhIb"
      },
      "execution_count": null,
      "outputs": []
    },
    {
      "cell_type": "code",
      "source": [
        "def get_examples(data, shuffle=True, **kwargs):\n",
        "  \"\"\"Shuffle data set and return 1 example at a time (until nothing left)\"\"\"\n",
        "  if shuffle:\n",
        "    print(\"Shuffling training data\")\n",
        "    random.shuffle(data)  # shuffle training data each epoch\n",
        "  for example in data:\n",
        "    yield example\n",
        "\n",
        "def get_minibatch(data, batch_size=25, shuffle=True):\n",
        "  \"\"\"Return minibatches, optional shuffling\"\"\"\n",
        "\n",
        "  if shuffle:\n",
        "    print(\"Shuffling training data\")\n",
        "    random.shuffle(data)  # shuffle training data each epoch\n",
        "\n",
        "  batch = []\n",
        "\n",
        "  # yield minibatches\n",
        "  for example in data:\n",
        "    batch.append(example)\n",
        "\n",
        "    if len(batch) == batch_size:\n",
        "      yield batch\n",
        "      batch = []\n",
        "\n",
        "  # in case there is something left\n",
        "  if len(batch) > 0:\n",
        "    yield batch"
      ],
      "metadata": {
        "id": "T-vuwtJ1bwrO"
      },
      "execution_count": null,
      "outputs": []
    },
    {
      "cell_type": "code",
      "source": [
        "def prepare_example(example, vocab):\n",
        "  \"\"\"\n",
        "  Map tokens to their IDs for a single example\n",
        "  \"\"\"\n",
        "\n",
        "  # vocab returns 0 if the word is not there (i2w[0] = <unk>)\n",
        "  x = [vocab.w2i.get(t, 0) for t in example.tokens]\n",
        "\n",
        "  x = torch.LongTensor([x])\n",
        "  x = x.to(device)\n",
        "\n",
        "  y = torch.LongTensor([example.label])\n",
        "  y = y.to(device)\n",
        "\n",
        "  return x, y\n",
        "\n",
        "def prepare_minibatch(mb, vocab):\n",
        "  \"\"\"\n",
        "  Minibatch is a list of examples.\n",
        "  This function converts words to IDs and returns\n",
        "  torch tensors to be used as input/targets.\n",
        "  \"\"\"\n",
        "  batch_size = len(mb)\n",
        "  maxlen = max([len(ex.tokens) for ex in mb])\n",
        "\n",
        "  # vocab returns 0 if the word is not there\n",
        "  x = [pad([vocab.w2i.get(t, 0) for t in ex.tokens], maxlen) for ex in mb]\n",
        "\n",
        "  x = torch.LongTensor(x)\n",
        "  x = x.to(device)\n",
        "\n",
        "  y = [ex.label for ex in mb]\n",
        "  y = torch.LongTensor(y)\n",
        "  y = y.to(device)\n",
        "\n",
        "  return x, y\n",
        "\n",
        "def prepare_treelstm_minibatch(mb, vocab):\n",
        "  \"\"\"\n",
        "  Returns sentences reversed (last word first)\n",
        "  Returns transitions together with the sentences.\n",
        "  \"\"\"\n",
        "  batch_size = len(mb)\n",
        "  maxlen = max([len(ex.tokens) for ex in mb])\n",
        "\n",
        "  # vocab returns 0 if the word is not there\n",
        "  # NOTE: reversed sequence!\n",
        "  x = [pad([vocab.w2i.get(t, 0) for t in ex.tokens], maxlen)[::-1] for ex in mb]\n",
        "\n",
        "  x = torch.LongTensor(x)\n",
        "  x = x.to(device)\n",
        "\n",
        "  y = [ex.label for ex in mb]\n",
        "  y = torch.LongTensor(y)\n",
        "  y = y.to(device)\n",
        "\n",
        "  maxlen_t = max([len(ex.transitions) for ex in mb])\n",
        "  transitions = [pad(ex.transitions, maxlen_t, pad_value=2) for ex in mb]\n",
        "  transitions = np.array(transitions)\n",
        "  transitions = transitions.T  # time-major\n",
        "\n",
        "  return (x, transitions), y"
      ],
      "metadata": {
        "id": "BG-49ARKb86o"
      },
      "execution_count": null,
      "outputs": []
    },
    {
      "cell_type": "code",
      "source": [
        "def simple_evaluate(model, data, prep_fn=prepare_example, **kwargs):\n",
        "  \"\"\"Accuracy of a model on given data set.\"\"\"\n",
        "  correct = 0\n",
        "  total = 0\n",
        "  model.eval()  # disable dropout\n",
        "\n",
        "  for example in data:\n",
        "\n",
        "    # convert the example input and label to PyTorch tensors\n",
        "    x, target = prep_fn(example, model.vocab)\n",
        "\n",
        "    # forward pass without backpropagation (no_grad)\n",
        "    # get the output from the neural network for input x\n",
        "    with torch.no_grad():\n",
        "      logits = model(x)\n",
        "\n",
        "    # get the prediction\n",
        "    prediction = logits.argmax(dim=-1)\n",
        "\n",
        "    # add the number of correct predictions to the total correct\n",
        "    correct += (prediction == target).sum().item()\n",
        "    total += 1\n",
        "\n",
        "  return correct, total, correct / float(total)\n",
        "\n",
        "def evaluate(model, data,\n",
        "             batch_fn=get_minibatch, prep_fn=prepare_minibatch,\n",
        "             batch_size=16):\n",
        "  \"\"\"Accuracy of a model on given data set (using mini-batches)\"\"\"\n",
        "  correct = 0\n",
        "  total = 0\n",
        "  model.eval()  # disable dropout\n",
        "\n",
        "  for mb in batch_fn(data, batch_size=batch_size, shuffle=False):\n",
        "    x, targets = prep_fn(mb, model.vocab)\n",
        "    with torch.no_grad():\n",
        "      logits = model(x)\n",
        "\n",
        "    predictions = logits.argmax(dim=-1).view(-1)\n",
        "\n",
        "    # add the number of correct predictions to the total correct\n",
        "    correct += (predictions == targets.view(-1)).sum().item()\n",
        "    total += targets.size(0)\n",
        "\n",
        "  return correct, total, correct / float(total)\n",
        "\n",
        "def evaluate_models(models, data_sets, eval_fn=simple_evaluate,\n",
        "                    batch_fn=get_minibatch, prep_fn=prepare_example,\n",
        "                    batch_size=16):\n",
        "  \"\"\"\n",
        "  Evaluates each model on each data set.\n",
        "  Returns a list of lists where each list contains the accuracies of one model.\n",
        "  \"\"\"\n",
        "  accuracies = []\n",
        "  for model in models:\n",
        "    model_accs = []\n",
        "    for data_set in data_sets:\n",
        "      _, _, accuracy = eval_fn(model, data_set, batch_size=batch_size,\n",
        "                               batch_fn=batch_fn, prep_fn=prep_fn)\n",
        "      model_accs.append(accuracy)\n",
        "    accuracies.append(model_accs)\n",
        "  return accuracies"
      ],
      "metadata": {
        "id": "oGfF1fv_cJzO"
      },
      "execution_count": null,
      "outputs": []
    },
    {
      "cell_type": "code",
      "source": [
        "def train_model(model, optimizer,\n",
        "                num_iterations=10000,\n",
        "                print_every=1000, eval_every=1000,\n",
        "                batch_fn=get_examples,\n",
        "                prep_fn=prepare_example,\n",
        "                eval_fn=simple_evaluate,\n",
        "                batch_size=1, eval_batch_size=None,\n",
        "                data_train=train_data):\n",
        "  \"\"\"Train a model.\"\"\"\n",
        "  data_train = data_train.copy()\n",
        "  iter_i = 0\n",
        "  train_loss = 0.\n",
        "  print_num = 0\n",
        "  start = time.time()\n",
        "  criterion = nn.CrossEntropyLoss() # loss function\n",
        "  best_eval = 0.\n",
        "  best_iter = 0\n",
        "\n",
        "  # store train loss and validation accuracy during training\n",
        "  # so we can plot them afterwards\n",
        "  losses = []\n",
        "  dev_accs = []\n",
        "\n",
        "  if eval_batch_size is None:\n",
        "    eval_batch_size = batch_size\n",
        "\n",
        "  while True:  # when we run out of examples, shuffle and continue\n",
        "    for batch in batch_fn(data_train, batch_size=batch_size):\n",
        "\n",
        "      # forward pass\n",
        "      model.train()\n",
        "      x, targets = prep_fn(batch, model.vocab)\n",
        "      logits = model(x)\n",
        "\n",
        "      B = targets.size(0)  # later we will use B examples per update\n",
        "\n",
        "      # compute cross-entropy loss (our criterion)\n",
        "      # note that the cross entropy loss function computes the softmax for us\n",
        "      loss = criterion(logits.view([B, -1]), targets.view(-1))\n",
        "      train_loss += loss.item()\n",
        "\n",
        "      # backward pass (tip: check the Introduction to PyTorch notebook)\n",
        "\n",
        "      # erase previous gradients\n",
        "      #raise NotImplementedError(\"Implement this\")\n",
        "      # YOUR CODE HERE\n",
        "      optimizer.zero_grad()\n",
        "\n",
        "      # compute gradients\n",
        "      # YOUR CODE HERE\n",
        "      loss.backward()\n",
        "\n",
        "      # update weights - take a small step in the opposite dir of the gradient\n",
        "      # YOUR CODE HERE\n",
        "      optimizer.step()\n",
        "\n",
        "      print_num += 1\n",
        "      iter_i += 1\n",
        "\n",
        "      # print info\n",
        "      if iter_i % print_every == 0:\n",
        "        train_loss = train_loss / print_every\n",
        "        print(\"Iter %r: loss=%.4f, time=%.2fs\" %\n",
        "              (iter_i, train_loss, time.time()-start))\n",
        "        losses.append(train_loss)\n",
        "        print_num = 0\n",
        "        train_loss = 0.\n",
        "\n",
        "      # evaluate\n",
        "      if iter_i % eval_every == 0:\n",
        "        _, _, accuracy = eval_fn(model, dev_data, batch_size=eval_batch_size,\n",
        "                                 batch_fn=batch_fn, prep_fn=prep_fn)\n",
        "        dev_accs.append(accuracy)\n",
        "        print(\"iter %r: dev acc=%.4f\" % (iter_i, accuracy))\n",
        "\n",
        "        # save best model parameters\n",
        "        if accuracy > best_eval:\n",
        "          print(\"new highscore\")\n",
        "          best_eval = accuracy\n",
        "          best_iter = iter_i\n",
        "          path = \"{}.pt\".format(model.__class__.__name__)\n",
        "          ckpt = {\n",
        "              \"state_dict\": model.state_dict(),\n",
        "              \"optimizer_state_dict\": optimizer.state_dict(),\n",
        "              \"best_eval\": best_eval,\n",
        "              \"best_iter\": best_iter\n",
        "          }\n",
        "          torch.save(ckpt, path)\n",
        "\n",
        "      # done training\n",
        "      if iter_i == num_iterations:\n",
        "        print(\"Done training\")\n",
        "\n",
        "        # evaluate on train, dev, and test with best model\n",
        "        print(\"Loading best model\")\n",
        "        path = \"{}.pt\".format(model.__class__.__name__)\n",
        "        ckpt = torch.load(path)\n",
        "        model.load_state_dict(ckpt[\"state_dict\"])\n",
        "\n",
        "        #_, _, train_acc = eval_fn(\n",
        "        #    model, data_train, batch_size=eval_batch_size,\n",
        "        #    batch_fn=batch_fn, prep_fn=prep_fn)\n",
        "        _, _, dev_acc = eval_fn(\n",
        "            model, dev_data, batch_size=eval_batch_size,\n",
        "            batch_fn=batch_fn, prep_fn=prep_fn)\n",
        "        _, _, test_acc = eval_fn(\n",
        "            model, test_data, batch_size=eval_batch_size,\n",
        "            batch_fn=batch_fn, prep_fn=prep_fn)\n",
        "\n",
        "        print(\"best model iter {:d}: \"\n",
        "              \"dev acc={:.4f}, test acc={:.4f}\".format(\n",
        "                  best_iter, dev_acc, test_acc))\n",
        "\n",
        "        return losses, dev_accs, test_acc"
      ],
      "metadata": {
        "id": "K9ukRIgFPfLo"
      },
      "execution_count": null,
      "outputs": []
    },
    {
      "cell_type": "code",
      "source": [
        "def train_with_seeds(seeds, model_class, lr, *model_args,\n",
        "                     embeddings=None, finetune=False, **train_args):\n",
        "  \"\"\"\n",
        "  For each seed, trains the model and returns the results.\n",
        "\n",
        "  Args:\n",
        "    seeds: A list of seeds.\n",
        "    model_class: Class of the model to be trained.\n",
        "    lr: Learning rate.\n",
        "    *model_args: Arguments needed for initializing the model.\n",
        "    embeddings: Pre-trained word embeddings (should NOT contain vectors for <unk> and <pad>).\n",
        "    finetune: Fine-tunes the pre-trained word embeddings if True, keeps them frozen if False.\n",
        "    **train_args: Optional arguments for the train_model function.\n",
        "\n",
        "  Returns:\n",
        "    models: A list of the trained models.\n",
        "    losses: A list of lists of training losses during training (one list for every seed).\n",
        "    dev_accs: A list of lists of development accuracies during training (one list for every seed).\n",
        "    test_accs: A list of test accuracies of the best model after training (one value for every seed).\n",
        "  \"\"\"\n",
        "  models = []\n",
        "  losses = []\n",
        "  dev_accs = []\n",
        "  test_accs = []\n",
        "\n",
        "  for seed in seeds:\n",
        "    set_seed(seed)\n",
        "    model = model_class(*model_args)\n",
        "\n",
        "    if embeddings is not None:\n",
        "      # vectors for <unk> and <pad>\n",
        "      unk_pad = [np.random.normal(0., 1., 300), np.random.normal(0., 1., 300)]\n",
        "      full_embeddings = np.vstack((unk_pad, embeddings))\n",
        "      with torch.no_grad():\n",
        "        model.embed.weight.data.copy_(torch.from_numpy(full_embeddings))\n",
        "        model.embed.weight.requires_grad = finetune\n",
        "\n",
        "    model = model.to(device)\n",
        "    optimizer = optim.Adam(model.parameters(), lr)\n",
        "    results = train_model(model, optimizer, **train_args)\n",
        "    models.append(model)\n",
        "    losses.append(results[0])\n",
        "    dev_accs.append(results[1])\n",
        "    test_accs.append(results[2])\n",
        "  return models, losses, dev_accs, test_accs"
      ],
      "metadata": {
        "id": "5H04tcHd79eI"
      },
      "execution_count": null,
      "outputs": []
    },
    {
      "cell_type": "code",
      "source": [
        "def means_and_stds(inputs):\n",
        "  \"\"\"Return means and standard deviations along axis 0.\"\"\"\n",
        "  inputs = np.array(inputs)\n",
        "  means = np.mean(inputs, axis=0)\n",
        "  stds = np.std(inputs, axis=0)\n",
        "  return means, stds"
      ],
      "metadata": {
        "id": "-ya7m9uuQGPP"
      },
      "execution_count": null,
      "outputs": []
    },
    {
      "cell_type": "markdown",
      "source": [
        "# Experiment 1"
      ],
      "metadata": {
        "id": "axe89sjkgTJX"
      }
    },
    {
      "cell_type": "code",
      "source": [
        "seeds = [0, 1, 42, 123, 999]\n",
        "models, losses, dev_accs, test_accs = train_with_seeds(\n",
        "    seeds, BOW, 0.0005, len(v_train.w2i), len(t2i), v_train,\n",
        "    num_iterations=30000, print_every=1000, eval_every=1000)\n",
        "\n",
        "loss_means, loss_stds = means_and_stds(losses)\n",
        "dev_acc_means, dev_acc_stds = means_and_stds(dev_accs)\n",
        "test_acc_mean, test_acc_std = means_and_stds(test_accs)\n",
        "\n",
        "short_long_accs = evaluate_models(models, [test_short, test_long])\n",
        "short_long_means, short_long_stds = means_and_stds(short_long_accs)\n",
        "\n",
        "bow_results = (loss_means, loss_stds, dev_acc_means, dev_acc_stds,\n",
        "              test_acc_mean, test_acc_std, short_long_means, short_long_stds)\n",
        "with open('BOW_results1.pkl', 'wb') as f:\n",
        "  pickle.dump(bow_results, f)"
      ],
      "metadata": {
        "id": "rhKoEQJNi6CJ"
      },
      "execution_count": null,
      "outputs": []
    },
    {
      "cell_type": "code",
      "source": [
        "seeds = [0, 1, 42, 123, 999]\n",
        "models, losses, dev_accs, test_accs = train_with_seeds(\n",
        "    seeds, CBOW, 0.0005, len(v_train.w2i), 300, len(t2i), v_train,\n",
        "    num_iterations=30000, print_every=1000, eval_every=1000)\n",
        "\n",
        "loss_means, loss_stds = means_and_stds(losses)\n",
        "dev_acc_means, dev_acc_stds = means_and_stds(dev_accs)\n",
        "test_acc_mean, test_acc_std = means_and_stds(test_accs)\n",
        "\n",
        "short_long_accs = evaluate_models(models, [test_short, test_long])\n",
        "short_long_means, short_long_stds = means_and_stds(short_long_accs)\n",
        "\n",
        "cbow_results = (loss_means, loss_stds, dev_acc_means, dev_acc_stds,\n",
        "               test_acc_mean, test_acc_std, short_long_means, short_long_stds)\n",
        "with open('CBOW_results1.pkl', 'wb') as f:\n",
        "  pickle.dump(cbow_results, f)"
      ],
      "metadata": {
        "id": "il_aC2RBjDlh"
      },
      "execution_count": null,
      "outputs": []
    },
    {
      "cell_type": "code",
      "source": [
        "seeds = [0, 1, 42, 123, 999]\n",
        "models, losses, dev_accs, test_accs = train_with_seeds(\n",
        "    seeds, DeepCBOW, 0.0005, len(v_train.w2i), 300, 100, len(t2i), v_train,\n",
        "    num_iterations=30000, print_every=1000, eval_every=1000)\n",
        "\n",
        "loss_means, loss_stds = means_and_stds(losses)\n",
        "dev_acc_means, dev_acc_stds = means_and_stds(dev_accs)\n",
        "test_acc_mean, test_acc_std = means_and_stds(test_accs)\n",
        "\n",
        "short_long_accs = evaluate_models(models, [test_short, test_long])\n",
        "short_long_means, short_long_stds = means_and_stds(short_long_accs)\n",
        "\n",
        "deep_cbow_results = (loss_means, loss_stds, dev_acc_means, dev_acc_stds,\n",
        "                    test_acc_mean, test_acc_std, short_long_means, short_long_stds)\n",
        "with open('DeepCBOW_results1.pkl', 'wb') as f:\n",
        "  pickle.dump(deep_cbow_results, f)"
      ],
      "metadata": {
        "id": "rViqtDWFjQKZ"
      },
      "execution_count": null,
      "outputs": []
    },
    {
      "cell_type": "code",
      "source": [
        "seeds = [0, 1, 42, 123, 999]\n",
        "models, losses, dev_accs, test_accs = train_with_seeds(\n",
        "    seeds, PTDeepCBOW, 0.0005, len(v_glove.w2i), 300, 100, len(t2i), v_glove,\n",
        "    embeddings=vectors_glove, finetune=False,\n",
        "    num_iterations=30000, print_every=1000, eval_every=1000)\n",
        "\n",
        "loss_means, loss_stds = means_and_stds(losses)\n",
        "dev_acc_means, dev_acc_stds = means_and_stds(dev_accs)\n",
        "test_acc_mean, test_acc_std = means_and_stds(test_accs)\n",
        "\n",
        "short_long_accs = evaluate_models(models, [test_short, test_long])\n",
        "short_long_means, short_long_stds = means_and_stds(short_long_accs)\n",
        "\n",
        "pt_deep_cbow_results = (loss_means, loss_stds, dev_acc_means, dev_acc_stds,\n",
        "                        test_acc_mean, test_acc_std, short_long_means, short_long_stds)\n",
        "with open('PTDeepCBOW_results1.pkl', 'wb') as f:\n",
        "  pickle.dump(pt_deep_cbow_results, f)"
      ],
      "metadata": {
        "id": "gQW1VNAnjTdE"
      },
      "execution_count": null,
      "outputs": []
    },
    {
      "cell_type": "code",
      "source": [
        "seeds = [0, 1, 42, 123, 999]\n",
        "models, losses, dev_accs, test_accs = train_with_seeds(\n",
        "    seeds, LSTMClassifier, 2e-4, len(v_glove.w2i), 300, 168, len(t2i), v_glove,\n",
        "    embeddings=vectors_glove, finetune=False,\n",
        "    num_iterations=1500, print_every=50, eval_every=50, batch_size=25,\n",
        "    batch_fn=get_minibatch, prep_fn=prepare_minibatch, eval_fn=evaluate)\n",
        "\n",
        "loss_means, loss_stds = means_and_stds(losses)\n",
        "dev_acc_means, dev_acc_stds = means_and_stds(dev_accs)\n",
        "test_acc_mean, test_acc_std = means_and_stds(test_accs)\n",
        "\n",
        "short_long_accs = evaluate_models(models, [test_short, test_long],\n",
        "                                  eval_fn=evaluate, batch_fn=get_minibatch,\n",
        "                                  prep_fn=prepare_minibatch, batch_size=25)\n",
        "short_long_means, short_long_stds = means_and_stds(short_long_accs)\n",
        "\n",
        "lstm_results = (loss_means, loss_stds, dev_acc_means, dev_acc_stds,\n",
        "                test_acc_mean, test_acc_std, short_long_means, short_long_stds)\n",
        "with open('LSTM_results1.pkl', 'wb') as f:\n",
        "  pickle.dump(lstm_results, f)"
      ],
      "metadata": {
        "id": "X2c4mhnQjjtO"
      },
      "execution_count": null,
      "outputs": []
    },
    {
      "cell_type": "code",
      "source": [
        "seeds = [0, 1, 42, 123, 999]\n",
        "models, losses, dev_accs, test_accs = train_with_seeds(\n",
        "    seeds, TreeLSTMClassifier, 2e-4, len(v_glove.w2i), 300, 150, len(t2i), v_glove,\n",
        "    embeddings=vectors_glove, finetune=False,\n",
        "    num_iterations=1500, print_every=50, eval_every=50, batch_size=25,\n",
        "    batch_fn=get_minibatch, prep_fn=prepare_treelstm_minibatch, eval_fn=evaluate)\n",
        "\n",
        "loss_means, loss_stds = means_and_stds(losses)\n",
        "dev_acc_means, dev_acc_stds = means_and_stds(dev_accs)\n",
        "test_acc_mean, test_acc_std = means_and_stds(test_accs)\n",
        "\n",
        "short_long_accs = evaluate_models(models, [test_short, test_long],\n",
        "                                  eval_fn=evaluate, batch_fn=get_minibatch,\n",
        "                                  prep_fn=prepare_treelstm_minibatch, batch_size=25)\n",
        "short_long_means, short_long_stds = means_and_stds(short_long_accs)\n",
        "\n",
        "tree_lstm_results = (loss_means, loss_stds, dev_acc_means, dev_acc_stds,\n",
        "                     test_acc_mean, test_acc_std, short_long_means, short_long_stds)\n",
        "with open('TreeLSTM_results1.pkl', 'wb') as f:\n",
        "  pickle.dump(tree_lstm_results, f)"
      ],
      "metadata": {
        "id": "a2PMOZhfkMxK"
      },
      "execution_count": null,
      "outputs": []
    },
    {
      "cell_type": "code",
      "source": [
        "seeds = [0, 1, 42, 123, 999]\n",
        "models, losses, dev_accs, test_accs = train_with_seeds(\n",
        "    seeds, ChildSumClassifier, 2e-4, len(v_glove.w2i), 300, 150, len(t2i), v_glove,\n",
        "    embeddings=vectors_glove, finetune=False,\n",
        "    num_iterations=1500, print_every=50, eval_every=50, batch_size=25,\n",
        "    batch_fn=get_minibatch, prep_fn=prepare_treelstm_minibatch, eval_fn=evaluate)\n",
        "\n",
        "loss_means, loss_stds = means_and_stds(losses)\n",
        "dev_acc_means, dev_acc_stds = means_and_stds(dev_accs)\n",
        "test_acc_mean, test_acc_std = means_and_stds(test_accs)\n",
        "\n",
        "short_long_accs = evaluate_models(models, [test_short, test_long],\n",
        "                                  eval_fn=evaluate, batch_fn=get_minibatch,\n",
        "                                  prep_fn=prepare_treelstm_minibatch, batch_size=25)\n",
        "short_long_means, short_long_stds = means_and_stds(short_long_accs)\n",
        "\n",
        "child_sum_results = (loss_means, loss_stds, dev_acc_means, dev_acc_stds,\n",
        "                     test_acc_mean, test_acc_std, short_long_means, short_long_stds)\n",
        "with open('ChildSum_results1.pkl', 'wb') as f:\n",
        "  pickle.dump(child_sum_results, f)"
      ],
      "metadata": {
        "id": "aF3r7Q22hZRw"
      },
      "execution_count": null,
      "outputs": []
    },
    {
      "cell_type": "markdown",
      "source": [
        "# Experiment 2"
      ],
      "metadata": {
        "id": "kNZq01cyREft"
      }
    },
    {
      "cell_type": "code",
      "source": [
        "seeds = [0, 1, 42, 123, 999]\n",
        "models, losses, dev_accs, test_accs = train_with_seeds(\n",
        "    seeds, TreeLSTMClassifier, 2e-4, len(v_glove.w2i), 300, 150, len(t2i), v_glove,\n",
        "    embeddings=vectors_glove, finetune=False,\n",
        "    num_iterations=1500, print_every=50, eval_every=50, batch_size=25,\n",
        "    batch_fn=get_minibatch, prep_fn=prepare_treelstm_minibatch, eval_fn=evaluate,\n",
        "    data_train=train_extra)\n",
        "\n",
        "loss_means, loss_stds = means_and_stds(losses)\n",
        "dev_acc_means, dev_acc_stds = means_and_stds(dev_accs)\n",
        "test_acc_mean, test_acc_std = means_and_stds(test_accs)\n",
        "\n",
        "short_long_accs = evaluate_models(models, [test_short, test_long],\n",
        "                                  eval_fn=evaluate, batch_fn=get_minibatch,\n",
        "                                  prep_fn=prepare_treelstm_minibatch, batch_size=25)\n",
        "short_long_means, short_long_stds = means_and_stds(short_long_accs)\n",
        "\n",
        "tree_lstm_results = (loss_means, loss_stds, dev_acc_means, dev_acc_stds,\n",
        "                     test_acc_mean, test_acc_std, short_long_means, short_long_stds)\n",
        "with open('TreeLSTM_results2.pkl', 'wb') as f:\n",
        "  pickle.dump(tree_lstm_results, f)"
      ],
      "metadata": {
        "id": "0qLFN-xjTemm"
      },
      "execution_count": null,
      "outputs": []
    },
    {
      "cell_type": "code",
      "source": [
        "seeds = [0, 1, 42, 123, 999]\n",
        "models, losses, dev_accs, test_accs = train_with_seeds(\n",
        "    seeds, ChildSumClassifier, 2e-4, len(v_glove.w2i), 300, 150, len(t2i), v_glove,\n",
        "    embeddings=vectors_glove, finetune=False,\n",
        "    num_iterations=1500, print_every=50, eval_every=50, batch_size=25,\n",
        "    batch_fn=get_minibatch, prep_fn=prepare_treelstm_minibatch, eval_fn=evaluate,\n",
        "    data_train=train_extra)\n",
        "\n",
        "loss_means, loss_stds = means_and_stds(losses)\n",
        "dev_acc_means, dev_acc_stds = means_and_stds(dev_accs)\n",
        "test_acc_mean, test_acc_std = means_and_stds(test_accs)\n",
        "\n",
        "short_long_accs = evaluate_models(models, [test_short, test_long],\n",
        "                                  eval_fn=evaluate, batch_fn=get_minibatch,\n",
        "                                  prep_fn=prepare_treelstm_minibatch, batch_size=25)\n",
        "short_long_means, short_long_stds = means_and_stds(short_long_accs)\n",
        "\n",
        "child_sum_results = (loss_means, loss_stds, dev_acc_means, dev_acc_stds,\n",
        "                     test_acc_mean, test_acc_std, short_long_means, short_long_stds)\n",
        "with open('ChildSum_results2.pkl', 'wb') as f:\n",
        "  pickle.dump(child_sum_results, f)"
      ],
      "metadata": {
        "id": "40v_RZOqkZ-c"
      },
      "execution_count": null,
      "outputs": []
    },
    {
      "cell_type": "markdown",
      "source": [
        "# Results"
      ],
      "metadata": {
        "id": "b3-XfD7yRiTG"
      }
    },
    {
      "cell_type": "code",
      "source": [
        "with open('BOW_results1.pkl', 'rb') as f:\n",
        "  bow_results = pickle.load(f)\n",
        "with open('CBOW_results1.pkl', 'rb') as f:\n",
        "  cbow_results = pickle.load(f)\n",
        "with open('DeepCBOW_results1.pkl', 'rb') as f:\n",
        "  deep_cbow_results = pickle.load(f)\n",
        "with open('PTDeepCBOW_results1.pkl', 'rb') as f:\n",
        "  pt_deep_cbow_results = pickle.load(f)\n",
        "with open('LSTM_results1.pkl', 'rb') as f:\n",
        "  lstm_results = pickle.load(f)\n",
        "with open('TreeLSTM_results1.pkl', 'rb') as f:\n",
        "  tree_lstm_results = pickle.load(f)\n",
        "with open('ChildSum_results1.pkl', 'rb') as f:\n",
        "  child_sum_results = pickle.load(f)\n",
        "\n",
        "with open('TreeLSTM_results2.pkl', 'rb') as f:\n",
        "  tree_lstm_results2 = pickle.load(f)\n",
        "with open('ChildSum_results2.pkl', 'rb') as f:\n",
        "  child_sum_results2 = pickle.load(f)"
      ],
      "metadata": {
        "id": "Rsir1IktRmJA"
      },
      "execution_count": 21,
      "outputs": []
    },
    {
      "cell_type": "code",
      "source": [
        "print(f'test accuracy mean = {bow_results[4]}, std = {bow_results[5]}')"
      ],
      "metadata": {
        "id": "ZD9n5i0yR6Lk",
        "colab": {
          "base_uri": "https://localhost:8080/"
        },
        "outputId": "efe2be0e-0313-4122-ee75-8c1961385c25"
      },
      "execution_count": 7,
      "outputs": [
        {
          "output_type": "stream",
          "name": "stdout",
          "text": [
            "test accuracy mean = 0.25348416289592757, std = 0.015385680027043196\n"
          ]
        }
      ]
    },
    {
      "cell_type": "code",
      "source": [
        "print(f'test accuracy mean = {cbow_results[4]}, std = {cbow_results[5]}')"
      ],
      "metadata": {
        "id": "hvS-FrX4R95A",
        "colab": {
          "base_uri": "https://localhost:8080/"
        },
        "outputId": "f96e0dbf-8986-4c4c-c6f7-38eecd192c5c"
      },
      "execution_count": 8,
      "outputs": [
        {
          "output_type": "stream",
          "name": "stdout",
          "text": [
            "test accuracy mean = 0.34533936651583713, std = 0.01782001334617196\n"
          ]
        }
      ]
    },
    {
      "cell_type": "code",
      "source": [
        "print(f'test accuracy mean = {deep_cbow_results[4]}, std = {deep_cbow_results[5]}')"
      ],
      "metadata": {
        "id": "II7STfdMSQEG",
        "colab": {
          "base_uri": "https://localhost:8080/"
        },
        "outputId": "24f5f3be-6dd4-425e-eefc-7337aa9ddb11"
      },
      "execution_count": 9,
      "outputs": [
        {
          "output_type": "stream",
          "name": "stdout",
          "text": [
            "test accuracy mean = 0.3695927601809955, std = 0.014483596743908566\n"
          ]
        }
      ]
    },
    {
      "cell_type": "code",
      "source": [
        "print(f'test accuracy mean = {pt_deep_cbow_results[4]}, std = {pt_deep_cbow_results[5]}')"
      ],
      "metadata": {
        "colab": {
          "base_uri": "https://localhost:8080/"
        },
        "id": "mPY3tnudUl57",
        "outputId": "4d91024f-f738-4e70-f230-3f4ed035e9ea"
      },
      "execution_count": 10,
      "outputs": [
        {
          "output_type": "stream",
          "name": "stdout",
          "text": [
            "test accuracy mean = 0.433212669683258, std = 0.005100091512617329\n"
          ]
        }
      ]
    },
    {
      "cell_type": "code",
      "source": [
        "print(f'test accuracy mean = {lstm_results[4]}, std = {lstm_results[5]}')"
      ],
      "metadata": {
        "colab": {
          "base_uri": "https://localhost:8080/"
        },
        "id": "GBasHdaAUmdT",
        "outputId": "20fdad28-13c1-47a0-a551-6ac1a870bfa8"
      },
      "execution_count": 11,
      "outputs": [
        {
          "output_type": "stream",
          "name": "stdout",
          "text": [
            "test accuracy mean = 0.46126696832579184, std = 0.004512199407173908\n"
          ]
        }
      ]
    },
    {
      "cell_type": "code",
      "source": [
        "print(f'test accuracy mean = {tree_lstm_results[4]}, std = {tree_lstm_results[5]}')"
      ],
      "metadata": {
        "colab": {
          "base_uri": "https://localhost:8080/"
        },
        "id": "0UwxNYB5Um9n",
        "outputId": "9aa739f2-7dc9-49b8-9dfb-222deb646597"
      },
      "execution_count": 12,
      "outputs": [
        {
          "output_type": "stream",
          "name": "stdout",
          "text": [
            "test accuracy mean = 0.4761990950226244, std = 0.004250504458214443\n"
          ]
        }
      ]
    },
    {
      "cell_type": "code",
      "source": [
        "print(f'test accuracy mean = {child_sum_results[4]}, std = {child_sum_results[5]}')"
      ],
      "metadata": {
        "colab": {
          "base_uri": "https://localhost:8080/"
        },
        "id": "7pk-4ONzUnXx",
        "outputId": "7e63c26a-3efe-4b2c-a825-ca68427a2218"
      },
      "execution_count": 13,
      "outputs": [
        {
          "output_type": "stream",
          "name": "stdout",
          "text": [
            "test accuracy mean = 0.466606334841629, std = 0.006330961966476988\n"
          ]
        }
      ]
    },
    {
      "cell_type": "code",
      "source": [
        "print(f'test accuracy mean = {tree_lstm_results2[4]}, std = {tree_lstm_results2[5]}')"
      ],
      "metadata": {
        "colab": {
          "base_uri": "https://localhost:8080/"
        },
        "id": "_YEaw-doUnwG",
        "outputId": "952736dd-98e3-4176-b1cd-9a28e1c3c99f"
      },
      "execution_count": 14,
      "outputs": [
        {
          "output_type": "stream",
          "name": "stdout",
          "text": [
            "test accuracy mean = 0.4530316742081448, std = 0.005846742191932341\n"
          ]
        }
      ]
    },
    {
      "cell_type": "code",
      "source": [
        "print(f'test accuracy mean = {child_sum_results2[4]}, std = {child_sum_results2[5]}')"
      ],
      "metadata": {
        "colab": {
          "base_uri": "https://localhost:8080/"
        },
        "id": "BzPRYbTWUoG7",
        "outputId": "b261f3f3-df37-4168-a59f-3e0eb10d944a"
      },
      "execution_count": 15,
      "outputs": [
        {
          "output_type": "stream",
          "name": "stdout",
          "text": [
            "test accuracy mean = 0.45511312217194566, std = 0.016841821040965904\n"
          ]
        }
      ]
    },
    {
      "cell_type": "code",
      "source": [
        "width = 0.25\n",
        "model_names = ['BOW', 'CBOW', 'DeepCBOW', '\\nPTDeepCBOW', 'LSTM', '\\nBinaryTreeLSTM', 'ChildSumTreeLSTM']\n",
        "x1 = np.arange(len(model_names))\n",
        "x2 = [x + width for x in x1]\n",
        "\n",
        "ys = [bow_results[6], cbow_results[6], deep_cbow_results[6], pt_deep_cbow_results[6],\n",
        "      lstm_results[6], tree_lstm_results[6], child_sum_results[6]]\n",
        "y1 = [y[0] for y in ys]\n",
        "y2 = [y[1] for y in ys]\n",
        "\n",
        "y_stds = [bow_results[7], cbow_results[7], deep_cbow_results[7], pt_deep_cbow_results[7],\n",
        "          lstm_results[7], tree_lstm_results[7], child_sum_results[7]]\n",
        "y1_stds = [y[0] for y in y_stds]\n",
        "y2_stds = [y[1] for y in y_stds]\n",
        "\n",
        "\n",
        "sns.set_style(\"whitegrid\")\n",
        "\n",
        "plt.figure(figsize=(10, 6))\n",
        "bars1 = plt.bar(x1, y1, width, yerr=y1_stds, label='Short', color='skyblue', capsize=5)\n",
        "bars2 = plt.bar(x2, y2, width, yerr=y2_stds, label='Long', color='salmon', capsize=5)\n",
        "\n",
        "plt.xticks([r + width / 2 for r in range(len(x1))], model_names)\n",
        "\n",
        "plt.ylabel('Test Accuracy (%)')\n",
        "plt.title('Test Accuracies on Shorter and Longer Sentences')\n",
        "plt.legend()\n",
        "\n",
        "\n",
        "plt.grid(axis='y')\n",
        "\n",
        "plt.show()"
      ],
      "metadata": {
        "id": "cNS9wMLrRoTj",
        "colab": {
          "base_uri": "https://localhost:8080/",
          "height": 561
        },
        "outputId": "7c2f0a0b-2e22-40ba-a508-599e9004915e"
      },
      "execution_count": 28,
      "outputs": [
        {
          "output_type": "display_data",
          "data": {
            "text/plain": [
              "<Figure size 1000x600 with 1 Axes>"
            ],
            "image/png": "[encoded data removed]"
          },
          "metadata": {}
        }
      ]
    }
  ]
}